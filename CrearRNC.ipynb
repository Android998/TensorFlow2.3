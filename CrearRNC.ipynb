{
  "nbformat": 4,
  "nbformat_minor": 0,
  "metadata": {
    "colab": {
      "name": "CrearRNC.ipynb",
      "provenance": [],
      "authorship_tag": "ABX9TyORuk5p8ZWUYb3j4+i5pwKB",
      "include_colab_link": true
    },
    "kernelspec": {
      "name": "python3",
      "display_name": "Python 3"
    }
  },
  "cells": [
    {
      "cell_type": "markdown",
      "metadata": {
        "id": "view-in-github",
        "colab_type": "text"
      },
      "source": [
        "<a href=\"https://colab.research.google.com/github/Android998/TensorFlow2.3/blob/master/CrearRNC.ipynb\" target=\"_parent\"><img src=\"https://colab.research.google.com/assets/colab-badge.svg\" alt=\"Open In Colab\"/></a>"
      ]
    },
    {
      "cell_type": "markdown",
      "metadata": {
        "id": "Oy6M5HuUO9XF",
        "colab_type": "text"
      },
      "source": [
        "# **Creando nuestra propia RNC**"
      ]
    },
    {
      "cell_type": "markdown",
      "metadata": {
        "id": "A-4xIjqAPIr6",
        "colab_type": "text"
      },
      "source": [
        "### **Paso 1: Importar las librerias**"
      ]
    },
    {
      "cell_type": "code",
      "metadata": {
        "id": "7AFSJVRRO2Sh",
        "colab_type": "code",
        "colab": {}
      },
      "source": [
        "import tensorflow as tf\n",
        "import matplotlib.pyplot as plt\n",
        "from tensorflow.keras.datasets import cifar10"
      ],
      "execution_count": 1,
      "outputs": []
    },
    {
      "cell_type": "code",
      "metadata": {
        "id": "N8y6x-LjPvw7",
        "colab_type": "code",
        "colab": {
          "base_uri": "https://localhost:8080/",
          "height": 35
        },
        "outputId": "1ea64685-9552-4ea4-df05-1415fd556f8d"
      },
      "source": [
        "tf.__version__"
      ],
      "execution_count": null,
      "outputs": [
        {
          "output_type": "execute_result",
          "data": {
            "application/vnd.google.colaboratory.intrinsic+json": {
              "type": "string"
            },
            "text/plain": [
              "'2.3.0'"
            ]
          },
          "metadata": {
            "tags": []
          },
          "execution_count": 2
        }
      ]
    },
    {
      "cell_type": "code",
      "metadata": {
        "id": "Qxw_XW0ZPzmG",
        "colab_type": "code",
        "colab": {}
      },
      "source": [
        "%matplotlib inline"
      ],
      "execution_count": 2,
      "outputs": []
    },
    {
      "cell_type": "markdown",
      "metadata": {
        "id": "LXenwb1AP5b2",
        "colab_type": "text"
      },
      "source": [
        "### **Paso 2: Pre procesado de datos**"
      ]
    },
    {
      "cell_type": "markdown",
      "metadata": {
        "id": "a42Y_khvQOw2",
        "colab_type": "text"
      },
      "source": [
        "#### **Cargar Cifar 10**"
      ]
    },
    {
      "cell_type": "code",
      "metadata": {
        "id": "SU4jcQGUP-Kj",
        "colab_type": "code",
        "colab": {}
      },
      "source": [
        "#Configurar el nombre de las clases del dataset\n",
        "calss_names = [\"avion\", \"coche\", \"pájaro\", \"gato\", \"ciervo\", \"perro\", \"rana\", \"caballo\", \"barco\", \"camión\"]"
      ],
      "execution_count": 3,
      "outputs": []
    },
    {
      "cell_type": "code",
      "metadata": {
        "id": "G-uqobaGQq3I",
        "colab_type": "code",
        "colab": {
          "base_uri": "https://localhost:8080/",
          "height": 50
        },
        "outputId": "66b8182b-0fa0-4963-820a-87f214bc080e"
      },
      "source": [
        "#Cargar el dataset\n",
        "[X_train, y_train], [X_test, y_test] = cifar10.load_data()"
      ],
      "execution_count": 4,
      "outputs": [
        {
          "output_type": "stream",
          "text": [
            "Downloading data from https://www.cs.toronto.edu/~kriz/cifar-10-python.tar.gz\n",
            "170500096/170498071 [==============================] - 11s 0us/step\n"
          ],
          "name": "stdout"
        }
      ]
    },
    {
      "cell_type": "markdown",
      "metadata": {
        "id": "mkcn_K6oQ5pu",
        "colab_type": "text"
      },
      "source": [
        "#### **Normalizar las imagenes**"
      ]
    },
    {
      "cell_type": "code",
      "metadata": {
        "id": "NNNARtdrQ-u6",
        "colab_type": "code",
        "colab": {}
      },
      "source": [
        "X_train = X_train/255.0"
      ],
      "execution_count": 5,
      "outputs": []
    },
    {
      "cell_type": "code",
      "metadata": {
        "id": "xys0VGFTRGn4",
        "colab_type": "code",
        "colab": {
          "base_uri": "https://localhost:8080/",
          "height": 34
        },
        "outputId": "8119a5d4-46a8-4eb4-f1ef-0cead5c46088"
      },
      "source": [
        "X_train.shape"
      ],
      "execution_count": null,
      "outputs": [
        {
          "output_type": "execute_result",
          "data": {
            "text/plain": [
              "(50000, 32, 32, 3)"
            ]
          },
          "metadata": {
            "tags": []
          },
          "execution_count": 7
        }
      ]
    },
    {
      "cell_type": "code",
      "metadata": {
        "id": "KUfFXbC1RKoO",
        "colab_type": "code",
        "colab": {}
      },
      "source": [
        "X_test = X_test/255.0"
      ],
      "execution_count": 6,
      "outputs": []
    },
    {
      "cell_type": "code",
      "metadata": {
        "id": "jhDpfj3HRO-1",
        "colab_type": "code",
        "colab": {
          "base_uri": "https://localhost:8080/",
          "height": 283
        },
        "outputId": "e05fe56e-d451-4933-df1f-4c7117434ec8"
      },
      "source": [
        "plt.imshow(X_test[10])"
      ],
      "execution_count": 7,
      "outputs": [
        {
          "output_type": "execute_result",
          "data": {
            "text/plain": [
              "<matplotlib.image.AxesImage at 0x7f90822cf160>"
            ]
          },
          "metadata": {
            "tags": []
          },
          "execution_count": 7
        },
        {
          "output_type": "display_data",
          "data": {
            "image/png": "[encoded data removed]",
            "text/plain": [
              "<Figure size 432x288 with 1 Axes>"
            ]
          },
          "metadata": {
            "tags": [],
            "needs_background": "light"
          }
        }
      ]
    },
    {
      "cell_type": "code",
      "metadata": {
        "id": "wIvaYMLMSlnL",
        "colab_type": "code",
        "colab": {
          "base_uri": "https://localhost:8080/",
          "height": 34
        },
        "outputId": "bb9eea86-b37d-41de-ca84-f91a97f3279a"
      },
      "source": [
        "y_test[10]"
      ],
      "execution_count": 8,
      "outputs": [
        {
          "output_type": "execute_result",
          "data": {
            "text/plain": [
              "array([0], dtype=uint8)"
            ]
          },
          "metadata": {
            "tags": []
          },
          "execution_count": 8
        }
      ]
    },
    {
      "cell_type": "markdown",
      "metadata": {
        "id": "ewubL778TBTj",
        "colab_type": "text"
      },
      "source": [
        "### **Paso 3: Construir una red neuronal convolucional**"
      ]
    },
    {
      "cell_type": "markdown",
      "metadata": {
        "id": "hLbD3GVcTHiW",
        "colab_type": "text"
      },
      "source": [
        "#### **Definir el modelo**"
      ]
    },
    {
      "cell_type": "code",
      "metadata": {
        "id": "Ujw0EK-BTKrj",
        "colab_type": "code",
        "colab": {}
      },
      "source": [
        "modelo = tf.keras.models.Sequential()"
      ],
      "execution_count": 9,
      "outputs": []
    },
    {
      "cell_type": "markdown",
      "metadata": {
        "id": "wbnXnGIBTRLM",
        "colab_type": "text"
      },
      "source": [
        "#### **Añadir la primera capa de convolución**\n",
        "Hyper parametros de la capa de la RNC:\n",
        "- Filtros: 32\n",
        "- Tamaño del kerne: 3\n",
        "- padding: same\n",
        "- Función de activación: ReLU\n",
        "- Input_shape: (32, 32, 3)"
      ]
    },
    {
      "cell_type": "code",
      "metadata": {
        "id": "EOYZva0bTxif",
        "colab_type": "code",
        "colab": {}
      },
      "source": [
        "modelo.add(tf.keras.layers.Conv2D(filters=32, kernel_size=3, padding=\"same\", activation=\"relu\", input_shape=(32, 32, 3)))"
      ],
      "execution_count": 10,
      "outputs": []
    },
    {
      "cell_type": "code",
      "metadata": {
        "id": "QcmylG2DU_oE",
        "colab_type": "code",
        "colab": {}
      },
      "source": [
        "modelo.add(tf.keras.layers.BatchNormalization())"
      ],
      "execution_count": 11,
      "outputs": []
    },
    {
      "cell_type": "markdown",
      "metadata": {
        "id": "0gGk_luLUJB2",
        "colab_type": "text"
      },
      "source": [
        "#### **Añadir una segunda capa convolucional y la capa de max-pooling**\n",
        "Hyper parametros de la capa de la RNC:\n",
        "- Filtros: 64\n",
        "- Tamaño del kerne: 3\n",
        "- padding: same\n",
        "- Función de activación: ReLU\n",
        "\n",
        "Hyper parametros de la capa de MaxPool:\n",
        "- pool_size: 2\n",
        "- strides: 2\n",
        "- padding: valid"
      ]
    },
    {
      "cell_type": "code",
      "metadata": {
        "id": "K8RCO3IFVtnV",
        "colab_type": "code",
        "colab": {}
      },
      "source": [
        "modelo.add(tf.keras.layers.Conv2D(filters=64, kernel_size=3, padding=\"same\", activation=\"relu\", input_shape=(32, 32, 3)))\n",
        "modelo.add(tf.keras.layers.MaxPool2D(pool_size=2, strides=2, padding=\"same\"))"
      ],
      "execution_count": 12,
      "outputs": []
    },
    {
      "cell_type": "code",
      "metadata": {
        "id": "3BlycT9QWR-R",
        "colab_type": "code",
        "colab": {}
      },
      "source": [
        "modelo.add(tf.keras.layers.Dropout(0.2))\n",
        "modelo.add(tf.keras.layers.BatchNormalization())"
      ],
      "execution_count": 13,
      "outputs": []
    },
    {
      "cell_type": "markdown",
      "metadata": {
        "id": "c2Zdm3IUWlI_",
        "colab_type": "text"
      },
      "source": [
        "#### **Añadir la tercera capa de convolución**\n",
        "Hyper parametros de la capa de la RNC:\n",
        "- Filtros: 32\n",
        "- Tamaño del kerne: 3\n",
        "- padding: same\n",
        "- Función de activación: ReLU\n",
        "- Input_shape: (32, 32, 3)"
      ]
    },
    {
      "cell_type": "code",
      "metadata": {
        "id": "Hha5vhdiW18H",
        "colab_type": "code",
        "colab": {}
      },
      "source": [
        "modelo.add(tf.keras.layers.Conv2D(filters=32, kernel_size=3, padding=\"same\", activation=\"relu\", input_shape=(32, 32, 3)))"
      ],
      "execution_count": 14,
      "outputs": []
    },
    {
      "cell_type": "code",
      "metadata": {
        "id": "gWTX8bhaXGau",
        "colab_type": "code",
        "colab": {}
      },
      "source": [
        "modelo.add(tf.keras.layers.BatchNormalization())"
      ],
      "execution_count": 15,
      "outputs": []
    },
    {
      "cell_type": "markdown",
      "metadata": {
        "id": "5bJelBW5W943",
        "colab_type": "text"
      },
      "source": [
        "#### **Añadir una cuarta capa convolucional y la capa de max-pooling**\n",
        "Hyper parametros de la capa de la RNC:\n",
        "- Filtros: 64\n",
        "- Tamaño del kerne: 3\n",
        "- padding: same\n",
        "- Función de activación: ReLU\n",
        "\n",
        "Hyper parametros de la capa de MaxPool:\n",
        "- pool_size: 2\n",
        "- strides: 2\n",
        "- padding: valid"
      ]
    },
    {
      "cell_type": "code",
      "metadata": {
        "id": "i5Yb1nBLXAXL",
        "colab_type": "code",
        "colab": {}
      },
      "source": [
        "modelo.add(tf.keras.layers.Conv2D(filters=64, kernel_size=3, padding=\"same\", activation=\"relu\", input_shape=(32, 32, 3)))\n",
        "modelo.add(tf.keras.layers.MaxPool2D(pool_size=2, strides=2, padding=\"same\"))\n",
        "modelo.add(tf.keras.layers.Dropout(0.2))\n",
        "modelo.add(tf.keras.layers.BatchNormalization())"
      ],
      "execution_count": 16,
      "outputs": []
    },
    {
      "cell_type": "markdown",
      "metadata": {
        "id": "azX2odMMXK6d",
        "colab_type": "text"
      },
      "source": [
        "#### **Añadir la capa de flattering**"
      ]
    },
    {
      "cell_type": "code",
      "metadata": {
        "id": "wWibyzDfXOEE",
        "colab_type": "code",
        "colab": {}
      },
      "source": [
        "modelo.add(tf.keras.layers.Flatten())"
      ],
      "execution_count": 17,
      "outputs": []
    },
    {
      "cell_type": "markdown",
      "metadata": {
        "id": "DZ96xGFdXWK-",
        "colab_type": "text"
      },
      "source": [
        "#### **Añadir la primera capa fully connected**\n",
        "Hyper parametros de la capa totalmente conectada:\n",
        "- units/neurons:128\n",
        "- activation: ReLU"
      ]
    },
    {
      "cell_type": "code",
      "metadata": {
        "id": "qye-qR8KXqM7",
        "colab_type": "code",
        "colab": {}
      },
      "source": [
        "modelo.add(tf.keras.layers.Dense(units=128, activation=\"relu\"))"
      ],
      "execution_count": 18,
      "outputs": []
    },
    {
      "cell_type": "code",
      "metadata": {
        "id": "hvz3_kmnX6h6",
        "colab_type": "code",
        "colab": {}
      },
      "source": [
        "modelo.add(tf.keras.layers.Dropout(0.2))\n",
        "modelo.add(tf.keras.layers.BatchNormalization())"
      ],
      "execution_count": 19,
      "outputs": []
    },
    {
      "cell_type": "code",
      "metadata": {
        "id": "CnspejzCYCL0",
        "colab_type": "code",
        "colab": {}
      },
      "source": [
        "modelo.add(tf.keras.layers.Dense(units=256, activation=\"relu\"))"
      ],
      "execution_count": 20,
      "outputs": []
    },
    {
      "cell_type": "markdown",
      "metadata": {
        "id": "cYiEyObbYGfI",
        "colab_type": "text"
      },
      "source": [
        "#### **Añadir la capa de salida**"
      ]
    },
    {
      "cell_type": "code",
      "metadata": {
        "id": "n8OKBqWJYKrE",
        "colab_type": "code",
        "colab": {}
      },
      "source": [
        "modelo.add(tf.keras.layers.Dense(units=10, activation=\"softmax\"))"
      ],
      "execution_count": 21,
      "outputs": []
    },
    {
      "cell_type": "code",
      "metadata": {
        "id": "eXWiujQ_YRKS",
        "colab_type": "code",
        "colab": {
          "base_uri": "https://localhost:8080/",
          "height": 765
        },
        "outputId": "34a25a99-e1d2-419e-95be-68916cc13630"
      },
      "source": [
        "modelo.summary()"
      ],
      "execution_count": 22,
      "outputs": [
        {
          "output_type": "stream",
          "text": [
            "Model: \"sequential\"\n",
            "_________________________________________________________________\n",
            "Layer (type)                 Output Shape              Param #   \n",
            "=================================================================\n",
            "conv2d (Conv2D)              (None, 32, 32, 32)        896       \n",
            "_________________________________________________________________\n",
            "batch_normalization (BatchNo (None, 32, 32, 32)        128       \n",
            "_________________________________________________________________\n",
            "conv2d_1 (Conv2D)            (None, 32, 32, 64)        18496     \n",
            "_________________________________________________________________\n",
            "max_pooling2d (MaxPooling2D) (None, 16, 16, 64)        0         \n",
            "_________________________________________________________________\n",
            "dropout (Dropout)            (None, 16, 16, 64)        0         \n",
            "_________________________________________________________________\n",
            "batch_normalization_1 (Batch (None, 16, 16, 64)        256       \n",
            "_________________________________________________________________\n",
            "conv2d_2 (Conv2D)            (None, 16, 16, 32)        18464     \n",
            "_________________________________________________________________\n",
            "batch_normalization_2 (Batch (None, 16, 16, 32)        128       \n",
            "_________________________________________________________________\n",
            "conv2d_3 (Conv2D)            (None, 16, 16, 64)        18496     \n",
            "_________________________________________________________________\n",
            "max_pooling2d_1 (MaxPooling2 (None, 8, 8, 64)          0         \n",
            "_________________________________________________________________\n",
            "dropout_1 (Dropout)          (None, 8, 8, 64)          0         \n",
            "_________________________________________________________________\n",
            "batch_normalization_3 (Batch (None, 8, 8, 64)          256       \n",
            "_________________________________________________________________\n",
            "flatten (Flatten)            (None, 4096)              0         \n",
            "_________________________________________________________________\n",
            "dense (Dense)                (None, 128)               524416    \n",
            "_________________________________________________________________\n",
            "dropout_2 (Dropout)          (None, 128)               0         \n",
            "_________________________________________________________________\n",
            "batch_normalization_4 (Batch (None, 128)               512       \n",
            "_________________________________________________________________\n",
            "dense_1 (Dense)              (None, 256)               33024     \n",
            "_________________________________________________________________\n",
            "dense_2 (Dense)              (None, 10)                2570      \n",
            "=================================================================\n",
            "Total params: 617,642\n",
            "Trainable params: 617,002\n",
            "Non-trainable params: 640\n",
            "_________________________________________________________________\n"
          ],
          "name": "stdout"
        }
      ]
    },
    {
      "cell_type": "markdown",
      "metadata": {
        "id": "KRnih6PNvzbh",
        "colab_type": "text"
      },
      "source": [
        "#### **Compilar el modelo**"
      ]
    },
    {
      "cell_type": "code",
      "metadata": {
        "id": "D058lx1wuxEo",
        "colab_type": "code",
        "colab": {}
      },
      "source": [
        "my_optim = tf.keras.optimizers.Adam(learning_rate=0.0005)"
      ],
      "execution_count": 23,
      "outputs": []
    },
    {
      "cell_type": "code",
      "metadata": {
        "id": "IOl-gNQGvS5B",
        "colab_type": "code",
        "colab": {}
      },
      "source": [
        "modelo.compile(optimizer=my_optim, loss=\"sparse_categorical_crossentropy\", metrics=\"sparse_categorical_accuracy\")"
      ],
      "execution_count": 24,
      "outputs": []
    },
    {
      "cell_type": "markdown",
      "metadata": {
        "id": "xE1QkohhDpgM",
        "colab_type": "text"
      },
      "source": [
        "### **Paso 4: Entrenar el modelo**"
      ]
    },
    {
      "cell_type": "code",
      "metadata": {
        "id": "OfjJgq6kDyiS",
        "colab_type": "code",
        "colab": {
          "base_uri": "https://localhost:8080/",
          "height": 1000
        },
        "outputId": "a1372d5b-20db-485f-b805-5229333d9d92"
      },
      "source": [
        "modelo.fit(X_train, y_train, batch_size=1000, epochs=100)"
      ],
      "execution_count": 25,
      "outputs": [
        {
          "output_type": "stream",
          "text": [
            "Epoch 1/100\n",
            "50/50 [==============================] - 301s 6s/step - loss: 1.6953 - sparse_categorical_accuracy: 0.3858\n",
            "Epoch 2/100\n",
            "50/50 [==============================] - 301s 6s/step - loss: 1.2929 - sparse_categorical_accuracy: 0.5310\n",
            "Epoch 3/100\n",
            "50/50 [==============================] - 301s 6s/step - loss: 1.1150 - sparse_categorical_accuracy: 0.5996\n",
            "Epoch 4/100\n",
            "50/50 [==============================] - 301s 6s/step - loss: 0.9847 - sparse_categorical_accuracy: 0.6489\n",
            "Epoch 5/100\n",
            "50/50 [==============================] - 306s 6s/step - loss: 0.8901 - sparse_categorical_accuracy: 0.6817\n",
            "Epoch 6/100\n",
            "50/50 [==============================] - 305s 6s/step - loss: 0.8235 - sparse_categorical_accuracy: 0.7067\n",
            "Epoch 7/100\n",
            "50/50 [==============================] - 306s 6s/step - loss: 0.7706 - sparse_categorical_accuracy: 0.7235\n",
            "Epoch 8/100\n",
            "50/50 [==============================] - 305s 6s/step - loss: 0.7241 - sparse_categorical_accuracy: 0.7437\n",
            "Epoch 9/100\n",
            "50/50 [==============================] - 305s 6s/step - loss: 0.6766 - sparse_categorical_accuracy: 0.7616\n",
            "Epoch 10/100\n",
            "50/50 [==============================] - 306s 6s/step - loss: 0.6437 - sparse_categorical_accuracy: 0.7727\n",
            "Epoch 11/100\n",
            "50/50 [==============================] - 310s 6s/step - loss: 0.5981 - sparse_categorical_accuracy: 0.7875\n",
            "Epoch 12/100\n",
            "50/50 [==============================] - 310s 6s/step - loss: 0.5703 - sparse_categorical_accuracy: 0.7993\n",
            "Epoch 13/100\n",
            "50/50 [==============================] - 308s 6s/step - loss: 0.5389 - sparse_categorical_accuracy: 0.8095\n",
            "Epoch 14/100\n",
            "50/50 [==============================] - 300s 6s/step - loss: 0.5133 - sparse_categorical_accuracy: 0.8183\n",
            "Epoch 15/100\n",
            "50/50 [==============================] - 299s 6s/step - loss: 0.4836 - sparse_categorical_accuracy: 0.8283\n",
            "Epoch 16/100\n",
            "50/50 [==============================] - 299s 6s/step - loss: 0.4617 - sparse_categorical_accuracy: 0.8360\n",
            "Epoch 17/100\n",
            "50/50 [==============================] - 299s 6s/step - loss: 0.4359 - sparse_categorical_accuracy: 0.8440\n",
            "Epoch 18/100\n",
            "50/50 [==============================] - 298s 6s/step - loss: 0.4071 - sparse_categorical_accuracy: 0.8559\n",
            "Epoch 19/100\n",
            "50/50 [==============================] - 297s 6s/step - loss: 0.3940 - sparse_categorical_accuracy: 0.8578\n",
            "Epoch 20/100\n",
            "50/50 [==============================] - 296s 6s/step - loss: 0.3706 - sparse_categorical_accuracy: 0.8673\n",
            "Epoch 21/100\n",
            "50/50 [==============================] - 296s 6s/step - loss: 0.3506 - sparse_categorical_accuracy: 0.8751\n",
            "Epoch 22/100\n",
            "50/50 [==============================] - 296s 6s/step - loss: 0.3346 - sparse_categorical_accuracy: 0.8818\n",
            "Epoch 23/100\n",
            "50/50 [==============================] - 295s 6s/step - loss: 0.3162 - sparse_categorical_accuracy: 0.8874\n",
            "Epoch 24/100\n",
            "50/50 [==============================] - 296s 6s/step - loss: 0.3055 - sparse_categorical_accuracy: 0.8902\n",
            "Epoch 25/100\n",
            "50/50 [==============================] - 296s 6s/step - loss: 0.2855 - sparse_categorical_accuracy: 0.8977\n",
            "Epoch 26/100\n",
            "50/50 [==============================] - 296s 6s/step - loss: 0.2766 - sparse_categorical_accuracy: 0.9006\n",
            "Epoch 27/100\n",
            "50/50 [==============================] - 297s 6s/step - loss: 0.2594 - sparse_categorical_accuracy: 0.9069\n",
            "Epoch 28/100\n",
            "50/50 [==============================] - 294s 6s/step - loss: 0.2500 - sparse_categorical_accuracy: 0.9113\n",
            "Epoch 29/100\n",
            "50/50 [==============================] - 294s 6s/step - loss: 0.2391 - sparse_categorical_accuracy: 0.9137\n",
            "Epoch 30/100\n",
            "50/50 [==============================] - 294s 6s/step - loss: 0.2296 - sparse_categorical_accuracy: 0.9175\n",
            "Epoch 31/100\n",
            "50/50 [==============================] - 299s 6s/step - loss: 0.2187 - sparse_categorical_accuracy: 0.9208\n",
            "Epoch 32/100\n",
            "50/50 [==============================] - 300s 6s/step - loss: 0.2144 - sparse_categorical_accuracy: 0.9240\n",
            "Epoch 33/100\n",
            "50/50 [==============================] - 302s 6s/step - loss: 0.2037 - sparse_categorical_accuracy: 0.9258\n",
            "Epoch 34/100\n",
            "50/50 [==============================] - 302s 6s/step - loss: 0.1968 - sparse_categorical_accuracy: 0.9288\n",
            "Epoch 35/100\n",
            "50/50 [==============================] - 302s 6s/step - loss: 0.1879 - sparse_categorical_accuracy: 0.9326\n",
            "Epoch 36/100\n",
            "50/50 [==============================] - 303s 6s/step - loss: 0.1834 - sparse_categorical_accuracy: 0.9329\n",
            "Epoch 37/100\n",
            "50/50 [==============================] - 301s 6s/step - loss: 0.1751 - sparse_categorical_accuracy: 0.9380\n",
            "Epoch 38/100\n",
            "50/50 [==============================] - 302s 6s/step - loss: 0.1708 - sparse_categorical_accuracy: 0.9378\n",
            "Epoch 39/100\n",
            "50/50 [==============================] - 303s 6s/step - loss: 0.1663 - sparse_categorical_accuracy: 0.9411\n",
            "Epoch 40/100\n",
            "50/50 [==============================] - 304s 6s/step - loss: 0.1579 - sparse_categorical_accuracy: 0.9438\n",
            "Epoch 41/100\n",
            "50/50 [==============================] - 303s 6s/step - loss: 0.1585 - sparse_categorical_accuracy: 0.9426\n",
            "Epoch 42/100\n",
            "50/50 [==============================] - 303s 6s/step - loss: 0.1547 - sparse_categorical_accuracy: 0.9437\n",
            "Epoch 43/100\n",
            "50/50 [==============================] - 301s 6s/step - loss: 0.1494 - sparse_categorical_accuracy: 0.9463\n",
            "Epoch 44/100\n",
            "50/50 [==============================] - 302s 6s/step - loss: 0.1448 - sparse_categorical_accuracy: 0.9486\n",
            "Epoch 45/100\n",
            "50/50 [==============================] - 302s 6s/step - loss: 0.1411 - sparse_categorical_accuracy: 0.9496\n",
            "Epoch 46/100\n",
            "50/50 [==============================] - 302s 6s/step - loss: 0.1406 - sparse_categorical_accuracy: 0.9488\n",
            "Epoch 47/100\n",
            "50/50 [==============================] - 302s 6s/step - loss: 0.1362 - sparse_categorical_accuracy: 0.9504\n",
            "Epoch 48/100\n",
            "50/50 [==============================] - 304s 6s/step - loss: 0.1366 - sparse_categorical_accuracy: 0.9518\n",
            "Epoch 49/100\n",
            "50/50 [==============================] - 302s 6s/step - loss: 0.1284 - sparse_categorical_accuracy: 0.9538\n",
            "Epoch 50/100\n",
            "50/50 [==============================] - 301s 6s/step - loss: 0.1271 - sparse_categorical_accuracy: 0.9554\n",
            "Epoch 51/100\n",
            "50/50 [==============================] - 300s 6s/step - loss: 0.1228 - sparse_categorical_accuracy: 0.9544\n",
            "Epoch 52/100\n",
            "50/50 [==============================] - 300s 6s/step - loss: 0.1201 - sparse_categorical_accuracy: 0.9570\n",
            "Epoch 53/100\n",
            "50/50 [==============================] - 299s 6s/step - loss: 0.1136 - sparse_categorical_accuracy: 0.9605\n",
            "Epoch 54/100\n",
            "50/50 [==============================] - 300s 6s/step - loss: 0.1189 - sparse_categorical_accuracy: 0.9582\n",
            "Epoch 55/100\n",
            "50/50 [==============================] - 299s 6s/step - loss: 0.1145 - sparse_categorical_accuracy: 0.9597\n",
            "Epoch 56/100\n",
            "50/50 [==============================] - 302s 6s/step - loss: 0.1134 - sparse_categorical_accuracy: 0.9594\n",
            "Epoch 57/100\n",
            "44/50 [=========================>....] - ETA: 36s - loss: 0.1116 - sparse_categorical_accuracy: 0.9604"
          ],
          "name": "stdout"
        },
        {
          "output_type": "error",
          "ename": "KeyboardInterrupt",
          "evalue": "ignored",
          "traceback": [
            "\u001b[0;31m---------------------------------------------------------------------------\u001b[0m",
            "\u001b[0;31mKeyboardInterrupt\u001b[0m                         Traceback (most recent call last)",
            "\u001b[0;32m<ipython-input-25-1c3b6ef95b5d>\u001b[0m in \u001b[0;36m<module>\u001b[0;34m()\u001b[0m\n\u001b[0;32m----> 1\u001b[0;31m \u001b[0mmodelo\u001b[0m\u001b[0;34m.\u001b[0m\u001b[0mfit\u001b[0m\u001b[0;34m(\u001b[0m\u001b[0mX_train\u001b[0m\u001b[0;34m,\u001b[0m \u001b[0my_train\u001b[0m\u001b[0;34m,\u001b[0m \u001b[0mbatch_size\u001b[0m\u001b[0;34m=\u001b[0m\u001b[0;36m1000\u001b[0m\u001b[0;34m,\u001b[0m \u001b[0mepochs\u001b[0m\u001b[0;34m=\u001b[0m\u001b[0;36m100\u001b[0m\u001b[0;34m)\u001b[0m\u001b[0;34m\u001b[0m\u001b[0;34m\u001b[0m\u001b[0m\n\u001b[0m",
            "\u001b[0;32m/usr/local/lib/python3.6/dist-packages/tensorflow/python/keras/engine/training.py\u001b[0m in \u001b[0;36m_method_wrapper\u001b[0;34m(self, *args, **kwargs)\u001b[0m\n\u001b[1;32m    106\u001b[0m   \u001b[0;32mdef\u001b[0m \u001b[0m_method_wrapper\u001b[0m\u001b[0;34m(\u001b[0m\u001b[0mself\u001b[0m\u001b[0;34m,\u001b[0m \u001b[0;34m*\u001b[0m\u001b[0margs\u001b[0m\u001b[0;34m,\u001b[0m \u001b[0;34m**\u001b[0m\u001b[0mkwargs\u001b[0m\u001b[0;34m)\u001b[0m\u001b[0;34m:\u001b[0m\u001b[0;34m\u001b[0m\u001b[0;34m\u001b[0m\u001b[0m\n\u001b[1;32m    107\u001b[0m     \u001b[0;32mif\u001b[0m \u001b[0;32mnot\u001b[0m \u001b[0mself\u001b[0m\u001b[0;34m.\u001b[0m\u001b[0m_in_multi_worker_mode\u001b[0m\u001b[0;34m(\u001b[0m\u001b[0;34m)\u001b[0m\u001b[0;34m:\u001b[0m  \u001b[0;31m# pylint: disable=protected-access\u001b[0m\u001b[0;34m\u001b[0m\u001b[0;34m\u001b[0m\u001b[0m\n\u001b[0;32m--> 108\u001b[0;31m       \u001b[0;32mreturn\u001b[0m \u001b[0mmethod\u001b[0m\u001b[0;34m(\u001b[0m\u001b[0mself\u001b[0m\u001b[0;34m,\u001b[0m \u001b[0;34m*\u001b[0m\u001b[0margs\u001b[0m\u001b[0;34m,\u001b[0m \u001b[0;34m**\u001b[0m\u001b[0mkwargs\u001b[0m\u001b[0;34m)\u001b[0m\u001b[0;34m\u001b[0m\u001b[0;34m\u001b[0m\u001b[0m\n\u001b[0m\u001b[1;32m    109\u001b[0m \u001b[0;34m\u001b[0m\u001b[0m\n\u001b[1;32m    110\u001b[0m     \u001b[0;31m# Running inside `run_distribute_coordinator` already.\u001b[0m\u001b[0;34m\u001b[0m\u001b[0;34m\u001b[0m\u001b[0;34m\u001b[0m\u001b[0m\n",
            "\u001b[0;32m/usr/local/lib/python3.6/dist-packages/tensorflow/python/keras/engine/training.py\u001b[0m in \u001b[0;36mfit\u001b[0;34m(self, x, y, batch_size, epochs, verbose, callbacks, validation_split, validation_data, shuffle, class_weight, sample_weight, initial_epoch, steps_per_epoch, validation_steps, validation_batch_size, validation_freq, max_queue_size, workers, use_multiprocessing)\u001b[0m\n\u001b[1;32m   1096\u001b[0m                 batch_size=batch_size):\n\u001b[1;32m   1097\u001b[0m               \u001b[0mcallbacks\u001b[0m\u001b[0;34m.\u001b[0m\u001b[0mon_train_batch_begin\u001b[0m\u001b[0;34m(\u001b[0m\u001b[0mstep\u001b[0m\u001b[0;34m)\u001b[0m\u001b[0;34m\u001b[0m\u001b[0;34m\u001b[0m\u001b[0m\n\u001b[0;32m-> 1098\u001b[0;31m               \u001b[0mtmp_logs\u001b[0m \u001b[0;34m=\u001b[0m \u001b[0mtrain_function\u001b[0m\u001b[0;34m(\u001b[0m\u001b[0miterator\u001b[0m\u001b[0;34m)\u001b[0m\u001b[0;34m\u001b[0m\u001b[0;34m\u001b[0m\u001b[0m\n\u001b[0m\u001b[1;32m   1099\u001b[0m               \u001b[0;32mif\u001b[0m \u001b[0mdata_handler\u001b[0m\u001b[0;34m.\u001b[0m\u001b[0mshould_sync\u001b[0m\u001b[0;34m:\u001b[0m\u001b[0;34m\u001b[0m\u001b[0;34m\u001b[0m\u001b[0m\n\u001b[1;32m   1100\u001b[0m                 \u001b[0mcontext\u001b[0m\u001b[0;34m.\u001b[0m\u001b[0masync_wait\u001b[0m\u001b[0;34m(\u001b[0m\u001b[0;34m)\u001b[0m\u001b[0;34m\u001b[0m\u001b[0;34m\u001b[0m\u001b[0m\n",
            "\u001b[0;32m/usr/local/lib/python3.6/dist-packages/tensorflow/python/eager/def_function.py\u001b[0m in \u001b[0;36m__call__\u001b[0;34m(self, *args, **kwds)\u001b[0m\n\u001b[1;32m    778\u001b[0m       \u001b[0;32melse\u001b[0m\u001b[0;34m:\u001b[0m\u001b[0;34m\u001b[0m\u001b[0;34m\u001b[0m\u001b[0m\n\u001b[1;32m    779\u001b[0m         \u001b[0mcompiler\u001b[0m \u001b[0;34m=\u001b[0m \u001b[0;34m\"nonXla\"\u001b[0m\u001b[0;34m\u001b[0m\u001b[0;34m\u001b[0m\u001b[0m\n\u001b[0;32m--> 780\u001b[0;31m         \u001b[0mresult\u001b[0m \u001b[0;34m=\u001b[0m \u001b[0mself\u001b[0m\u001b[0;34m.\u001b[0m\u001b[0m_call\u001b[0m\u001b[0;34m(\u001b[0m\u001b[0;34m*\u001b[0m\u001b[0margs\u001b[0m\u001b[0;34m,\u001b[0m \u001b[0;34m**\u001b[0m\u001b[0mkwds\u001b[0m\u001b[0;34m)\u001b[0m\u001b[0;34m\u001b[0m\u001b[0;34m\u001b[0m\u001b[0m\n\u001b[0m\u001b[1;32m    781\u001b[0m \u001b[0;34m\u001b[0m\u001b[0m\n\u001b[1;32m    782\u001b[0m       \u001b[0mnew_tracing_count\u001b[0m \u001b[0;34m=\u001b[0m \u001b[0mself\u001b[0m\u001b[0;34m.\u001b[0m\u001b[0m_get_tracing_count\u001b[0m\u001b[0;34m(\u001b[0m\u001b[0;34m)\u001b[0m\u001b[0;34m\u001b[0m\u001b[0;34m\u001b[0m\u001b[0m\n",
            "\u001b[0;32m/usr/local/lib/python3.6/dist-packages/tensorflow/python/eager/def_function.py\u001b[0m in \u001b[0;36m_call\u001b[0;34m(self, *args, **kwds)\u001b[0m\n\u001b[1;32m    805\u001b[0m       \u001b[0;31m# In this case we have created variables on the first call, so we run the\u001b[0m\u001b[0;34m\u001b[0m\u001b[0;34m\u001b[0m\u001b[0;34m\u001b[0m\u001b[0m\n\u001b[1;32m    806\u001b[0m       \u001b[0;31m# defunned version which is guaranteed to never create variables.\u001b[0m\u001b[0;34m\u001b[0m\u001b[0;34m\u001b[0m\u001b[0;34m\u001b[0m\u001b[0m\n\u001b[0;32m--> 807\u001b[0;31m       \u001b[0;32mreturn\u001b[0m \u001b[0mself\u001b[0m\u001b[0;34m.\u001b[0m\u001b[0m_stateless_fn\u001b[0m\u001b[0;34m(\u001b[0m\u001b[0;34m*\u001b[0m\u001b[0margs\u001b[0m\u001b[0;34m,\u001b[0m \u001b[0;34m**\u001b[0m\u001b[0mkwds\u001b[0m\u001b[0;34m)\u001b[0m  \u001b[0;31m# pylint: disable=not-callable\u001b[0m\u001b[0;34m\u001b[0m\u001b[0;34m\u001b[0m\u001b[0m\n\u001b[0m\u001b[1;32m    808\u001b[0m     \u001b[0;32melif\u001b[0m \u001b[0mself\u001b[0m\u001b[0;34m.\u001b[0m\u001b[0m_stateful_fn\u001b[0m \u001b[0;32mis\u001b[0m \u001b[0;32mnot\u001b[0m \u001b[0;32mNone\u001b[0m\u001b[0;34m:\u001b[0m\u001b[0;34m\u001b[0m\u001b[0;34m\u001b[0m\u001b[0m\n\u001b[1;32m    809\u001b[0m       \u001b[0;31m# Release the lock early so that multiple threads can perform the call\u001b[0m\u001b[0;34m\u001b[0m\u001b[0;34m\u001b[0m\u001b[0;34m\u001b[0m\u001b[0m\n",
            "\u001b[0;32m/usr/local/lib/python3.6/dist-packages/tensorflow/python/eager/function.py\u001b[0m in \u001b[0;36m__call__\u001b[0;34m(self, *args, **kwargs)\u001b[0m\n\u001b[1;32m   2827\u001b[0m     \u001b[0;32mwith\u001b[0m \u001b[0mself\u001b[0m\u001b[0;34m.\u001b[0m\u001b[0m_lock\u001b[0m\u001b[0;34m:\u001b[0m\u001b[0;34m\u001b[0m\u001b[0;34m\u001b[0m\u001b[0m\n\u001b[1;32m   2828\u001b[0m       \u001b[0mgraph_function\u001b[0m\u001b[0;34m,\u001b[0m \u001b[0margs\u001b[0m\u001b[0;34m,\u001b[0m \u001b[0mkwargs\u001b[0m \u001b[0;34m=\u001b[0m \u001b[0mself\u001b[0m\u001b[0;34m.\u001b[0m\u001b[0m_maybe_define_function\u001b[0m\u001b[0;34m(\u001b[0m\u001b[0margs\u001b[0m\u001b[0;34m,\u001b[0m \u001b[0mkwargs\u001b[0m\u001b[0;34m)\u001b[0m\u001b[0;34m\u001b[0m\u001b[0;34m\u001b[0m\u001b[0m\n\u001b[0;32m-> 2829\u001b[0;31m     \u001b[0;32mreturn\u001b[0m \u001b[0mgraph_function\u001b[0m\u001b[0;34m.\u001b[0m\u001b[0m_filtered_call\u001b[0m\u001b[0;34m(\u001b[0m\u001b[0margs\u001b[0m\u001b[0;34m,\u001b[0m \u001b[0mkwargs\u001b[0m\u001b[0;34m)\u001b[0m  \u001b[0;31m# pylint: disable=protected-access\u001b[0m\u001b[0;34m\u001b[0m\u001b[0;34m\u001b[0m\u001b[0m\n\u001b[0m\u001b[1;32m   2830\u001b[0m \u001b[0;34m\u001b[0m\u001b[0m\n\u001b[1;32m   2831\u001b[0m   \u001b[0;34m@\u001b[0m\u001b[0mproperty\u001b[0m\u001b[0;34m\u001b[0m\u001b[0;34m\u001b[0m\u001b[0m\n",
            "\u001b[0;32m/usr/local/lib/python3.6/dist-packages/tensorflow/python/eager/function.py\u001b[0m in \u001b[0;36m_filtered_call\u001b[0;34m(self, args, kwargs, cancellation_manager)\u001b[0m\n\u001b[1;32m   1846\u001b[0m                            resource_variable_ops.BaseResourceVariable))],\n\u001b[1;32m   1847\u001b[0m         \u001b[0mcaptured_inputs\u001b[0m\u001b[0;34m=\u001b[0m\u001b[0mself\u001b[0m\u001b[0;34m.\u001b[0m\u001b[0mcaptured_inputs\u001b[0m\u001b[0;34m,\u001b[0m\u001b[0;34m\u001b[0m\u001b[0;34m\u001b[0m\u001b[0m\n\u001b[0;32m-> 1848\u001b[0;31m         cancellation_manager=cancellation_manager)\n\u001b[0m\u001b[1;32m   1849\u001b[0m \u001b[0;34m\u001b[0m\u001b[0m\n\u001b[1;32m   1850\u001b[0m   \u001b[0;32mdef\u001b[0m \u001b[0m_call_flat\u001b[0m\u001b[0;34m(\u001b[0m\u001b[0mself\u001b[0m\u001b[0;34m,\u001b[0m \u001b[0margs\u001b[0m\u001b[0;34m,\u001b[0m \u001b[0mcaptured_inputs\u001b[0m\u001b[0;34m,\u001b[0m \u001b[0mcancellation_manager\u001b[0m\u001b[0;34m=\u001b[0m\u001b[0;32mNone\u001b[0m\u001b[0;34m)\u001b[0m\u001b[0;34m:\u001b[0m\u001b[0;34m\u001b[0m\u001b[0;34m\u001b[0m\u001b[0m\n",
            "\u001b[0;32m/usr/local/lib/python3.6/dist-packages/tensorflow/python/eager/function.py\u001b[0m in \u001b[0;36m_call_flat\u001b[0;34m(self, args, captured_inputs, cancellation_manager)\u001b[0m\n\u001b[1;32m   1922\u001b[0m       \u001b[0;31m# No tape is watching; skip to running the function.\u001b[0m\u001b[0;34m\u001b[0m\u001b[0;34m\u001b[0m\u001b[0;34m\u001b[0m\u001b[0m\n\u001b[1;32m   1923\u001b[0m       return self._build_call_outputs(self._inference_function.call(\n\u001b[0;32m-> 1924\u001b[0;31m           ctx, args, cancellation_manager=cancellation_manager))\n\u001b[0m\u001b[1;32m   1925\u001b[0m     forward_backward = self._select_forward_and_backward_functions(\n\u001b[1;32m   1926\u001b[0m         \u001b[0margs\u001b[0m\u001b[0;34m,\u001b[0m\u001b[0;34m\u001b[0m\u001b[0;34m\u001b[0m\u001b[0m\n",
            "\u001b[0;32m/usr/local/lib/python3.6/dist-packages/tensorflow/python/eager/function.py\u001b[0m in \u001b[0;36mcall\u001b[0;34m(self, ctx, args, cancellation_manager)\u001b[0m\n\u001b[1;32m    548\u001b[0m               \u001b[0minputs\u001b[0m\u001b[0;34m=\u001b[0m\u001b[0margs\u001b[0m\u001b[0;34m,\u001b[0m\u001b[0;34m\u001b[0m\u001b[0;34m\u001b[0m\u001b[0m\n\u001b[1;32m    549\u001b[0m               \u001b[0mattrs\u001b[0m\u001b[0;34m=\u001b[0m\u001b[0mattrs\u001b[0m\u001b[0;34m,\u001b[0m\u001b[0;34m\u001b[0m\u001b[0;34m\u001b[0m\u001b[0m\n\u001b[0;32m--> 550\u001b[0;31m               ctx=ctx)\n\u001b[0m\u001b[1;32m    551\u001b[0m         \u001b[0;32melse\u001b[0m\u001b[0;34m:\u001b[0m\u001b[0;34m\u001b[0m\u001b[0;34m\u001b[0m\u001b[0m\n\u001b[1;32m    552\u001b[0m           outputs = execute.execute_with_cancellation(\n",
            "\u001b[0;32m/usr/local/lib/python3.6/dist-packages/tensorflow/python/eager/execute.py\u001b[0m in \u001b[0;36mquick_execute\u001b[0;34m(op_name, num_outputs, inputs, attrs, ctx, name)\u001b[0m\n\u001b[1;32m     58\u001b[0m     \u001b[0mctx\u001b[0m\u001b[0;34m.\u001b[0m\u001b[0mensure_initialized\u001b[0m\u001b[0;34m(\u001b[0m\u001b[0;34m)\u001b[0m\u001b[0;34m\u001b[0m\u001b[0;34m\u001b[0m\u001b[0m\n\u001b[1;32m     59\u001b[0m     tensors = pywrap_tfe.TFE_Py_Execute(ctx._handle, device_name, op_name,\n\u001b[0;32m---> 60\u001b[0;31m                                         inputs, attrs, num_outputs)\n\u001b[0m\u001b[1;32m     61\u001b[0m   \u001b[0;32mexcept\u001b[0m \u001b[0mcore\u001b[0m\u001b[0;34m.\u001b[0m\u001b[0m_NotOkStatusException\u001b[0m \u001b[0;32mas\u001b[0m \u001b[0me\u001b[0m\u001b[0;34m:\u001b[0m\u001b[0;34m\u001b[0m\u001b[0;34m\u001b[0m\u001b[0m\n\u001b[1;32m     62\u001b[0m     \u001b[0;32mif\u001b[0m \u001b[0mname\u001b[0m \u001b[0;32mis\u001b[0m \u001b[0;32mnot\u001b[0m \u001b[0;32mNone\u001b[0m\u001b[0;34m:\u001b[0m\u001b[0;34m\u001b[0m\u001b[0;34m\u001b[0m\u001b[0m\n",
            "\u001b[0;31mKeyboardInterrupt\u001b[0m: "
          ]
        }
      ]
    },
    {
      "cell_type": "markdown",
      "metadata": {
        "id": "AI3fo5fPGrB0",
        "colab_type": "text"
      },
      "source": [
        "#### **Evaluar el modelo**"
      ]
    },
    {
      "cell_type": "code",
      "metadata": {
        "id": "PNobV52xGqYB",
        "colab_type": "code",
        "colab": {
          "base_uri": "https://localhost:8080/",
          "height": 34
        },
        "outputId": "9f9c509a-e3fb-41f5-9990-8383a72bbb9f"
      },
      "source": [
        "test_loss, test_accuracy = modelo.evaluate(X_test, y_test)"
      ],
      "execution_count": 27,
      "outputs": [
        {
          "output_type": "stream",
          "text": [
            "313/313 [==============================] - 16s 52ms/step - loss: 0.8564 - sparse_categorical_accuracy: 0.7987\n"
          ],
          "name": "stdout"
        }
      ]
    },
    {
      "cell_type": "code",
      "metadata": {
        "id": "iSrVRJYcG5NC",
        "colab_type": "code",
        "colab": {
          "base_uri": "https://localhost:8080/",
          "height": 34
        },
        "outputId": "b139e740-2d82-424b-d7c8-d91c3acb26fc"
      },
      "source": [
        "print(\"Test accuracy: {}\".format(test_accuracy))"
      ],
      "execution_count": 29,
      "outputs": [
        {
          "output_type": "stream",
          "text": [
            "Test accuracy: 0.7986999750137329\n"
          ],
          "name": "stdout"
        }
      ]
    }
  ]
}