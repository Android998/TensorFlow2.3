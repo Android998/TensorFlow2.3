{
  "nbformat": 4,
  "nbformat_minor": 0,
  "metadata": {
    "colab": {
      "name": "CrearRNC.ipynb",
      "provenance": [],
      "authorship_tag": "ABX9TyMjbTeVoOIVKlmFV6XcGK+p",
      "include_colab_link": true
    },
    "kernelspec": {
      "name": "python3",
      "display_name": "Python 3"
    },
    "accelerator": "GPU"
  },
  "cells": [
    {
      "cell_type": "markdown",
      "metadata": {
        "id": "view-in-github",
        "colab_type": "text"
      },
      "source": [
        "<a href=\"https://colab.research.google.com/github/Android998/TensorFlow2.3/blob/master/CrearRNC.ipynb\" target=\"_parent\"><img src=\"https://colab.research.google.com/assets/colab-badge.svg\" alt=\"Open In Colab\"/></a>"
      ]
    },
    {
      "cell_type": "markdown",
      "metadata": {
        "id": "Oy6M5HuUO9XF"
      },
      "source": [
        "# **Creando nuestra propia RNC**"
      ]
    },
    {
      "cell_type": "markdown",
      "metadata": {
        "id": "A-4xIjqAPIr6"
      },
      "source": [
        "### **Paso 1: Importar las librerias**"
      ]
    },
    {
      "cell_type": "code",
      "metadata": {
        "id": "7AFSJVRRO2Sh"
      },
      "source": [
        "import tensorflow as tf\n",
        "import matplotlib.pyplot as plt\n",
        "from tensorflow.keras.datasets import cifar10"
      ],
      "execution_count": 148,
      "outputs": []
    },
    {
      "cell_type": "code",
      "metadata": {
        "id": "N8y6x-LjPvw7",
        "outputId": "b68a932d-fe56-4e45-8e6d-0d1f9ca092d3",
        "colab": {
          "base_uri": "https://localhost:8080/",
          "height": 35
        }
      },
      "source": [
        "tf.__version__"
      ],
      "execution_count": 149,
      "outputs": [
        {
          "output_type": "execute_result",
          "data": {
            "application/vnd.google.colaboratory.intrinsic+json": {
              "type": "string"
            },
            "text/plain": [
              "'2.3.0'"
            ]
          },
          "metadata": {
            "tags": []
          },
          "execution_count": 149
        }
      ]
    },
    {
      "cell_type": "code",
      "metadata": {
        "id": "Qxw_XW0ZPzmG"
      },
      "source": [
        "%matplotlib inline"
      ],
      "execution_count": 150,
      "outputs": []
    },
    {
      "cell_type": "markdown",
      "metadata": {
        "id": "LXenwb1AP5b2"
      },
      "source": [
        "### **Paso 2: Pre procesado de datos**"
      ]
    },
    {
      "cell_type": "markdown",
      "metadata": {
        "id": "a42Y_khvQOw2"
      },
      "source": [
        "#### **Cargar Cifar 10**"
      ]
    },
    {
      "cell_type": "code",
      "metadata": {
        "id": "SU4jcQGUP-Kj"
      },
      "source": [
        "#Configurar el nombre de las clases del dataset\n",
        "calss_names = [\"avion\", \"coche\", \"pájaro\", \"gato\", \"ciervo\", \"perro\", \"rana\", \"caballo\", \"barco\", \"camión\"]"
      ],
      "execution_count": 151,
      "outputs": []
    },
    {
      "cell_type": "code",
      "metadata": {
        "id": "G-uqobaGQq3I"
      },
      "source": [
        "#Cargar el dataset\n",
        "[X_train, y_train], [X_test, y_test] = cifar10.load_data()"
      ],
      "execution_count": 152,
      "outputs": []
    },
    {
      "cell_type": "markdown",
      "metadata": {
        "id": "mkcn_K6oQ5pu"
      },
      "source": [
        "#### **Normalizar las imagenes**"
      ]
    },
    {
      "cell_type": "code",
      "metadata": {
        "id": "NNNARtdrQ-u6"
      },
      "source": [
        "X_train = X_train/255.0"
      ],
      "execution_count": 153,
      "outputs": []
    },
    {
      "cell_type": "code",
      "metadata": {
        "id": "xys0VGFTRGn4",
        "outputId": "b42627cc-1c18-4ad5-ba68-922669f875dc",
        "colab": {
          "base_uri": "https://localhost:8080/",
          "height": 34
        }
      },
      "source": [
        "X_train.shape"
      ],
      "execution_count": 154,
      "outputs": [
        {
          "output_type": "execute_result",
          "data": {
            "text/plain": [
              "(50000, 32, 32, 3)"
            ]
          },
          "metadata": {
            "tags": []
          },
          "execution_count": 154
        }
      ]
    },
    {
      "cell_type": "code",
      "metadata": {
        "id": "KUfFXbC1RKoO"
      },
      "source": [
        "X_test = X_test/255.0"
      ],
      "execution_count": 155,
      "outputs": []
    },
    {
      "cell_type": "code",
      "metadata": {
        "id": "jhDpfj3HRO-1",
        "outputId": "244884e1-218b-4ef6-f2e6-0fa95a6be879",
        "colab": {
          "base_uri": "https://localhost:8080/",
          "height": 283
        }
      },
      "source": [
        "plt.imshow(X_test[10])"
      ],
      "execution_count": 156,
      "outputs": [
        {
          "output_type": "execute_result",
          "data": {
            "text/plain": [
              "<matplotlib.image.AxesImage at 0x7f8e2ce96f98>"
            ]
          },
          "metadata": {
            "tags": []
          },
          "execution_count": 156
        },
        {
          "output_type": "display_data",
          "data": {
            "image/png": "[encoded data removed]",
            "text/plain": [
              "<Figure size 432x288 with 1 Axes>"
            ]
          },
          "metadata": {
            "tags": [],
            "needs_background": "light"
          }
        }
      ]
    },
    {
      "cell_type": "code",
      "metadata": {
        "id": "wIvaYMLMSlnL",
        "outputId": "0ea13193-b65d-41f0-e6b6-b54267ee0311",
        "colab": {
          "base_uri": "https://localhost:8080/",
          "height": 34
        }
      },
      "source": [
        "y_test[10]"
      ],
      "execution_count": 157,
      "outputs": [
        {
          "output_type": "execute_result",
          "data": {
            "text/plain": [
              "array([0], dtype=uint8)"
            ]
          },
          "metadata": {
            "tags": []
          },
          "execution_count": 157
        }
      ]
    },
    {
      "cell_type": "markdown",
      "metadata": {
        "id": "ewubL778TBTj"
      },
      "source": [
        "### **Paso 3: Construir una red neuronal convolucional**"
      ]
    },
    {
      "cell_type": "markdown",
      "metadata": {
        "id": "hLbD3GVcTHiW"
      },
      "source": [
        "#### **Definir el modelo**"
      ]
    },
    {
      "cell_type": "code",
      "metadata": {
        "id": "Ujw0EK-BTKrj"
      },
      "source": [
        "modelo = tf.keras.models.Sequential()"
      ],
      "execution_count": 158,
      "outputs": []
    },
    {
      "cell_type": "markdown",
      "metadata": {
        "id": "wbnXnGIBTRLM"
      },
      "source": [
        "#### **Añadir la primera capa de convolución**\n",
        "Hyper parametros de la capa de la RNC:\n",
        "- Filtros: 32\n",
        "- Tamaño del kerne: 3\n",
        "- padding: same\n",
        "- Función de activación: ReLU\n",
        "- Input_shape: (32, 32, 3)"
      ]
    },
    {
      "cell_type": "code",
      "metadata": {
        "id": "EOYZva0bTxif"
      },
      "source": [
        "modelo.add(tf.keras.layers.Conv2D(filters=64, kernel_size=3, padding=\"same\", activation=\"relu\", input_shape=(32, 32, 3)))"
      ],
      "execution_count": 159,
      "outputs": []
    },
    {
      "cell_type": "code",
      "metadata": {
        "id": "QcmylG2DU_oE"
      },
      "source": [
        "modelo.add(tf.keras.layers.BatchNormalization())"
      ],
      "execution_count": 160,
      "outputs": []
    },
    {
      "cell_type": "markdown",
      "metadata": {
        "id": "0gGk_luLUJB2"
      },
      "source": [
        "#### **Añadir una segunda capa convolucional y la capa de max-pooling**\n",
        "Hyper parametros de la capa de la RNC:\n",
        "- Filtros: 64\n",
        "- Tamaño del kerne: 3\n",
        "- padding: same\n",
        "- Función de activación: ReLU\n",
        "\n",
        "Hyper parametros de la capa de MaxPool:\n",
        "- pool_size: 2\n",
        "- strides: 2\n",
        "- padding: valid"
      ]
    },
    {
      "cell_type": "code",
      "metadata": {
        "id": "K8RCO3IFVtnV"
      },
      "source": [
        "modelo.add(tf.keras.layers.Conv2D(filters=64, kernel_size=3, padding=\"same\", activation=\"relu\", input_shape=(32, 32, 3)))\n",
        "modelo.add(tf.keras.layers.MaxPool2D(pool_size=2, strides=2, padding=\"same\"))"
      ],
      "execution_count": 161,
      "outputs": []
    },
    {
      "cell_type": "code",
      "metadata": {
        "id": "3BlycT9QWR-R"
      },
      "source": [
        "modelo.add(tf.keras.layers.Dropout(0.2))\n",
        "modelo.add(tf.keras.layers.BatchNormalization())"
      ],
      "execution_count": 162,
      "outputs": []
    },
    {
      "cell_type": "markdown",
      "metadata": {
        "id": "c2Zdm3IUWlI_"
      },
      "source": [
        "#### **Añadir la tercera capa de convolución**\n",
        "Hyper parametros de la capa de la RNC:\n",
        "- Filtros: 32\n",
        "- Tamaño del kerne: 3\n",
        "- padding: same\n",
        "- Función de activación: ReLU\n",
        "- Input_shape: (32, 32, 3)"
      ]
    },
    {
      "cell_type": "code",
      "metadata": {
        "id": "Hha5vhdiW18H"
      },
      "source": [
        "modelo.add(tf.keras.layers.Conv2D(filters=32, kernel_size=3, padding=\"same\", activation=\"relu\", input_shape=(32, 32, 3)))"
      ],
      "execution_count": 163,
      "outputs": []
    },
    {
      "cell_type": "code",
      "metadata": {
        "id": "gWTX8bhaXGau"
      },
      "source": [
        "modelo.add(tf.keras.layers.BatchNormalization())"
      ],
      "execution_count": 164,
      "outputs": []
    },
    {
      "cell_type": "markdown",
      "metadata": {
        "id": "5bJelBW5W943"
      },
      "source": [
        "#### **Añadir una cuarta capa convolucional y la capa de max-pooling**\n",
        "Hyper parametros de la capa de la RNC:\n",
        "- Filtros: 64\n",
        "- Tamaño del kerne: 3\n",
        "- padding: same\n",
        "- Función de activación: ReLU\n",
        "\n",
        "Hyper parametros de la capa de MaxPool:\n",
        "- pool_size: 2\n",
        "- strides: 2\n",
        "- padding: valid"
      ]
    },
    {
      "cell_type": "code",
      "metadata": {
        "id": "i5Yb1nBLXAXL"
      },
      "source": [
        "modelo.add(tf.keras.layers.Conv2D(filters=64, kernel_size=3, padding=\"same\", activation=\"relu\", input_shape=(32, 32, 3)))\n",
        "modelo.add(tf.keras.layers.MaxPool2D(pool_size=2, strides=2, padding=\"same\"))\n",
        "modelo.add(tf.keras.layers.Dropout(0.2))\n",
        "modelo.add(tf.keras.layers.BatchNormalization())"
      ],
      "execution_count": 165,
      "outputs": []
    },
    {
      "cell_type": "code",
      "metadata": {
        "id": "4Gdmr0Tz8vId"
      },
      "source": [
        "modelo.add(tf.keras.layers.Conv2D(filters=64, kernel_size=3, padding=\"same\", activation=\"relu\", input_shape=(32, 32, 3)))\n",
        "modelo.add(tf.keras.layers.MaxPool2D(pool_size=2, strides=2, padding=\"same\"))\n",
        "modelo.add(tf.keras.layers.Dropout(0.2))\n",
        "modelo.add(tf.keras.layers.BatchNormalization())"
      ],
      "execution_count": 166,
      "outputs": []
    },
    {
      "cell_type": "markdown",
      "metadata": {
        "id": "azX2odMMXK6d"
      },
      "source": [
        "#### **Añadir la capa de flattering**"
      ]
    },
    {
      "cell_type": "code",
      "metadata": {
        "id": "wWibyzDfXOEE"
      },
      "source": [
        "modelo.add(tf.keras.layers.Flatten())"
      ],
      "execution_count": 167,
      "outputs": []
    },
    {
      "cell_type": "markdown",
      "metadata": {
        "id": "DZ96xGFdXWK-"
      },
      "source": [
        "#### **Añadir la primera capa fully connected**\n",
        "Hyper parametros de la capa totalmente conectada:\n",
        "- units/neurons:128\n",
        "- activation: ReLU"
      ]
    },
    {
      "cell_type": "code",
      "metadata": {
        "id": "qye-qR8KXqM7"
      },
      "source": [
        "modelo.add(tf.keras.layers.Dense(units=128, activation=\"relu\"))"
      ],
      "execution_count": 168,
      "outputs": []
    },
    {
      "cell_type": "code",
      "metadata": {
        "id": "hvz3_kmnX6h6"
      },
      "source": [
        "modelo.add(tf.keras.layers.Dropout(0.2))\n",
        "modelo.add(tf.keras.layers.BatchNormalization())"
      ],
      "execution_count": 169,
      "outputs": []
    },
    {
      "cell_type": "code",
      "metadata": {
        "id": "CnspejzCYCL0"
      },
      "source": [
        "modelo.add(tf.keras.layers.Dense(units=256, activation=\"relu\"))"
      ],
      "execution_count": 170,
      "outputs": []
    },
    {
      "cell_type": "markdown",
      "metadata": {
        "id": "cYiEyObbYGfI"
      },
      "source": [
        "#### **Añadir la capa de salida**"
      ]
    },
    {
      "cell_type": "code",
      "metadata": {
        "id": "n8OKBqWJYKrE"
      },
      "source": [
        "modelo.add(tf.keras.layers.Dense(units=10, activation=\"softmax\"))"
      ],
      "execution_count": 171,
      "outputs": []
    },
    {
      "cell_type": "code",
      "metadata": {
        "id": "eXWiujQ_YRKS",
        "outputId": "e657857c-14c5-42cd-97c4-9f8201f25a5b",
        "colab": {
          "base_uri": "https://localhost:8080/",
          "height": 901
        }
      },
      "source": [
        "modelo.summary()"
      ],
      "execution_count": 172,
      "outputs": [
        {
          "output_type": "stream",
          "text": [
            "Model: \"sequential_5\"\n",
            "_________________________________________________________________\n",
            "Layer (type)                 Output Shape              Param #   \n",
            "=================================================================\n",
            "conv2d_22 (Conv2D)           (None, 32, 32, 64)        1792      \n",
            "_________________________________________________________________\n",
            "batch_normalization_27 (Batc (None, 32, 32, 64)        256       \n",
            "_________________________________________________________________\n",
            "conv2d_23 (Conv2D)           (None, 32, 32, 64)        36928     \n",
            "_________________________________________________________________\n",
            "max_pooling2d_12 (MaxPooling (None, 16, 16, 64)        0         \n",
            "_________________________________________________________________\n",
            "dropout_17 (Dropout)         (None, 16, 16, 64)        0         \n",
            "_________________________________________________________________\n",
            "batch_normalization_28 (Batc (None, 16, 16, 64)        256       \n",
            "_________________________________________________________________\n",
            "conv2d_24 (Conv2D)           (None, 16, 16, 32)        18464     \n",
            "_________________________________________________________________\n",
            "batch_normalization_29 (Batc (None, 16, 16, 32)        128       \n",
            "_________________________________________________________________\n",
            "conv2d_25 (Conv2D)           (None, 16, 16, 64)        18496     \n",
            "_________________________________________________________________\n",
            "max_pooling2d_13 (MaxPooling (None, 8, 8, 64)          0         \n",
            "_________________________________________________________________\n",
            "dropout_18 (Dropout)         (None, 8, 8, 64)          0         \n",
            "_________________________________________________________________\n",
            "batch_normalization_30 (Batc (None, 8, 8, 64)          256       \n",
            "_________________________________________________________________\n",
            "conv2d_26 (Conv2D)           (None, 8, 8, 64)          36928     \n",
            "_________________________________________________________________\n",
            "max_pooling2d_14 (MaxPooling (None, 4, 4, 64)          0         \n",
            "_________________________________________________________________\n",
            "dropout_19 (Dropout)         (None, 4, 4, 64)          0         \n",
            "_________________________________________________________________\n",
            "batch_normalization_31 (Batc (None, 4, 4, 64)          256       \n",
            "_________________________________________________________________\n",
            "flatten_5 (Flatten)          (None, 1024)              0         \n",
            "_________________________________________________________________\n",
            "dense_15 (Dense)             (None, 128)               131200    \n",
            "_________________________________________________________________\n",
            "dropout_20 (Dropout)         (None, 128)               0         \n",
            "_________________________________________________________________\n",
            "batch_normalization_32 (Batc (None, 128)               512       \n",
            "_________________________________________________________________\n",
            "dense_16 (Dense)             (None, 256)               33024     \n",
            "_________________________________________________________________\n",
            "dense_17 (Dense)             (None, 10)                2570      \n",
            "=================================================================\n",
            "Total params: 281,066\n",
            "Trainable params: 280,234\n",
            "Non-trainable params: 832\n",
            "_________________________________________________________________\n"
          ],
          "name": "stdout"
        }
      ]
    },
    {
      "cell_type": "markdown",
      "metadata": {
        "id": "KRnih6PNvzbh"
      },
      "source": [
        "#### **Compilar el modelo**"
      ]
    },
    {
      "cell_type": "code",
      "metadata": {
        "id": "D058lx1wuxEo"
      },
      "source": [
        "my_optim = tf.keras.optimizers.Adam()"
      ],
      "execution_count": 175,
      "outputs": []
    },
    {
      "cell_type": "code",
      "metadata": {
        "id": "IOl-gNQGvS5B"
      },
      "source": [
        "modelo.compile(optimizer=my_optim, loss=\"sparse_categorical_crossentropy\", metrics=\"sparse_categorical_accuracy\")"
      ],
      "execution_count": 176,
      "outputs": []
    },
    {
      "cell_type": "markdown",
      "metadata": {
        "id": "xE1QkohhDpgM"
      },
      "source": [
        "### **Paso 4: Entrenar el modelo**"
      ]
    },
    {
      "cell_type": "code",
      "metadata": {
        "id": "OfjJgq6kDyiS",
        "outputId": "6136099b-0a5f-490a-bbd3-122afd043d91",
        "colab": {
          "base_uri": "https://localhost:8080/",
          "height": 714
        }
      },
      "source": [
        "modelo.fit(X_train, y_train, batch_size=10, epochs=20, validation_data=(X_test, y_test))"
      ],
      "execution_count": 178,
      "outputs": [
        {
          "output_type": "stream",
          "text": [
            "Epoch 1/20\n",
            "5000/5000 [==============================] - 23s 5ms/step - loss: 1.4082 - sparse_categorical_accuracy: 0.5018 - val_loss: 0.9778 - val_sparse_categorical_accuracy: 0.6590\n",
            "Epoch 2/20\n",
            "5000/5000 [==============================] - 23s 5ms/step - loss: 1.0756 - sparse_categorical_accuracy: 0.6255 - val_loss: 0.9103 - val_sparse_categorical_accuracy: 0.6802\n",
            "Epoch 3/20\n",
            "5000/5000 [==============================] - 23s 5ms/step - loss: 0.9817 - sparse_categorical_accuracy: 0.6630 - val_loss: 0.7519 - val_sparse_categorical_accuracy: 0.7369\n",
            "Epoch 4/20\n",
            "5000/5000 [==============================] - 24s 5ms/step - loss: 0.9063 - sparse_categorical_accuracy: 0.6883 - val_loss: 0.7033 - val_sparse_categorical_accuracy: 0.7578\n",
            "Epoch 5/20\n",
            "5000/5000 [==============================] - 23s 5ms/step - loss: 0.8549 - sparse_categorical_accuracy: 0.7073 - val_loss: 0.7808 - val_sparse_categorical_accuracy: 0.7329\n",
            "Epoch 6/20\n",
            "5000/5000 [==============================] - 23s 5ms/step - loss: 0.8058 - sparse_categorical_accuracy: 0.7232 - val_loss: 0.6340 - val_sparse_categorical_accuracy: 0.7829\n",
            "Epoch 7/20\n",
            "5000/5000 [==============================] - 23s 5ms/step - loss: 0.7833 - sparse_categorical_accuracy: 0.7333 - val_loss: 0.6978 - val_sparse_categorical_accuracy: 0.7637\n",
            "Epoch 8/20\n",
            "5000/5000 [==============================] - 24s 5ms/step - loss: 0.7611 - sparse_categorical_accuracy: 0.7393 - val_loss: 0.5995 - val_sparse_categorical_accuracy: 0.7901\n",
            "Epoch 9/20\n",
            "5000/5000 [==============================] - 24s 5ms/step - loss: 0.7360 - sparse_categorical_accuracy: 0.7504 - val_loss: 0.6155 - val_sparse_categorical_accuracy: 0.7918\n",
            "Epoch 10/20\n",
            "5000/5000 [==============================] - 23s 5ms/step - loss: 0.7109 - sparse_categorical_accuracy: 0.7567 - val_loss: 0.5731 - val_sparse_categorical_accuracy: 0.8071\n",
            "Epoch 11/20\n",
            "5000/5000 [==============================] - 23s 5ms/step - loss: 0.6928 - sparse_categorical_accuracy: 0.7657 - val_loss: 0.5947 - val_sparse_categorical_accuracy: 0.7991\n",
            "Epoch 12/20\n",
            "5000/5000 [==============================] - 24s 5ms/step - loss: 0.6803 - sparse_categorical_accuracy: 0.7678 - val_loss: 0.5456 - val_sparse_categorical_accuracy: 0.8178\n",
            "Epoch 13/20\n",
            "5000/5000 [==============================] - 24s 5ms/step - loss: 0.6665 - sparse_categorical_accuracy: 0.7724 - val_loss: 0.5612 - val_sparse_categorical_accuracy: 0.8114\n",
            "Epoch 14/20\n",
            "5000/5000 [==============================] - 23s 5ms/step - loss: 0.6538 - sparse_categorical_accuracy: 0.7769 - val_loss: 0.5487 - val_sparse_categorical_accuracy: 0.8135\n",
            "Epoch 15/20\n",
            "5000/5000 [==============================] - 23s 5ms/step - loss: 0.6352 - sparse_categorical_accuracy: 0.7844 - val_loss: 0.5411 - val_sparse_categorical_accuracy: 0.8167\n",
            "Epoch 16/20\n",
            "5000/5000 [==============================] - 23s 5ms/step - loss: 0.6291 - sparse_categorical_accuracy: 0.7848 - val_loss: 0.5271 - val_sparse_categorical_accuracy: 0.8204\n",
            "Epoch 17/20\n",
            "5000/5000 [==============================] - 23s 5ms/step - loss: 0.6180 - sparse_categorical_accuracy: 0.7923 - val_loss: 0.5333 - val_sparse_categorical_accuracy: 0.8207\n",
            "Epoch 18/20\n",
            "5000/5000 [==============================] - 23s 5ms/step - loss: 0.6081 - sparse_categorical_accuracy: 0.7933 - val_loss: 0.5250 - val_sparse_categorical_accuracy: 0.8219\n",
            "Epoch 19/20\n",
            "5000/5000 [==============================] - 23s 5ms/step - loss: 0.6060 - sparse_categorical_accuracy: 0.7962 - val_loss: 0.5407 - val_sparse_categorical_accuracy: 0.8185\n",
            "Epoch 20/20\n",
            "5000/5000 [==============================] - 23s 5ms/step - loss: 0.5946 - sparse_categorical_accuracy: 0.7996 - val_loss: 0.5150 - val_sparse_categorical_accuracy: 0.8265\n"
          ],
          "name": "stdout"
        },
        {
          "output_type": "execute_result",
          "data": {
            "text/plain": [
              "<tensorflow.python.keras.callbacks.History at 0x7f9000f07f60>"
            ]
          },
          "metadata": {
            "tags": []
          },
          "execution_count": 178
        }
      ]
    },
    {
      "cell_type": "markdown",
      "metadata": {
        "id": "AI3fo5fPGrB0"
      },
      "source": [
        "#### **Evaluar el modelo**"
      ]
    },
    {
      "cell_type": "code",
      "metadata": {
        "id": "PNobV52xGqYB"
      },
      "source": [
        "test_loss, test_accuracy = modelo.evaluate(X_test, y_test)"
      ],
      "execution_count": null,
      "outputs": []
    },
    {
      "cell_type": "code",
      "metadata": {
        "id": "iSrVRJYcG5NC"
      },
      "source": [
        "print(\"Test accuracy: {}\".format(test_accuracy))"
      ],
      "execution_count": null,
      "outputs": []
    }
  ]
}