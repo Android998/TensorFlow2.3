{
  "nbformat": 4,
  "nbformat_minor": 0,
  "metadata": {
    "colab": {
      "name": "TensorFlowLite.ipynb",
      "provenance": [],
      "mount_file_id": "1mLjxFksl6PgEpXgHkW2yyWq5to9FkGi1",
      "authorship_tag": "ABX9TyOCKv7jfaaCZIlXBuK2AXzs",
      "include_colab_link": true
    },
    "kernelspec": {
      "name": "python3",
      "display_name": "Python 3"
    },
    "accelerator": "GPU"
  },
  "cells": [
    {
      "cell_type": "markdown",
      "metadata": {
        "id": "view-in-github",
        "colab_type": "text"
      },
      "source": [
        "<a href=\"https://colab.research.google.com/github/Android998/TensorFlow2.3/blob/master/TensorFlowLite.ipynb\" target=\"_parent\"><img src=\"https://colab.research.google.com/assets/colab-badge.svg\" alt=\"Open In Colab\"/></a>"
      ]
    },
    {
      "cell_type": "markdown",
      "metadata": {
        "id": "i2O_4HiwBXZo",
        "colab_type": "text"
      },
      "source": [
        "## **Paso 1: Importar las librerias**"
      ]
    },
    {
      "cell_type": "code",
      "metadata": {
        "id": "lVautk-QqbhU",
        "colab_type": "code",
        "colab": {}
      },
      "source": [
        "import tensorflow as tf\n",
        "import numpy as np\n",
        "\n",
        "from tensorflow.keras.datasets import fashion_mnist"
      ],
      "execution_count": 2,
      "outputs": []
    },
    {
      "cell_type": "markdown",
      "metadata": {
        "id": "WOHIru6qCAgO",
        "colab_type": "text"
      },
      "source": [
        "## **Paso 3: Pre procesado de datos**"
      ]
    },
    {
      "cell_type": "code",
      "metadata": {
        "id": "EWuLvc55CMxj",
        "colab_type": "code",
        "colab": {
          "base_uri": "https://localhost:8080/",
          "height": 151
        },
        "outputId": "7e8082f4-aeb8-4d70-f2b2-9678dfc1e01d"
      },
      "source": [
        "(X_train, y_train), (X_test, y_test) = fashion_mnist.load_data()"
      ],
      "execution_count": 3,
      "outputs": [
        {
          "output_type": "stream",
          "text": [
            "Downloading data from https://storage.googleapis.com/tensorflow/tf-keras-datasets/train-labels-idx1-ubyte.gz\n",
            "32768/29515 [=================================] - 0s 0us/step\n",
            "Downloading data from https://storage.googleapis.com/tensorflow/tf-keras-datasets/train-images-idx3-ubyte.gz\n",
            "26427392/26421880 [==============================] - 1s 0us/step\n",
            "Downloading data from https://storage.googleapis.com/tensorflow/tf-keras-datasets/t10k-labels-idx1-ubyte.gz\n",
            "8192/5148 [===============================================] - 0s 0us/step\n",
            "Downloading data from https://storage.googleapis.com/tensorflow/tf-keras-datasets/t10k-images-idx3-ubyte.gz\n",
            "4423680/4422102 [==============================] - 0s 0us/step\n"
          ],
          "name": "stdout"
        }
      ]
    },
    {
      "cell_type": "markdown",
      "metadata": {
        "id": "mfh7BeFXCWVE",
        "colab_type": "text"
      },
      "source": [
        "### **Normalizar imagenes**"
      ]
    },
    {
      "cell_type": "code",
      "metadata": {
        "id": "wI5C3-c7CY4t",
        "colab_type": "code",
        "colab": {}
      },
      "source": [
        "X_train = X_train/255.\n",
        "X_test = X_test/255."
      ],
      "execution_count": 4,
      "outputs": []
    },
    {
      "cell_type": "markdown",
      "metadata": {
        "id": "h6t73AZQCiO7",
        "colab_type": "text"
      },
      "source": [
        "### **Redimensionar las imagenes**"
      ]
    },
    {
      "cell_type": "code",
      "metadata": {
        "id": "M_ZL7ATeClEE",
        "colab_type": "code",
        "colab": {
          "base_uri": "https://localhost:8080/",
          "height": 34
        },
        "outputId": "f86f8f98-3043-4a23-b56e-dda105565567"
      },
      "source": [
        "X_train.shape"
      ],
      "execution_count": 5,
      "outputs": [
        {
          "output_type": "execute_result",
          "data": {
            "text/plain": [
              "(60000, 28, 28)"
            ]
          },
          "metadata": {
            "tags": []
          },
          "execution_count": 5
        }
      ]
    },
    {
      "cell_type": "code",
      "metadata": {
        "id": "JXbHRz_OCoS1",
        "colab_type": "code",
        "colab": {}
      },
      "source": [
        "X_train = X_train.reshape(-1, 28*28)\n",
        "X_test = X_test.reshape(-1, 28*28)"
      ],
      "execution_count": 6,
      "outputs": []
    },
    {
      "cell_type": "code",
      "metadata": {
        "id": "1gQ6ZTrrC0gR",
        "colab_type": "code",
        "colab": {
          "base_uri": "https://localhost:8080/",
          "height": 34
        },
        "outputId": "9c2c6b3e-5692-42c4-ad9d-ba2b36ee1153"
      },
      "source": [
        "X_train.shape"
      ],
      "execution_count": 7,
      "outputs": [
        {
          "output_type": "execute_result",
          "data": {
            "text/plain": [
              "(60000, 784)"
            ]
          },
          "metadata": {
            "tags": []
          },
          "execution_count": 7
        }
      ]
    },
    {
      "cell_type": "markdown",
      "metadata": {
        "id": "_6rUwg8ZDcGS",
        "colab_type": "text"
      },
      "source": [
        "## **Paso3: Construir el modelo**"
      ]
    },
    {
      "cell_type": "markdown",
      "metadata": {
        "id": "jnnxxG2bDhhN",
        "colab_type": "text"
      },
      "source": [
        "### **Definir el modelo**\n"
      ]
    },
    {
      "cell_type": "code",
      "metadata": {
        "id": "TvqDcOIpDl5b",
        "colab_type": "code",
        "colab": {}
      },
      "source": [
        "model = tf.keras.models.Sequential()"
      ],
      "execution_count": 8,
      "outputs": []
    },
    {
      "cell_type": "markdown",
      "metadata": {
        "id": "XedYg-dGDrJz",
        "colab_type": "text"
      },
      "source": [
        "### **Definir el modelo**"
      ]
    },
    {
      "cell_type": "code",
      "metadata": {
        "id": "hWDZOhG5Dt1T",
        "colab_type": "code",
        "colab": {}
      },
      "source": [
        "model.add(tf.keras.layers.Dense(units=128, activation=\"relu\", input_shape=(784, )))\n"
      ],
      "execution_count": 9,
      "outputs": []
    },
    {
      "cell_type": "code",
      "metadata": {
        "id": "As4J3h1HE4fs",
        "colab_type": "code",
        "colab": {}
      },
      "source": [
        "model.add(tf.keras.layers.Dropout(0.2))"
      ],
      "execution_count": 10,
      "outputs": []
    },
    {
      "cell_type": "code",
      "metadata": {
        "id": "BItarwbUE8Yf",
        "colab_type": "code",
        "colab": {}
      },
      "source": [
        "model.add(tf.keras.layers.Dense(units=10, activation=\"softmax\"))"
      ],
      "execution_count": 11,
      "outputs": []
    },
    {
      "cell_type": "markdown",
      "metadata": {
        "id": "xgv_twfkE-Zz",
        "colab_type": "text"
      },
      "source": [
        "### **Compilar el modelo**"
      ]
    },
    {
      "cell_type": "code",
      "metadata": {
        "id": "ITaw4huHFBhD",
        "colab_type": "code",
        "colab": {}
      },
      "source": [
        "model.compile(optimizer=tf.keras.optimizers.Adam(learning_rate=0.0001), loss=\"sparse_categorical_crossentropy\", metrics=[\"sparse_categorical_accuracy\"])"
      ],
      "execution_count": 12,
      "outputs": []
    },
    {
      "cell_type": "markdown",
      "metadata": {
        "id": "AeiwM76sFW1b",
        "colab_type": "text"
      },
      "source": [
        "### **Entrenar el modelo**"
      ]
    },
    {
      "cell_type": "code",
      "metadata": {
        "id": "NkbcjiW7FcRx",
        "colab_type": "code",
        "colab": {
          "base_uri": "https://localhost:8080/",
          "height": 1000
        },
        "outputId": "ebb6c14c-a0a6-444e-e79b-f90955411706"
      },
      "source": [
        "model.fit(X_train, y_train, epochs=50, batch_size=10)"
      ],
      "execution_count": 13,
      "outputs": [
        {
          "output_type": "stream",
          "text": [
            "Epoch 1/50\n",
            "   1/6000 [..............................] - ETA: 2s - loss: 2.5835 - sparse_categorical_accuracy: 0.1000WARNING:tensorflow:Callbacks method `on_train_batch_end` is slow compared to the batch time (batch time: 0.0021s vs `on_train_batch_end` time: 0.0038s). Check your callbacks.\n",
            "6000/6000 [==============================] - 11s 2ms/step - loss: 0.6668 - sparse_categorical_accuracy: 0.7783\n",
            "Epoch 2/50\n",
            "6000/6000 [==============================] - 10s 2ms/step - loss: 0.4598 - sparse_categorical_accuracy: 0.8404\n",
            "Epoch 3/50\n",
            "6000/6000 [==============================] - 10s 2ms/step - loss: 0.4131 - sparse_categorical_accuracy: 0.8552\n",
            "Epoch 4/50\n",
            "6000/6000 [==============================] - 10s 2ms/step - loss: 0.3876 - sparse_categorical_accuracy: 0.8620\n",
            "Epoch 5/50\n",
            "6000/6000 [==============================] - 10s 2ms/step - loss: 0.3664 - sparse_categorical_accuracy: 0.8699\n",
            "Epoch 6/50\n",
            "6000/6000 [==============================] - 9s 2ms/step - loss: 0.3510 - sparse_categorical_accuracy: 0.8740\n",
            "Epoch 7/50\n",
            "6000/6000 [==============================] - 10s 2ms/step - loss: 0.3392 - sparse_categorical_accuracy: 0.8793\n",
            "Epoch 8/50\n",
            "6000/6000 [==============================] - 10s 2ms/step - loss: 0.3289 - sparse_categorical_accuracy: 0.8822\n",
            "Epoch 9/50\n",
            "6000/6000 [==============================] - 10s 2ms/step - loss: 0.3209 - sparse_categorical_accuracy: 0.8859\n",
            "Epoch 10/50\n",
            "6000/6000 [==============================] - 10s 2ms/step - loss: 0.3137 - sparse_categorical_accuracy: 0.8874\n",
            "Epoch 11/50\n",
            "6000/6000 [==============================] - 10s 2ms/step - loss: 0.3050 - sparse_categorical_accuracy: 0.8899\n",
            "Epoch 12/50\n",
            "6000/6000 [==============================] - 10s 2ms/step - loss: 0.3005 - sparse_categorical_accuracy: 0.8910\n",
            "Epoch 13/50\n",
            "6000/6000 [==============================] - 10s 2ms/step - loss: 0.2923 - sparse_categorical_accuracy: 0.8943\n",
            "Epoch 14/50\n",
            "6000/6000 [==============================] - 10s 2ms/step - loss: 0.2872 - sparse_categorical_accuracy: 0.8951\n",
            "Epoch 15/50\n",
            "6000/6000 [==============================] - 10s 2ms/step - loss: 0.2825 - sparse_categorical_accuracy: 0.8976\n",
            "Epoch 16/50\n",
            "6000/6000 [==============================] - 10s 2ms/step - loss: 0.2792 - sparse_categorical_accuracy: 0.8976\n",
            "Epoch 17/50\n",
            "6000/6000 [==============================] - 10s 2ms/step - loss: 0.2727 - sparse_categorical_accuracy: 0.9015\n",
            "Epoch 18/50\n",
            "6000/6000 [==============================] - 10s 2ms/step - loss: 0.2669 - sparse_categorical_accuracy: 0.9028\n",
            "Epoch 19/50\n",
            "6000/6000 [==============================] - 10s 2ms/step - loss: 0.2644 - sparse_categorical_accuracy: 0.9031\n",
            "Epoch 20/50\n",
            "6000/6000 [==============================] - 10s 2ms/step - loss: 0.2596 - sparse_categorical_accuracy: 0.9053\n",
            "Epoch 21/50\n",
            "6000/6000 [==============================] - 11s 2ms/step - loss: 0.2573 - sparse_categorical_accuracy: 0.9067\n",
            "Epoch 22/50\n",
            "6000/6000 [==============================] - 10s 2ms/step - loss: 0.2539 - sparse_categorical_accuracy: 0.9076\n",
            "Epoch 23/50\n",
            "6000/6000 [==============================] - 10s 2ms/step - loss: 0.2489 - sparse_categorical_accuracy: 0.9095\n",
            "Epoch 24/50\n",
            "6000/6000 [==============================] - 10s 2ms/step - loss: 0.2463 - sparse_categorical_accuracy: 0.9098\n",
            "Epoch 25/50\n",
            "6000/6000 [==============================] - 10s 2ms/step - loss: 0.2442 - sparse_categorical_accuracy: 0.9109\n",
            "Epoch 26/50\n",
            "6000/6000 [==============================] - 10s 2ms/step - loss: 0.2403 - sparse_categorical_accuracy: 0.9115\n",
            "Epoch 27/50\n",
            "6000/6000 [==============================] - 10s 2ms/step - loss: 0.2367 - sparse_categorical_accuracy: 0.9133\n",
            "Epoch 28/50\n",
            "6000/6000 [==============================] - 10s 2ms/step - loss: 0.2352 - sparse_categorical_accuracy: 0.9143\n",
            "Epoch 29/50\n",
            "6000/6000 [==============================] - 10s 2ms/step - loss: 0.2317 - sparse_categorical_accuracy: 0.9147\n",
            "Epoch 30/50\n",
            "6000/6000 [==============================] - 10s 2ms/step - loss: 0.2292 - sparse_categorical_accuracy: 0.9159\n",
            "Epoch 31/50\n",
            "6000/6000 [==============================] - 10s 2ms/step - loss: 0.2262 - sparse_categorical_accuracy: 0.9171\n",
            "Epoch 32/50\n",
            "6000/6000 [==============================] - 10s 2ms/step - loss: 0.2253 - sparse_categorical_accuracy: 0.9170\n",
            "Epoch 33/50\n",
            "6000/6000 [==============================] - 10s 2ms/step - loss: 0.2197 - sparse_categorical_accuracy: 0.9202\n",
            "Epoch 34/50\n",
            "6000/6000 [==============================] - 10s 2ms/step - loss: 0.2172 - sparse_categorical_accuracy: 0.9203\n",
            "Epoch 35/50\n",
            "6000/6000 [==============================] - 10s 2ms/step - loss: 0.2164 - sparse_categorical_accuracy: 0.9220\n",
            "Epoch 36/50\n",
            "6000/6000 [==============================] - 10s 2ms/step - loss: 0.2137 - sparse_categorical_accuracy: 0.9223\n",
            "Epoch 37/50\n",
            "6000/6000 [==============================] - 10s 2ms/step - loss: 0.2111 - sparse_categorical_accuracy: 0.9224\n",
            "Epoch 38/50\n",
            "6000/6000 [==============================] - 9s 2ms/step - loss: 0.2123 - sparse_categorical_accuracy: 0.9220\n",
            "Epoch 39/50\n",
            "6000/6000 [==============================] - 10s 2ms/step - loss: 0.2094 - sparse_categorical_accuracy: 0.9224\n",
            "Epoch 40/50\n",
            "6000/6000 [==============================] - 10s 2ms/step - loss: 0.2058 - sparse_categorical_accuracy: 0.9241\n",
            "Epoch 41/50\n",
            "6000/6000 [==============================] - 10s 2ms/step - loss: 0.2021 - sparse_categorical_accuracy: 0.9255\n",
            "Epoch 42/50\n",
            "6000/6000 [==============================] - 10s 2ms/step - loss: 0.2013 - sparse_categorical_accuracy: 0.9269\n",
            "Epoch 43/50\n",
            "6000/6000 [==============================] - 9s 2ms/step - loss: 0.2001 - sparse_categorical_accuracy: 0.9268\n",
            "Epoch 44/50\n",
            "6000/6000 [==============================] - 9s 2ms/step - loss: 0.1991 - sparse_categorical_accuracy: 0.9266\n",
            "Epoch 45/50\n",
            "6000/6000 [==============================] - 10s 2ms/step - loss: 0.1958 - sparse_categorical_accuracy: 0.9272\n",
            "Epoch 46/50\n",
            "6000/6000 [==============================] - 10s 2ms/step - loss: 0.1940 - sparse_categorical_accuracy: 0.9279\n",
            "Epoch 47/50\n",
            "6000/6000 [==============================] - 10s 2ms/step - loss: 0.1911 - sparse_categorical_accuracy: 0.9294\n",
            "Epoch 48/50\n",
            "6000/6000 [==============================] - 10s 2ms/step - loss: 0.1913 - sparse_categorical_accuracy: 0.9310\n",
            "Epoch 49/50\n",
            "6000/6000 [==============================] - 10s 2ms/step - loss: 0.1865 - sparse_categorical_accuracy: 0.9314\n",
            "Epoch 50/50\n",
            "6000/6000 [==============================] - 10s 2ms/step - loss: 0.1878 - sparse_categorical_accuracy: 0.9299\n"
          ],
          "name": "stdout"
        },
        {
          "output_type": "execute_result",
          "data": {
            "text/plain": [
              "<tensorflow.python.keras.callbacks.History at 0x7f2f903b3860>"
            ]
          },
          "metadata": {
            "tags": []
          },
          "execution_count": 13
        }
      ]
    },
    {
      "cell_type": "markdown",
      "metadata": {
        "id": "cmSKUzdcNVsf",
        "colab_type": "text"
      },
      "source": [
        "### **Evaluar el modelo**"
      ]
    },
    {
      "cell_type": "code",
      "metadata": {
        "id": "0px2c0xHMgng",
        "colab_type": "code",
        "colab": {
          "base_uri": "https://localhost:8080/",
          "height": 88
        },
        "outputId": "c7a68834-77ad-4f73-8dfd-8c5a02a6aee9"
      },
      "source": [
        "test_loss, test_accuracy = model.evaluate(X_test, y_test)\n",
        "print(\"Precisión del conjunto de test: {}\".format(test_accuracy))"
      ],
      "execution_count": 14,
      "outputs": [
        {
          "output_type": "stream",
          "text": [
            "  1/313 [..............................] - ETA: 0s - loss: 0.5570 - sparse_categorical_accuracy: 0.8438WARNING:tensorflow:Callbacks method `on_test_batch_end` is slow compared to the batch time (batch time: 0.0021s vs `on_test_batch_end` time: 0.0059s). Check your callbacks.\n",
            "313/313 [==============================] - 1s 2ms/step - loss: 0.3127 - sparse_categorical_accuracy: 0.8937\n",
            "Precisión del conjunto de test: 0.8937000036239624\n"
          ],
          "name": "stdout"
        }
      ]
    },
    {
      "cell_type": "markdown",
      "metadata": {
        "id": "ukv4kCmJMeVD",
        "colab_type": "text"
      },
      "source": [
        "## **Paso 4: Convertir el modelo a la version de Tensor Flow Lite**"
      ]
    },
    {
      "cell_type": "markdown",
      "metadata": {
        "id": "yQJDJXGZNf3j",
        "colab_type": "text"
      },
      "source": [
        "### **Guardar el modelo**"
      ]
    },
    {
      "cell_type": "code",
      "metadata": {
        "id": "OiHy1vwzNfId",
        "colab_type": "code",
        "colab": {}
      },
      "source": [
        "model_name = \"fashion_mobile_model.h5\"\n",
        "tf.keras.models.save_model(model, model_name)"
      ],
      "execution_count": 20,
      "outputs": []
    },
    {
      "cell_type": "markdown",
      "metadata": {
        "id": "gx0ZKjDxODmy",
        "colab_type": "text"
      },
      "source": [
        "### Crear el TFLite Converter**"
      ]
    },
    {
      "cell_type": "code",
      "metadata": {
        "id": "J8yCdgR2OKOq",
        "colab_type": "code",
        "colab": {}
      },
      "source": [
        "converter = tf.lite.TFLiteConverter.from_keras_model(model)"
      ],
      "execution_count": 21,
      "outputs": []
    },
    {
      "cell_type": "markdown",
      "metadata": {
        "id": "6Cubqs1aOy0U",
        "colab_type": "text"
      },
      "source": [
        "### **Convertir el modelo**"
      ]
    },
    {
      "cell_type": "code",
      "metadata": {
        "id": "fELSrLRqO1Vc",
        "colab_type": "code",
        "colab": {
          "base_uri": "https://localhost:8080/",
          "height": 51
        },
        "outputId": "93137810-e6e6-4137-b9ed-59ed87337864"
      },
      "source": [
        "tflite_model = converter.convert()"
      ],
      "execution_count": 22,
      "outputs": [
        {
          "output_type": "stream",
          "text": [
            "INFO:tensorflow:Assets written to: /tmp/tmp91f__7ws/assets\n"
          ],
          "name": "stdout"
        },
        {
          "output_type": "stream",
          "text": [
            "INFO:tensorflow:Assets written to: /tmp/tmp91f__7ws/assets\n"
          ],
          "name": "stderr"
        }
      ]
    },
    {
      "cell_type": "markdown",
      "metadata": {
        "id": "XFpSvbOKboN8",
        "colab_type": "text"
      },
      "source": [
        "### **Guardar la versión de TFLite version del modelo**"
      ]
    },
    {
      "cell_type": "code",
      "metadata": {
        "id": "vK-43ljib1h2",
        "colab_type": "code",
        "colab": {}
      },
      "source": [
        "with open(\"tf_model.tflite\", \"wb\") as f:\n",
        "  f.write(tflite_model)"
      ],
      "execution_count": 23,
      "outputs": []
    }
  ]
}