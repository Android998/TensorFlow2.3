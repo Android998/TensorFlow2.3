{
  "nbformat": 4,
  "nbformat_minor": 0,
  "metadata": {
    "colab": {
      "name": "TFG.ipynb",
      "provenance": [],
      "mount_file_id": "https://github.com/Android998/TensorFlow2.3/blob/master/TFG.ipynb",
      "authorship_tag": "ABX9TyO7hECOK29u7QfA1tOiUkxw",
      "include_colab_link": true
    },
    "kernelspec": {
      "name": "python3",
      "display_name": "Python 3"
    },
    "accelerator": "GPU"
  },
  "cells": [
    {
      "cell_type": "markdown",
      "metadata": {
        "id": "view-in-github",
        "colab_type": "text"
      },
      "source": [
        "<a href=\"https://colab.research.google.com/github/Android998/TensorFlow2.3/blob/master/TFG4.0.ipynb\" target=\"_parent\"><img src=\"https://colab.research.google.com/assets/colab-badge.svg\" alt=\"Open In Colab\"/></a>"
      ]
    },
    {
      "cell_type": "markdown",
      "metadata": {
        "id": "f5Vt5BoZk8b-"
      },
      "source": [
        "## **Paso 1: Importar las librerias**"
      ]
    },
    {
      "cell_type": "code",
      "metadata": {
        "id": "wDhZ260AcDBb"
      },
      "source": [
        "import os\n",
        "import zipfile\n",
        "import numpy as np\n",
        "import tensorflow as tf\n",
        "assert tf.__version__.startswith('2')\n",
        "import matplotlib.pyplot as plt\n",
        "\n",
        "from tqdm import tqdm_notebook\n",
        "from google.colab import drive\n",
        "from tensorflow.keras.preprocessing.image import ImageDataGenerator\n",
        "\n",
        "%matplotlib inline"
      ],
      "execution_count": 1,
      "outputs": []
    },
    {
      "cell_type": "markdown",
      "metadata": {
        "id": "8YSbqpAelDtV"
      },
      "source": [
        "## **Paso 2:Pre procesado de datos**"
      ]
    },
    {
      "cell_type": "code",
      "metadata": {
        "id": "Z06ryLWDlCoo",
        "outputId": "dd86125c-9480-4b6d-e2d0-690b05d39ea1",
        "colab": {
          "base_uri": "https://localhost:8080/",
          "height": 34
        }
      },
      "source": [
        "drive.mount(\"/content/drive\")\n",
        "base_dir = \"./drive/My Drive/object_photos2.0\""
      ],
      "execution_count": 2,
      "outputs": [
        {
          "output_type": "stream",
          "text": [
            "Drive already mounted at /content/drive; to attempt to forcibly remount, call drive.mount(\"/content/drive\", force_remount=True).\n"
          ],
          "name": "stdout"
        }
      ]
    },
    {
      "cell_type": "code",
      "metadata": {
        "id": "6PXrwXPQum-A"
      },
      "source": [
        "IMAGE_SIZE = 224\n",
        "BATCH_SIZE = 64\n",
        "datagen = tf.keras.preprocessing.image.ImageDataGenerator(\n",
        "    rescale=1./255, \n",
        "    validation_split=0.2)\n"
      ],
      "execution_count": 3,
      "outputs": []
    },
    {
      "cell_type": "code",
      "metadata": {
        "id": "6yVvxCvxuu4e",
        "outputId": "71fad627-54dc-484a-fad9-b78a28a309f9",
        "colab": {
          "base_uri": "https://localhost:8080/",
          "height": 51
        }
      },
      "source": [
        "train_generator = datagen.flow_from_directory(\n",
        "    base_dir,\n",
        "    target_size=(IMAGE_SIZE, IMAGE_SIZE),\n",
        "    batch_size=BATCH_SIZE, \n",
        "    subset='training')\n",
        "\n",
        "print(len(train_generator))"
      ],
      "execution_count": 4,
      "outputs": [
        {
          "output_type": "stream",
          "text": [
            "Found 12801 images belonging to 40 classes.\n",
            "201\n"
          ],
          "name": "stdout"
        }
      ]
    },
    {
      "cell_type": "code",
      "metadata": {
        "id": "jTPH2N3_uwi_",
        "outputId": "126b5135-dce3-446f-e42b-c23470ab07c4",
        "colab": {
          "base_uri": "https://localhost:8080/",
          "height": 51
        }
      },
      "source": [
        "val_generator = datagen.flow_from_directory(\n",
        "    base_dir,\n",
        "    target_size=(IMAGE_SIZE, IMAGE_SIZE),\n",
        "    batch_size=BATCH_SIZE, \n",
        "    subset='validation')\n",
        "print(len(val_generator))"
      ],
      "execution_count": 5,
      "outputs": [
        {
          "output_type": "stream",
          "text": [
            "Found 3200 images belonging to 40 classes.\n",
            "50\n"
          ],
          "name": "stdout"
        }
      ]
    },
    {
      "cell_type": "markdown",
      "metadata": {
        "id": "sNtajZB5XJqp"
      },
      "source": [
        "### **Generamos el archivo labels con las etiquetas de los objetos**"
      ]
    },
    {
      "cell_type": "code",
      "metadata": {
        "id": "IHYustr0XCZp",
        "outputId": "fb0c52d5-5d81-48f2-daf5-0f884374f0d0",
        "colab": {
          "base_uri": "https://localhost:8080/",
          "height": 54
        }
      },
      "source": [
        "print (train_generator.class_indices)\n",
        "\n",
        "labels = '\\n'.join(sorted(train_generator.class_indices.keys()))\n",
        "\n",
        "with open('labels.txt', 'w') as f:\n",
        "  f.write(labels)"
      ],
      "execution_count": 6,
      "outputs": [
        {
          "output_type": "stream",
          "text": [
            "{'backpack': 0, 'bed': 1, 'belt': 2, 'blind stick': 3, 'bottle': 4, 'carpet': 5, 'cellular phone': 6, 'chair': 7, 'cup-glass': 8, 'door': 9, 'eyeglasses': 10, 'fan': 11, 'handkerchief': 12, 'headphones': 13, 'keys': 14, 'laptop': 15, 'mouse': 16, 'newspaper': 17, 'notebook': 18, 'pen': 19, 'pencil': 20, 'pillow': 21, 'plate': 22, 'plug': 23, 'printer': 24, 'radiator': 25, 'remote control': 26, 'shoes': 27, 'shorts': 28, 'socks': 29, 't-shirts': 30, 'table': 31, 'television': 32, 'toothbrush': 33, 'towel': 34, 'trash bin': 35, 'wallet': 36, 'wardrobe': 37, 'watch': 38, 'window (shade)': 39}\n"
          ],
          "name": "stdout"
        }
      ]
    },
    {
      "cell_type": "code",
      "metadata": {
        "id": "3ei7YAb_XGB1",
        "outputId": "8d989a27-3152-442b-c676-85af6dc9a298",
        "colab": {
          "base_uri": "https://localhost:8080/",
          "height": 697
        }
      },
      "source": [
        "!cat labels.txt"
      ],
      "execution_count": 7,
      "outputs": [
        {
          "output_type": "stream",
          "text": [
            "backpack\n",
            "bed\n",
            "belt\n",
            "blind stick\n",
            "bottle\n",
            "carpet\n",
            "cellular phone\n",
            "chair\n",
            "cup-glass\n",
            "door\n",
            "eyeglasses\n",
            "fan\n",
            "handkerchief\n",
            "headphones\n",
            "keys\n",
            "laptop\n",
            "mouse\n",
            "newspaper\n",
            "notebook\n",
            "pen\n",
            "pencil\n",
            "pillow\n",
            "plate\n",
            "plug\n",
            "printer\n",
            "radiator\n",
            "remote control\n",
            "shoes\n",
            "shorts\n",
            "socks\n",
            "t-shirts\n",
            "table\n",
            "television\n",
            "toothbrush\n",
            "towel\n",
            "trash bin\n",
            "wallet\n",
            "wardrobe\n",
            "watch\n",
            "window (shade)"
          ],
          "name": "stdout"
        }
      ]
    },
    {
      "cell_type": "markdown",
      "metadata": {
        "id": "5kY07UNKXTmd"
      },
      "source": [
        "## **Paso 3: Crear el modelo base ya entrenado**"
      ]
    },
    {
      "cell_type": "code",
      "metadata": {
        "id": "iXwprYu_VRst"
      },
      "source": [
        "IMG_SHAPE = (IMAGE_SIZE, IMAGE_SIZE, 3)"
      ],
      "execution_count": 8,
      "outputs": []
    },
    {
      "cell_type": "code",
      "metadata": {
        "id": "4MwvYSdDPMTh"
      },
      "source": [
        "modelo = tf.keras.models.Sequential()\n",
        "modelo.add(tf.keras.layers.InputLayer(input_shape=IMG_SHAPE))\n",
        "modelo.add(tf.keras.layers.Conv2D(128, 3, activation='relu', padding=\"same\"))\n",
        "modelo.add(tf.keras.layers.Dropout(0.2))\n",
        "modelo.add(tf.keras.layers.BatchNormalization())\n",
        "modelo.add(tf.keras.layers.Conv2D(64, 3, activation='relu', padding=\"same\"))\n",
        "modelo.add(tf.keras.layers.Conv2D(64, 3, activation='relu', padding=\"same\"))\n",
        "modelo.add(tf.keras.layers.BatchNormalization())\n",
        "modelo.add(tf.keras.layers.BatchNormalization())\n",
        "modelo.add(tf.keras.layers.Conv2D(32, 3, activation='relu', padding=\"same\"))\n",
        "modelo.add(tf.keras.layers.MaxPooling2D(pool_size=(4, 4)))\n",
        "modelo.add(tf.keras.layers.Dropout(0.2))\n",
        "modelo.add(tf.keras.layers.BatchNormalization())\n",
        "modelo.add(tf.keras.layers.Conv2D(32, 3, activation='relu', padding=\"same\"))\n",
        "modelo.add(tf.keras.layers.MaxPooling2D(pool_size=(3, 3)))\n",
        "modelo.add(tf.keras.layers.Dropout(0.2))\n",
        "modelo.add(tf.keras.layers.BatchNormalization())\n",
        "modelo.add(tf.keras.layers.Conv2D(16, 3, activation='relu', padding=\"same\"))\n",
        "modelo.add(tf.keras.layers.MaxPooling2D(pool_size=(3, 3)))\n",
        "modelo.add(tf.keras.layers.Dropout(0.2))\n",
        "modelo.add(tf.keras.layers.BatchNormalization())\n",
        "modelo.add(tf.keras.layers.Flatten())\n",
        "modelo.add(tf.keras.layers.Dropout(0.2))\n",
        "modelo.add(tf.keras.layers.Dense(units=128, activation=\"relu\"))\n",
        "modelo.add(tf.keras.layers.Dropout(0.2))\n",
        "modelo.add(tf.keras.layers.BatchNormalization())\n",
        "modelo.add(tf.keras.layers.Dense(units=256, activation=\"relu\"))\n",
        "modelo.add(tf.keras.layers.Dense(units=40, activation=\"softmax\"))"
      ],
      "execution_count": 9,
      "outputs": []
    },
    {
      "cell_type": "code",
      "metadata": {
        "id": "Xty_0omUOTfG",
        "outputId": "cff189b8-09cb-468f-e59e-2ee95c6d6ac2",
        "colab": {
          "base_uri": "https://localhost:8080/",
          "height": 1000
        }
      },
      "source": [
        "modelo.summary()"
      ],
      "execution_count": 10,
      "outputs": [
        {
          "output_type": "stream",
          "text": [
            "Model: \"sequential\"\n",
            "_________________________________________________________________\n",
            "Layer (type)                 Output Shape              Param #   \n",
            "=================================================================\n",
            "conv2d (Conv2D)              (None, 224, 224, 128)     3584      \n",
            "_________________________________________________________________\n",
            "dropout (Dropout)            (None, 224, 224, 128)     0         \n",
            "_________________________________________________________________\n",
            "batch_normalization (BatchNo (None, 224, 224, 128)     512       \n",
            "_________________________________________________________________\n",
            "conv2d_1 (Conv2D)            (None, 224, 224, 64)      73792     \n",
            "_________________________________________________________________\n",
            "conv2d_2 (Conv2D)            (None, 224, 224, 64)      36928     \n",
            "_________________________________________________________________\n",
            "batch_normalization_1 (Batch (None, 224, 224, 64)      256       \n",
            "_________________________________________________________________\n",
            "batch_normalization_2 (Batch (None, 224, 224, 64)      256       \n",
            "_________________________________________________________________\n",
            "conv2d_3 (Conv2D)            (None, 224, 224, 32)      18464     \n",
            "_________________________________________________________________\n",
            "max_pooling2d (MaxPooling2D) (None, 56, 56, 32)        0         \n",
            "_________________________________________________________________\n",
            "dropout_1 (Dropout)          (None, 56, 56, 32)        0         \n",
            "_________________________________________________________________\n",
            "batch_normalization_3 (Batch (None, 56, 56, 32)        128       \n",
            "_________________________________________________________________\n",
            "conv2d_4 (Conv2D)            (None, 56, 56, 32)        9248      \n",
            "_________________________________________________________________\n",
            "max_pooling2d_1 (MaxPooling2 (None, 18, 18, 32)        0         \n",
            "_________________________________________________________________\n",
            "dropout_2 (Dropout)          (None, 18, 18, 32)        0         \n",
            "_________________________________________________________________\n",
            "batch_normalization_4 (Batch (None, 18, 18, 32)        128       \n",
            "_________________________________________________________________\n",
            "conv2d_5 (Conv2D)            (None, 18, 18, 16)        4624      \n",
            "_________________________________________________________________\n",
            "max_pooling2d_2 (MaxPooling2 (None, 6, 6, 16)          0         \n",
            "_________________________________________________________________\n",
            "dropout_3 (Dropout)          (None, 6, 6, 16)          0         \n",
            "_________________________________________________________________\n",
            "batch_normalization_5 (Batch (None, 6, 6, 16)          64        \n",
            "_________________________________________________________________\n",
            "flatten (Flatten)            (None, 576)               0         \n",
            "_________________________________________________________________\n",
            "dropout_4 (Dropout)          (None, 576)               0         \n",
            "_________________________________________________________________\n",
            "dense (Dense)                (None, 128)               73856     \n",
            "_________________________________________________________________\n",
            "dropout_5 (Dropout)          (None, 128)               0         \n",
            "_________________________________________________________________\n",
            "batch_normalization_6 (Batch (None, 128)               512       \n",
            "_________________________________________________________________\n",
            "dense_1 (Dense)              (None, 256)               33024     \n",
            "_________________________________________________________________\n",
            "dense_2 (Dense)              (None, 40)                10280     \n",
            "=================================================================\n",
            "Total params: 265,656\n",
            "Trainable params: 264,728\n",
            "Non-trainable params: 928\n",
            "_________________________________________________________________\n"
          ],
          "name": "stdout"
        }
      ]
    },
    {
      "cell_type": "code",
      "metadata": {
        "id": "t8oS6D2mVKTB"
      },
      "source": [
        "modelo.compile(optimizer=tf.keras.optimizers.Adam(), \n",
        "               loss='categorical_crossentropy', \n",
        "               metrics=['accuracy'])"
      ],
      "execution_count": 11,
      "outputs": []
    },
    {
      "cell_type": "code",
      "metadata": {
        "id": "6LSUhHE7OFaw"
      },
      "source": [
        "callback = tf.keras.callbacks.EarlyStopping(\n",
        "    monitor=\"val_loss\", patience=10, mode=\"auto\",\n",
        "    restore_best_weights = True\n",
        ")"
      ],
      "execution_count": 12,
      "outputs": []
    },
    {
      "cell_type": "code",
      "metadata": {
        "id": "mp3UykJ8VWcO",
        "outputId": "0e9acbc4-6754-4bd4-e3b7-5d97b6f9fd6a",
        "colab": {
          "base_uri": "https://localhost:8080/",
          "height": 1000
        }
      },
      "source": [
        "history = modelo.fit(train_generator, \n",
        "           steps_per_epoch=len(train_generator), \n",
        "           epochs=100,\n",
        "           validation_data=val_generator, \n",
        "           validation_steps=len(val_generator))"
      ],
      "execution_count": 19,
      "outputs": [
        {
          "output_type": "stream",
          "text": [
            "\b\b\b\b\b\b\b\b\b\b\b\b\b\b\b\b\b\b\b\b\b\b\b\b\b\b\b\b\b\b\b\b\b\b\b\b\b\b\b\b\b\b\b\b\b\b\b\b\b\b\b\b\b\b\b\b\b\b\b\b\b\b\b\b\b\b\b\b\b\b\b\b\b\b\b\b\b\b\b\b\b\b\b\b\r201/201 [==============================] - 111s 552ms/step - loss: 1.3648 - accuracy: 0.5770 - val_loss: 2.9836 - val_accuracy: 0.2978\n",
            "Epoch 70/100\n",
            "201/201 [==============================] - 112s 559ms/step - loss: 1.3549 - accuracy: 0.5778 - val_loss: 2.8642 - val_accuracy: 0.2800\n",
            "Epoch 71/100\n",
            "201/201 [==============================] - 114s 565ms/step - loss: 1.3461 - accuracy: 0.5776 - val_loss: 2.7595 - val_accuracy: 0.3106\n",
            "Epoch 72/100\n",
            "201/201 [==============================] - 114s 565ms/step - loss: 1.3504 - accuracy: 0.5808 - val_loss: 2.8860 - val_accuracy: 0.2875\n",
            "Epoch 73/100\n",
            "201/201 [==============================] - 114s 568ms/step - loss: 1.3493 - accuracy: 0.5748 - val_loss: 2.9426 - val_accuracy: 0.2791\n",
            "Epoch 74/100\n",
            "201/201 [==============================] - 115s 571ms/step - loss: 1.3198 - accuracy: 0.5903 - val_loss: 2.9005 - val_accuracy: 0.3137\n",
            "Epoch 75/100\n",
            "201/201 [==============================] - 115s 573ms/step - loss: 1.3251 - accuracy: 0.5860 - val_loss: 2.7938 - val_accuracy: 0.2831\n",
            "Epoch 76/100\n",
            "201/201 [==============================] - 115s 572ms/step - loss: 1.3279 - accuracy: 0.5871 - val_loss: 2.7129 - val_accuracy: 0.3250\n",
            "Epoch 77/100\n",
            "201/201 [==============================] - 114s 566ms/step - loss: 1.3150 - accuracy: 0.5860 - val_loss: 2.6456 - val_accuracy: 0.3456\n",
            "Epoch 78/100\n",
            "201/201 [==============================] - 114s 566ms/step - loss: 1.3309 - accuracy: 0.5849 - val_loss: 2.7411 - val_accuracy: 0.3134\n",
            "Epoch 79/100\n",
            "201/201 [==============================] - 114s 565ms/step - loss: 1.3267 - accuracy: 0.5862 - val_loss: 2.6474 - val_accuracy: 0.3487\n",
            "Epoch 80/100\n",
            "201/201 [==============================] - 114s 566ms/step - loss: 1.2973 - accuracy: 0.5944 - val_loss: 2.8084 - val_accuracy: 0.2969\n",
            "Epoch 81/100\n",
            "201/201 [==============================] - 114s 570ms/step - loss: 1.3192 - accuracy: 0.5843 - val_loss: 2.8519 - val_accuracy: 0.3028\n",
            "Epoch 82/100\n",
            "201/201 [==============================] - 114s 568ms/step - loss: 1.3268 - accuracy: 0.5809 - val_loss: 2.5757 - val_accuracy: 0.3406\n",
            "Epoch 83/100\n",
            "201/201 [==============================] - 114s 568ms/step - loss: 1.2949 - accuracy: 0.5917 - val_loss: 2.8787 - val_accuracy: 0.3034\n",
            "Epoch 84/100\n",
            "201/201 [==============================] - 114s 570ms/step - loss: 1.3118 - accuracy: 0.5890 - val_loss: 2.6236 - val_accuracy: 0.3456\n",
            "Epoch 85/100\n",
            "201/201 [==============================] - 114s 567ms/step - loss: 1.2923 - accuracy: 0.5985 - val_loss: 2.8220 - val_accuracy: 0.2978\n",
            "Epoch 86/100\n",
            "201/201 [==============================] - 114s 569ms/step - loss: 1.3129 - accuracy: 0.5909 - val_loss: 2.7971 - val_accuracy: 0.3081\n",
            "Epoch 87/100\n",
            "201/201 [==============================] - 114s 568ms/step - loss: 1.2959 - accuracy: 0.5921 - val_loss: 2.8695 - val_accuracy: 0.2931\n",
            "Epoch 88/100\n",
            "201/201 [==============================] - 114s 567ms/step - loss: 1.2924 - accuracy: 0.5928 - val_loss: 2.9508 - val_accuracy: 0.2831\n",
            "Epoch 89/100\n",
            "201/201 [==============================] - 114s 569ms/step - loss: 1.2894 - accuracy: 0.5905 - val_loss: 2.6321 - val_accuracy: 0.3341\n",
            "Epoch 90/100\n",
            "201/201 [==============================] - 115s 570ms/step - loss: 1.2885 - accuracy: 0.5975 - val_loss: 2.7870 - val_accuracy: 0.3225\n",
            "Epoch 91/100\n",
            "201/201 [==============================] - 114s 567ms/step - loss: 1.2761 - accuracy: 0.5981 - val_loss: 2.7665 - val_accuracy: 0.3184\n",
            "Epoch 92/100\n",
            "201/201 [==============================] - 114s 566ms/step - loss: 1.2684 - accuracy: 0.6050 - val_loss: 2.7175 - val_accuracy: 0.3262\n",
            "Epoch 93/100\n",
            "201/201 [==============================] - 114s 568ms/step - loss: 1.2781 - accuracy: 0.5968 - val_loss: 2.6920 - val_accuracy: 0.3300\n",
            "Epoch 94/100\n",
            "201/201 [==============================] - 114s 567ms/step - loss: 1.2763 - accuracy: 0.6039 - val_loss: 2.9150 - val_accuracy: 0.3128\n",
            "Epoch 95/100\n",
            "201/201 [==============================] - 114s 565ms/step - loss: 1.2814 - accuracy: 0.5952 - val_loss: 2.5731 - val_accuracy: 0.3566\n",
            "Epoch 96/100\n",
            "201/201 [==============================] - 113s 564ms/step - loss: 1.2879 - accuracy: 0.5976 - val_loss: 2.5999 - val_accuracy: 0.3487\n",
            "Epoch 97/100\n",
            "201/201 [==============================] - 114s 566ms/step - loss: 1.2548 - accuracy: 0.6053 - val_loss: 2.7313 - val_accuracy: 0.3300\n",
            "Epoch 98/100\n",
            "201/201 [==============================] - 114s 566ms/step - loss: 1.2561 - accuracy: 0.6066 - val_loss: 2.8977 - val_accuracy: 0.2891\n",
            "Epoch 99/100\n",
            "201/201 [==============================] - 114s 566ms/step - loss: 1.2721 - accuracy: 0.5971 - val_loss: 2.6411 - val_accuracy: 0.3275\n",
            "Epoch 100/100\n",
            "201/201 [==============================] - 115s 571ms/step - loss: 1.2761 - accuracy: 0.5964 - val_loss: 2.6698 - val_accuracy: 0.3447\n"
          ],
          "name": "stdout"
        }
      ]
    },
    {
      "cell_type": "code",
      "metadata": {
        "id": "oSdIGIhSHlbp",
        "outputId": "7178992b-75cd-4f1a-a1e7-4b4ad16cf252",
        "colab": {
          "base_uri": "https://localhost:8080/",
          "height": 759
        }
      },
      "source": [
        "history2 = modelo.fit(train_generator, \n",
        "           steps_per_epoch=len(train_generator), \n",
        "           epochs=100,\n",
        "           callbacks = [callback],\n",
        "           validation_data=val_generator, \n",
        "           validation_steps=len(val_generator))"
      ],
      "execution_count": 14,
      "outputs": [
        {
          "output_type": "stream",
          "text": [
            "Epoch 1/100\n",
            "  2/201 [..............................] - ETA: 44s - loss: 1.7442 - accuracy: 0.4531WARNING:tensorflow:Callbacks method `on_train_batch_end` is slow compared to the batch time (batch time: 0.1554s vs `on_train_batch_end` time: 0.2918s). Check your callbacks.\n",
            "201/201 [==============================] - 112s 555ms/step - loss: 1.8387 - accuracy: 0.4479 - val_loss: 3.0333 - val_accuracy: 0.2428\n",
            "Epoch 2/100\n",
            "201/201 [==============================] - 112s 559ms/step - loss: 1.8173 - accuracy: 0.4514 - val_loss: 2.5388 - val_accuracy: 0.3050\n",
            "Epoch 3/100\n",
            "201/201 [==============================] - 113s 560ms/step - loss: 1.8079 - accuracy: 0.4564 - val_loss: 2.7922 - val_accuracy: 0.2512\n",
            "Epoch 4/100\n",
            "201/201 [==============================] - 112s 559ms/step - loss: 1.8129 - accuracy: 0.4531 - val_loss: 2.4837 - val_accuracy: 0.3113\n",
            "Epoch 5/100\n",
            "201/201 [==============================] - 112s 559ms/step - loss: 1.8121 - accuracy: 0.4460 - val_loss: 2.6964 - val_accuracy: 0.2825\n",
            "Epoch 6/100\n",
            "201/201 [==============================] - 112s 559ms/step - loss: 1.7745 - accuracy: 0.4644 - val_loss: 2.6721 - val_accuracy: 0.2741\n",
            "Epoch 7/100\n",
            "201/201 [==============================] - 112s 558ms/step - loss: 1.7655 - accuracy: 0.4629 - val_loss: 2.5478 - val_accuracy: 0.3056\n",
            "Epoch 8/100\n",
            "201/201 [==============================] - 113s 561ms/step - loss: 1.7644 - accuracy: 0.4616 - val_loss: 2.5734 - val_accuracy: 0.3100\n",
            "Epoch 9/100\n",
            "201/201 [==============================] - 113s 564ms/step - loss: 1.7695 - accuracy: 0.4600 - val_loss: 2.6889 - val_accuracy: 0.2803\n",
            "Epoch 10/100\n",
            "201/201 [==============================] - 113s 563ms/step - loss: 1.7365 - accuracy: 0.4749 - val_loss: 2.9107 - val_accuracy: 0.2447\n",
            "Epoch 11/100\n",
            "201/201 [==============================] - 113s 562ms/step - loss: 1.7359 - accuracy: 0.4679 - val_loss: 2.4744 - val_accuracy: 0.3262\n",
            "Epoch 12/100\n",
            "201/201 [==============================] - 112s 558ms/step - loss: 1.7252 - accuracy: 0.4784 - val_loss: 2.5701 - val_accuracy: 0.3097\n",
            "Epoch 13/100\n",
            "201/201 [==============================] - 112s 560ms/step - loss: 1.7238 - accuracy: 0.4746 - val_loss: 2.5240 - val_accuracy: 0.3228\n",
            "Epoch 14/100\n",
            "201/201 [==============================] - 113s 564ms/step - loss: 1.7019 - accuracy: 0.4810 - val_loss: 2.6632 - val_accuracy: 0.2806\n",
            "Epoch 15/100\n",
            "201/201 [==============================] - 114s 566ms/step - loss: 1.6891 - accuracy: 0.4866 - val_loss: 2.6917 - val_accuracy: 0.2975\n",
            "Epoch 16/100\n",
            "201/201 [==============================] - 113s 563ms/step - loss: 1.6936 - accuracy: 0.4848 - val_loss: 2.5241 - val_accuracy: 0.3331\n",
            "Epoch 17/100\n",
            "201/201 [==============================] - 114s 565ms/step - loss: 1.6739 - accuracy: 0.4881 - val_loss: 2.5562 - val_accuracy: 0.3178\n",
            "Epoch 18/100\n",
            "201/201 [==============================] - 114s 565ms/step - loss: 1.6706 - accuracy: 0.4918 - val_loss: 2.5060 - val_accuracy: 0.3166\n",
            "Epoch 19/100\n",
            "201/201 [==============================] - 114s 568ms/step - loss: 1.6854 - accuracy: 0.4877 - val_loss: 2.7483 - val_accuracy: 0.2753\n",
            "Epoch 20/100\n",
            "201/201 [==============================] - 113s 565ms/step - loss: 1.6453 - accuracy: 0.4983 - val_loss: 2.5811 - val_accuracy: 0.3038\n",
            "Epoch 21/100\n",
            "201/201 [==============================] - 114s 565ms/step - loss: 1.6398 - accuracy: 0.4955 - val_loss: 2.7991 - val_accuracy: 0.2678\n"
          ],
          "name": "stdout"
        }
      ]
    },
    {
      "cell_type": "code",
      "metadata": {
        "id": "APNz2I6WUSX6",
        "outputId": "84a813de-1338-4cb2-ae6d-28536e7d17ed",
        "colab": {
          "base_uri": "https://localhost:8080/",
          "height": 513
        }
      },
      "source": [
        "acc = history2.history['accuracy']\n",
        "val_acc = history2.history['val_accuracy']\n",
        "\n",
        "loss = history2.history['loss']\n",
        "val_loss = history2.history['val_loss']\n",
        "\n",
        "plt.figure(figsize=(8, 8))\n",
        "plt.subplot(2, 1, 1)\n",
        "plt.plot(acc, label='Training Accuracy')\n",
        "plt.plot(val_acc, label='Validation Accuracy')\n",
        "plt.legend(loc='lower right')\n",
        "plt.ylabel('Accuracy')\n",
        "plt.title('Training and Validation Accuracy')\n",
        "\n",
        "plt.subplot(2, 1, 2)\n",
        "plt.plot(loss, label='Training Loss')\n",
        "plt.plot(val_loss, label='Validation Loss')\n",
        "plt.legend(loc='upper right')\n",
        "plt.ylabel('Cross Entropy')\n",
        "plt.title('Training and Validation Loss')\n",
        "plt.xlabel('epoch')\n",
        "plt.show()"
      ],
      "execution_count": 18,
      "outputs": [
        {
          "output_type": "display_data",
          "data": {
            "image/png": "[encoded data removed]",
            "text/plain": [
              "<Figure size 576x576 with 2 Axes>"
            ]
          },
          "metadata": {
            "tags": [],
            "needs_background": "light"
          }
        }
      ]
    },
    {
      "cell_type": "code",
      "metadata": {
        "id": "IMQxHcU9UCJX"
      },
      "source": [
        "model_json = model.to_json()\n",
        "with open(\"fashion_model.json\", \"w\") as json_file:\n",
        "    json_file.write(model_json)"
      ],
      "execution_count": null,
      "outputs": []
    },
    {
      "cell_type": "code",
      "metadata": {
        "id": "krdba2IMUDG4"
      },
      "source": [
        "model.save_weights(\"fashion_model.h5\")"
      ],
      "execution_count": null,
      "outputs": []
    },
    {
      "cell_type": "code",
      "metadata": {
        "id": "bW3CQjWgUjTP"
      },
      "source": [
        "files.download(\"fashion_model.json\")\n",
        "files.download(\"fashion_model.h5\")"
      ],
      "execution_count": null,
      "outputs": []
    }
  ]
}