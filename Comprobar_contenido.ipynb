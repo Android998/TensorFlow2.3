{
  "nbformat": 4,
  "nbformat_minor": 0,
  "metadata": {
    "colab": {
      "name": "Untitled1.ipynb",
      "provenance": [],
      "authorship_tag": "ABX9TyOfMH3cmq6h+BwmEHOZ4xe6",
      "include_colab_link": true
    },
    "kernelspec": {
      "name": "python3",
      "display_name": "Python 3"
    }
  },
  "cells": [
    {
      "cell_type": "markdown",
      "metadata": {
        "id": "view-in-github",
        "colab_type": "text"
      },
      "source": [
        "<a href=\"https://colab.research.google.com/github/Android998/TensorFlow2.3/blob/master/Comprobar_contenido.ipynb\" target=\"_parent\"><img src=\"https://colab.research.google.com/assets/colab-badge.svg\" alt=\"Open In Colab\"/></a>"
      ]
    },
    {
      "cell_type": "code",
      "metadata": {
        "id": "Dg2Y_PD3Fw8I"
      },
      "source": [
        "from google.colab import drive"
      ],
      "execution_count": 1,
      "outputs": []
    },
    {
      "cell_type": "code",
      "metadata": {
        "id": "yykpCmJrFySt",
        "outputId": "450d57d4-7ad9-43c2-aa0f-c3adffd50053",
        "colab": {
          "base_uri": "https://localhost:8080/",
          "height": 34
        }
      },
      "source": [
        "drive.mount(\"/content/drive\")\n",
        "base_dir = \"./drive/My Drive/object_photos/toothbrush\""
      ],
      "execution_count": 106,
      "outputs": [
        {
          "output_type": "stream",
          "text": [
            "Drive already mounted at /content/drive; to attempt to forcibly remount, call drive.mount(\"/content/drive\", force_remount=True).\n"
          ],
          "name": "stdout"
        }
      ]
    },
    {
      "cell_type": "code",
      "metadata": {
        "id": "8SLbDa9oGJha"
      },
      "source": [
        "from os import listdir"
      ],
      "execution_count": 107,
      "outputs": []
    },
    {
      "cell_type": "code",
      "metadata": {
        "id": "u9geLotmGLsA"
      },
      "source": [
        " import cv2\n",
        " "
      ],
      "execution_count": 108,
      "outputs": []
    },
    {
      "cell_type": "code",
      "metadata": {
        "id": "iiRK1gzXFqBN"
      },
      "source": [
        "#for filename in listdir('C:/tensorflow/models/research/object_detection/images/train'):\n",
        "a = 0\n",
        "for filename in listdir(base_dir):\n",
        "  if filename.endswith(\".jpg\"):\n",
        "    if (a == 0):\n",
        "      a = 1\n",
        "      print(\" \"+base_dir+\" \"+filename)\n",
        "    #cv2.imread('C:/tensorflow/models/research/object_detection/images/train/'+filename)\n",
        "    cv2.imread(base_dir+filename)\n",
        "  elif filename.endswith(\".JPEG\"):\n",
        "    #print(\" \"+base_dir+\" \"+filename)\n",
        "    #cv2.imread('C:/tensorflow/models/research/object_detection/images/train/'+filename)\n",
        "    cv2.imread(base_dir+filename)\n",
        "  elif filename.endswith(\".PNG\"):\n",
        "    #print(\" \"+base_dir+\" \"+filename)\n",
        "    #cv2.imread('C:/tensorflow/models/research/object_detection/images/train/'+filename)\n",
        "    cv2.imread(base_dir+filename)\n",
        "  else: print(\"ERROR EN LA LECTURA!!!!!!!!!!!!\")"
      ],
      "execution_count": 109,
      "outputs": []
    },
    {
      "cell_type": "code",
      "metadata": {
        "id": "gQn4HKMJgWHB"
      },
      "source": [
        ""
      ],
      "execution_count": null,
      "outputs": []
    }
  ]
}