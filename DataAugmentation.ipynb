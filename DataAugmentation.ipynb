{
  "nbformat": 4,
  "nbformat_minor": 0,
  "metadata": {
    "colab": {
      "name": "Untitled2.ipynb",
      "provenance": [],
      "toc_visible": true,
      "mount_file_id": "1I8uvxyXxfRAH6TH2PF3L5BhRCFyygf2m",
      "authorship_tag": "ABX9TyMdvSHEWhE9zXsDTQuvZoxu",
      "include_colab_link": true
    },
    "kernelspec": {
      "name": "python3",
      "display_name": "Python 3"
    }
  },
  "cells": [
    {
      "cell_type": "markdown",
      "metadata": {
        "id": "view-in-github",
        "colab_type": "text"
      },
      "source": [
        "<a href=\"https://colab.research.google.com/github/Android998/TensorFlow2.3/blob/master/DataAugmentation.ipynb\" target=\"_parent\"><img src=\"https://colab.research.google.com/assets/colab-badge.svg\" alt=\"Open In Colab\"/></a>"
      ]
    },
    {
      "cell_type": "markdown",
      "metadata": {
        "id": "V-XN0D-w5pUJ"
      },
      "source": [
        "## **Data Augmentation**"
      ]
    },
    {
      "cell_type": "code",
      "metadata": {
        "id": "nvKICqKJ5obR"
      },
      "source": [
        "aug = ImageDataGenerator(\n",
        "  rotation_range=360,\n",
        "\tzoom_range=0.15,\n",
        "\twidth_shift_range=0.2,\n",
        "\theight_shift_range=0.2,\n",
        "\tshear_range=0.15,\n",
        "\thorizontal_flip=True,\n",
        "\tfill_mode=\"nearest\")"
      ],
      "execution_count": null,
      "outputs": []
    },
    {
      "cell_type": "code",
      "metadata": {
        "id": "UidBLVdj5zqZ"
      },
      "source": [
        "import os\n",
        "collection = \"/content/drive/My Drive/object_photos/bagpack\"\n",
        "for i in range(800):\n",
        "  import random, os\n",
        "  path = collection\n",
        "  random_filename = random.choice([\n",
        "      x for x in os.listdir(path)\n",
        "      if os.path.isfile(os.path.join(path, x))])\n",
        "  print(random_filename)\n",
        "  print(os.path.join(path,random_filename))\n",
        "  image =np.asarray(plt.imread(os.path.join(path,random_filename)))\n",
        "  #plt.imshow(image)\n",
        "  image = np.expand_dims(image, axis=0)\n",
        "  total = 1\n",
        "  imageGen = aug.flow(image, batch_size=1, save_to_dir=\"/content/drive/My Drive/object_photos/bagpack\",\n",
        "    save_prefix=str(i+1), save_format=\"jpg\")\n",
        "\n",
        "  # loop over examples from our image data augmentation generator\n",
        "  for image in imageGen:\n",
        "    break"
      ],
      "execution_count": null,
      "outputs": []
    }
  ]
}