{
  "nbformat": 4,
  "nbformat_minor": 0,
  "metadata": {
    "colab": {
      "name": "Untitled0.ipynb",
      "provenance": [],
      "authorship_tag": "ABX9TyPQIFNouEjqN/lE4yz+lMfe",
      "include_colab_link": true
    },
    "kernelspec": {
      "name": "python3",
      "display_name": "Python 3"
    }
  },
  "cells": [
    {
      "cell_type": "markdown",
      "metadata": {
        "id": "view-in-github",
        "colab_type": "text"
      },
      "source": [
        "<a href=\"https://colab.research.google.com/github/Android998/TensorFlow2.3/blob/master/CearunaRNA.ipynb\" target=\"_parent\"><img src=\"https://colab.research.google.com/assets/colab-badge.svg\" alt=\"Open In Colab\"/></a>"
      ]
    },
    {
      "cell_type": "markdown",
      "metadata": {
        "id": "SOAgmHehJRG-",
        "colab_type": "text"
      },
      "source": [
        "# **Crea una red neuronal artificial**"
      ]
    },
    {
      "cell_type": "markdown",
      "metadata": {
        "id": "7Ykfx6ZhJdYC",
        "colab_type": "text"
      },
      "source": [
        "### **Paso 1: Importar las dependencias necesarias para el proyecto**"
      ]
    },
    {
      "cell_type": "code",
      "metadata": {
        "id": "XU_LyhO6JhK0",
        "colab_type": "code",
        "colab": {}
      },
      "source": [
        "import numpy as np\n",
        "import tensorflow as tf"
      ],
      "execution_count": 1,
      "outputs": []
    },
    {
      "cell_type": "code",
      "metadata": {
        "id": "AWNA9ulyJoiD",
        "colab_type": "code",
        "colab": {}
      },
      "source": [
        "import datetime\n",
        "from tensorflow.keras.datasets import fashion_mnist"
      ],
      "execution_count": 2,
      "outputs": []
    },
    {
      "cell_type": "code",
      "metadata": {
        "id": "HCxqzoTnJsKw",
        "colab_type": "code",
        "colab": {
          "base_uri": "https://localhost:8080/",
          "height": 35
        },
        "outputId": "c082006a-66a2-45ba-e978-31667c0dbb7c"
      },
      "source": [
        "tf.__version__"
      ],
      "execution_count": 4,
      "outputs": [
        {
          "output_type": "execute_result",
          "data": {
            "application/vnd.google.colaboratory.intrinsic+json": {
              "type": "string"
            },
            "text/plain": [
              "'2.3.0'"
            ]
          },
          "metadata": {
            "tags": []
          },
          "execution_count": 4
        }
      ]
    },
    {
      "cell_type": "markdown",
      "metadata": {
        "id": "AqW-_pVyJ3-n",
        "colab_type": "text"
      },
      "source": [
        "### **Paso 2: Preprocesado de datos**"
      ]
    },
    {
      "cell_type": "code",
      "metadata": {
        "id": "2cJ_oSOOJ615",
        "colab_type": "code",
        "colab": {
          "base_uri": "https://localhost:8080/",
          "height": 153
        },
        "outputId": "e093bfed-aca3-457b-c955-99182dae0627"
      },
      "source": [
        "(X_train, y_train), (X_test, y_test) = fashion_mnist.load_data()"
      ],
      "execution_count": 5,
      "outputs": [
        {
          "output_type": "stream",
          "text": [
            "Downloading data from https://storage.googleapis.com/tensorflow/tf-keras-datasets/train-labels-idx1-ubyte.gz\n",
            "32768/29515 [=================================] - 0s 0us/step\n",
            "Downloading data from https://storage.googleapis.com/tensorflow/tf-keras-datasets/train-images-idx3-ubyte.gz\n",
            "26427392/26421880 [==============================] - 0s 0us/step\n",
            "Downloading data from https://storage.googleapis.com/tensorflow/tf-keras-datasets/t10k-labels-idx1-ubyte.gz\n",
            "8192/5148 [===============================================] - 0s 0us/step\n",
            "Downloading data from https://storage.googleapis.com/tensorflow/tf-keras-datasets/t10k-images-idx3-ubyte.gz\n",
            "4423680/4422102 [==============================] - 0s 0us/step\n"
          ],
          "name": "stdout"
        }
      ]
    },
    {
      "cell_type": "markdown",
      "metadata": {
        "id": "yadN8SiTKEbk",
        "colab_type": "text"
      },
      "source": [
        "#### **Normalizar las imágenes**"
      ]
    },
    {
      "cell_type": "code",
      "metadata": {
        "id": "eNQtR42XKHbU",
        "colab_type": "code",
        "colab": {}
      },
      "source": [
        "X_train = X_train/255.0\n",
        "X_test = X_test/255.0"
      ],
      "execution_count": 6,
      "outputs": []
    },
    {
      "cell_type": "markdown",
      "metadata": {
        "id": "vN9a1U5tKKDt",
        "colab_type": "text"
      },
      "source": [
        "#### **Redimensionar el dataset**"
      ]
    },
    {
      "cell_type": "code",
      "metadata": {
        "id": "cFkRWhyeKO2B",
        "colab_type": "code",
        "colab": {
          "base_uri": "https://localhost:8080/",
          "height": 34
        },
        "outputId": "80fe89e1-88d9-48df-fe6f-22632ce71d0d"
      },
      "source": [
        "X_train.shape"
      ],
      "execution_count": 7,
      "outputs": [
        {
          "output_type": "execute_result",
          "data": {
            "text/plain": [
              "(60000, 28, 28)"
            ]
          },
          "metadata": {
            "tags": []
          },
          "execution_count": 7
        }
      ]
    },
    {
      "cell_type": "code",
      "metadata": {
        "id": "77W_OWQnKSnR",
        "colab_type": "code",
        "colab": {}
      },
      "source": [
        "X_train = X_train.reshape(-1, 28*28)\n",
        "#El menos 1 indica que el redimensionado se quiere hacer en todas las imagenes \n",
        "#del dataset o en todos los elementos de esa primera dimension"
      ],
      "execution_count": 8,
      "outputs": []
    },
    {
      "cell_type": "code",
      "metadata": {
        "id": "ybSgzOKdKSvo",
        "colab_type": "code",
        "colab": {
          "base_uri": "https://localhost:8080/",
          "height": 34
        },
        "outputId": "7e585324-054f-41d4-ed05-16092e6fe4eb"
      },
      "source": [
        "X_train.shape"
      ],
      "execution_count": 9,
      "outputs": [
        {
          "output_type": "execute_result",
          "data": {
            "text/plain": [
              "(60000, 784)"
            ]
          },
          "metadata": {
            "tags": []
          },
          "execution_count": 9
        }
      ]
    },
    {
      "cell_type": "code",
      "metadata": {
        "id": "V5hzc6O8KZPL",
        "colab_type": "code",
        "colab": {}
      },
      "source": [
        "X_test = X_test.reshape(-1, 28*28)"
      ],
      "execution_count": 10,
      "outputs": []
    },
    {
      "cell_type": "code",
      "metadata": {
        "id": "SDIQ42RrM5lb",
        "colab_type": "code",
        "colab": {
          "base_uri": "https://localhost:8080/",
          "height": 34
        },
        "outputId": "50119299-cb93-4d88-cc04-88ee9e3d026b"
      },
      "source": [
        "X_test.shape"
      ],
      "execution_count": 20,
      "outputs": [
        {
          "output_type": "execute_result",
          "data": {
            "text/plain": [
              "(10000, 784)"
            ]
          },
          "metadata": {
            "tags": []
          },
          "execution_count": 20
        }
      ]
    },
    {
      "cell_type": "markdown",
      "metadata": {
        "id": "0mtbF-66KbIA",
        "colab_type": "text"
      },
      "source": [
        "### **Paso 3: Construir la Red Neuronal Artificial**"
      ]
    },
    {
      "cell_type": "markdown",
      "metadata": {
        "id": "d1HhjfYoKhXM",
        "colab_type": "text"
      },
      "source": [
        "#### **Definir el modelo**\n",
        "Simplemente se define un objeto de modelo Sequential"
      ]
    },
    {
      "cell_type": "code",
      "metadata": {
        "id": "drS25AF6Kshf",
        "colab_type": "code",
        "colab": {}
      },
      "source": [
        "model = tf.keras.models.Sequential()"
      ],
      "execution_count": 11,
      "outputs": []
    },
    {
      "cell_type": "markdown",
      "metadata": {
        "id": "XUkCBt1EKtlX",
        "colab_type": "text"
      },
      "source": [
        "#### **Añadir la primera capa totalmente conectada (capa Densa)**\n",
        "Hyper_parametros de la capa\n",
        "- número de neuronas: 128\n",
        "- función de activación: ReLU\n",
        "- input_shape: (784,)"
      ]
    },
    {
      "cell_type": "code",
      "metadata": {
        "id": "bPHRI1lOK1RX",
        "colab_type": "code",
        "colab": {}
      },
      "source": [
        "model.add(tf.keras.layers.Dense(units = 128, activation = \"relu\", input_shape = (784, )))"
      ],
      "execution_count": 12,
      "outputs": []
    },
    {
      "cell_type": "markdown",
      "metadata": {
        "id": "7akWhFIdK7dO",
        "colab_type": "text"
      },
      "source": [
        "#### **Añadir una capa de Dropout**\n",
        "Dropuot es una tecnica de Regularización donde aleatoriamente se asignan a ciertas neuronas el valor cero. De esta forma, el proceso de entrenamiento es mas corto pero hay menos posibilidades de sufrir overfitting"
      ]
    },
    {
      "cell_type": "code",
      "metadata": {
        "id": "YlXQ417DLAFF",
        "colab_type": "code",
        "colab": {}
      },
      "source": [
        "model.add(tf.keras.layers.Dropout(0.2))"
      ],
      "execution_count": 13,
      "outputs": []
    },
    {
      "cell_type": "markdown",
      "metadata": {
        "id": "KbTnWZmxLINd",
        "colab_type": "text"
      },
      "source": [
        "#### **Experimentos Andrés**"
      ]
    },
    {
      "cell_type": "code",
      "metadata": {
        "id": "aBwEwaaDLKgF",
        "colab_type": "code",
        "colab": {}
      },
      "source": [
        "model.add(tf.keras.layers.Dense(units = 30, activation = \"relu\"))"
      ],
      "execution_count": 14,
      "outputs": []
    },
    {
      "cell_type": "markdown",
      "metadata": {
        "id": "bNJgJ_yNLWjh",
        "colab_type": "text"
      },
      "source": [
        "#### **Añadir la segunda capa (capa de salida)**\n",
        "- unidades: numero de clases(10 en el caso de Fashion MNIST)\n",
        "- funcion de activacion: \"softmax\"(probabilidad de capa clase)"
      ]
    },
    {
      "cell_type": "code",
      "metadata": {
        "id": "JXwBEp4rLZuO",
        "colab_type": "code",
        "colab": {}
      },
      "source": [
        "model.add(tf.keras.layers.Dense(units = 10, activation = \"softmax\"))"
      ],
      "execution_count": 15,
      "outputs": []
    },
    {
      "cell_type": "markdown",
      "metadata": {
        "id": "3XD4HYyVLeRt",
        "colab_type": "text"
      },
      "source": [
        "#### **Compilar el modelo**\n",
        "- Optimizer: Adam\n",
        "- Loss: Sparse softmax(categorical) crossentropy"
      ]
    },
    {
      "cell_type": "code",
      "metadata": {
        "id": "lpOem6NLLh3X",
        "colab_type": "code",
        "colab": {}
      },
      "source": [
        "model.compile(optimizer = \"adam\", loss = \"sparse_categorical_crossentropy\", metrics = [\"sparse_categorical_accuracy\"])"
      ],
      "execution_count": 16,
      "outputs": []
    },
    {
      "cell_type": "code",
      "metadata": {
        "id": "vcqQqS0jLnVS",
        "colab_type": "code",
        "colab": {
          "base_uri": "https://localhost:8080/",
          "height": 289
        },
        "outputId": "bc7c79c0-d4b4-4399-f91f-6011482a6f08"
      },
      "source": [
        "model.summary()"
      ],
      "execution_count": 17,
      "outputs": [
        {
          "output_type": "stream",
          "text": [
            "Model: \"sequential\"\n",
            "_________________________________________________________________\n",
            "Layer (type)                 Output Shape              Param #   \n",
            "=================================================================\n",
            "dense (Dense)                (None, 128)               100480    \n",
            "_________________________________________________________________\n",
            "dropout (Dropout)            (None, 128)               0         \n",
            "_________________________________________________________________\n",
            "dense_1 (Dense)              (None, 30)                3870      \n",
            "_________________________________________________________________\n",
            "dense_2 (Dense)              (None, 10)                310       \n",
            "=================================================================\n",
            "Total params: 104,660\n",
            "Trainable params: 104,660\n",
            "Non-trainable params: 0\n",
            "_________________________________________________________________\n"
          ],
          "name": "stdout"
        }
      ]
    },
    {
      "cell_type": "markdown",
      "metadata": {
        "id": "_QOhfUTBL7uf",
        "colab_type": "text"
      },
      "source": [
        "#### **Entrenar el modelo**"
      ]
    },
    {
      "cell_type": "code",
      "metadata": {
        "id": "yhCYFrE8L_Uk",
        "colab_type": "code",
        "colab": {
          "base_uri": "https://localhost:8080/",
          "height": 1000
        },
        "outputId": "166a8847-1253-421e-b6e4-556ad40a3608"
      },
      "source": [
        "model.fit(X_train, y_train, batch_size = 1000, epochs = 100)"
      ],
      "execution_count": 18,
      "outputs": [
        {
          "output_type": "stream",
          "text": [
            "Epoch 1/100\n",
            "60/60 [==============================] - 1s 14ms/step - loss: 1.0429 - sparse_categorical_accuracy: 0.6363\n",
            "Epoch 2/100\n",
            "60/60 [==============================] - 1s 14ms/step - loss: 0.5752 - sparse_categorical_accuracy: 0.8032\n",
            "Epoch 3/100\n",
            "60/60 [==============================] - 1s 14ms/step - loss: 0.4852 - sparse_categorical_accuracy: 0.8315\n",
            "Epoch 4/100\n",
            "60/60 [==============================] - 1s 14ms/step - loss: 0.4424 - sparse_categorical_accuracy: 0.8458\n",
            "Epoch 5/100\n",
            "60/60 [==============================] - 1s 14ms/step - loss: 0.4106 - sparse_categorical_accuracy: 0.8561\n",
            "Epoch 6/100\n",
            "60/60 [==============================] - 1s 14ms/step - loss: 0.3897 - sparse_categorical_accuracy: 0.8620\n",
            "Epoch 7/100\n",
            "60/60 [==============================] - 1s 14ms/step - loss: 0.3776 - sparse_categorical_accuracy: 0.8649\n",
            "Epoch 8/100\n",
            "60/60 [==============================] - 1s 14ms/step - loss: 0.3615 - sparse_categorical_accuracy: 0.8702\n",
            "Epoch 9/100\n",
            "60/60 [==============================] - 1s 14ms/step - loss: 0.3480 - sparse_categorical_accuracy: 0.8764\n",
            "Epoch 10/100\n",
            "60/60 [==============================] - 1s 14ms/step - loss: 0.3408 - sparse_categorical_accuracy: 0.8781\n",
            "Epoch 11/100\n",
            "60/60 [==============================] - 1s 14ms/step - loss: 0.3348 - sparse_categorical_accuracy: 0.8793\n",
            "Epoch 12/100\n",
            "60/60 [==============================] - 1s 14ms/step - loss: 0.3253 - sparse_categorical_accuracy: 0.8837\n",
            "Epoch 13/100\n",
            "60/60 [==============================] - 1s 14ms/step - loss: 0.3204 - sparse_categorical_accuracy: 0.8845\n",
            "Epoch 14/100\n",
            "60/60 [==============================] - 1s 14ms/step - loss: 0.3116 - sparse_categorical_accuracy: 0.8867\n",
            "Epoch 15/100\n",
            "60/60 [==============================] - 1s 14ms/step - loss: 0.3094 - sparse_categorical_accuracy: 0.8885\n",
            "Epoch 16/100\n",
            "60/60 [==============================] - 1s 14ms/step - loss: 0.3030 - sparse_categorical_accuracy: 0.8910\n",
            "Epoch 17/100\n",
            "60/60 [==============================] - 1s 14ms/step - loss: 0.2970 - sparse_categorical_accuracy: 0.8935\n",
            "Epoch 18/100\n",
            "60/60 [==============================] - 1s 14ms/step - loss: 0.2937 - sparse_categorical_accuracy: 0.8932\n",
            "Epoch 19/100\n",
            "60/60 [==============================] - 1s 14ms/step - loss: 0.2887 - sparse_categorical_accuracy: 0.8951\n",
            "Epoch 20/100\n",
            "60/60 [==============================] - 1s 14ms/step - loss: 0.2821 - sparse_categorical_accuracy: 0.8980\n",
            "Epoch 21/100\n",
            "60/60 [==============================] - 1s 15ms/step - loss: 0.2784 - sparse_categorical_accuracy: 0.8986\n",
            "Epoch 22/100\n",
            "60/60 [==============================] - 1s 14ms/step - loss: 0.2756 - sparse_categorical_accuracy: 0.8996\n",
            "Epoch 23/100\n",
            "60/60 [==============================] - 1s 15ms/step - loss: 0.2726 - sparse_categorical_accuracy: 0.9003\n",
            "Epoch 24/100\n",
            "60/60 [==============================] - 1s 14ms/step - loss: 0.2709 - sparse_categorical_accuracy: 0.9010\n",
            "Epoch 25/100\n",
            "60/60 [==============================] - 1s 15ms/step - loss: 0.2635 - sparse_categorical_accuracy: 0.9038\n",
            "Epoch 26/100\n",
            "60/60 [==============================] - 1s 15ms/step - loss: 0.2619 - sparse_categorical_accuracy: 0.9046\n",
            "Epoch 27/100\n",
            "60/60 [==============================] - 1s 14ms/step - loss: 0.2569 - sparse_categorical_accuracy: 0.9056\n",
            "Epoch 28/100\n",
            "60/60 [==============================] - 1s 15ms/step - loss: 0.2552 - sparse_categorical_accuracy: 0.9063\n",
            "Epoch 29/100\n",
            "60/60 [==============================] - 1s 15ms/step - loss: 0.2526 - sparse_categorical_accuracy: 0.9071\n",
            "Epoch 30/100\n",
            "60/60 [==============================] - 1s 15ms/step - loss: 0.2492 - sparse_categorical_accuracy: 0.9083\n",
            "Epoch 31/100\n",
            "60/60 [==============================] - 1s 14ms/step - loss: 0.2494 - sparse_categorical_accuracy: 0.9089\n",
            "Epoch 32/100\n",
            "60/60 [==============================] - 1s 14ms/step - loss: 0.2441 - sparse_categorical_accuracy: 0.9096\n",
            "Epoch 33/100\n",
            "60/60 [==============================] - 1s 14ms/step - loss: 0.2385 - sparse_categorical_accuracy: 0.9124\n",
            "Epoch 34/100\n",
            "60/60 [==============================] - 1s 14ms/step - loss: 0.2427 - sparse_categorical_accuracy: 0.9104\n",
            "Epoch 35/100\n",
            "60/60 [==============================] - 1s 15ms/step - loss: 0.2356 - sparse_categorical_accuracy: 0.9129\n",
            "Epoch 36/100\n",
            "60/60 [==============================] - 1s 14ms/step - loss: 0.2330 - sparse_categorical_accuracy: 0.9145\n",
            "Epoch 37/100\n",
            "60/60 [==============================] - 1s 14ms/step - loss: 0.2315 - sparse_categorical_accuracy: 0.9157\n",
            "Epoch 38/100\n",
            "60/60 [==============================] - 1s 14ms/step - loss: 0.2289 - sparse_categorical_accuracy: 0.9153\n",
            "Epoch 39/100\n",
            "60/60 [==============================] - 1s 14ms/step - loss: 0.2268 - sparse_categorical_accuracy: 0.9154\n",
            "Epoch 40/100\n",
            "60/60 [==============================] - 1s 14ms/step - loss: 0.2230 - sparse_categorical_accuracy: 0.9180\n",
            "Epoch 41/100\n",
            "60/60 [==============================] - 1s 14ms/step - loss: 0.2234 - sparse_categorical_accuracy: 0.9171\n",
            "Epoch 42/100\n",
            "60/60 [==============================] - 1s 14ms/step - loss: 0.2214 - sparse_categorical_accuracy: 0.9188\n",
            "Epoch 43/100\n",
            "60/60 [==============================] - 1s 14ms/step - loss: 0.2180 - sparse_categorical_accuracy: 0.9192\n",
            "Epoch 44/100\n",
            "60/60 [==============================] - 1s 14ms/step - loss: 0.2154 - sparse_categorical_accuracy: 0.9209\n",
            "Epoch 45/100\n",
            "60/60 [==============================] - 1s 14ms/step - loss: 0.2144 - sparse_categorical_accuracy: 0.9201\n",
            "Epoch 46/100\n",
            "60/60 [==============================] - 1s 14ms/step - loss: 0.2151 - sparse_categorical_accuracy: 0.9204\n",
            "Epoch 47/100\n",
            "60/60 [==============================] - 1s 14ms/step - loss: 0.2092 - sparse_categorical_accuracy: 0.9225\n",
            "Epoch 48/100\n",
            "60/60 [==============================] - 1s 14ms/step - loss: 0.2052 - sparse_categorical_accuracy: 0.9250\n",
            "Epoch 49/100\n",
            "60/60 [==============================] - 1s 14ms/step - loss: 0.2037 - sparse_categorical_accuracy: 0.9245\n",
            "Epoch 50/100\n",
            "60/60 [==============================] - 1s 14ms/step - loss: 0.2011 - sparse_categorical_accuracy: 0.9258\n",
            "Epoch 51/100\n",
            "60/60 [==============================] - 1s 14ms/step - loss: 0.2016 - sparse_categorical_accuracy: 0.9261\n",
            "Epoch 52/100\n",
            "60/60 [==============================] - 1s 14ms/step - loss: 0.1988 - sparse_categorical_accuracy: 0.9253\n",
            "Epoch 53/100\n",
            "60/60 [==============================] - 1s 14ms/step - loss: 0.1991 - sparse_categorical_accuracy: 0.9262\n",
            "Epoch 54/100\n",
            "60/60 [==============================] - 1s 14ms/step - loss: 0.1950 - sparse_categorical_accuracy: 0.9274\n",
            "Epoch 55/100\n",
            "60/60 [==============================] - 1s 14ms/step - loss: 0.1935 - sparse_categorical_accuracy: 0.9276\n",
            "Epoch 56/100\n",
            "60/60 [==============================] - 1s 14ms/step - loss: 0.1938 - sparse_categorical_accuracy: 0.9290\n",
            "Epoch 57/100\n",
            "60/60 [==============================] - 1s 14ms/step - loss: 0.1943 - sparse_categorical_accuracy: 0.9278\n",
            "Epoch 58/100\n",
            "60/60 [==============================] - 1s 14ms/step - loss: 0.1907 - sparse_categorical_accuracy: 0.9287\n",
            "Epoch 59/100\n",
            "60/60 [==============================] - 1s 14ms/step - loss: 0.1898 - sparse_categorical_accuracy: 0.9294\n",
            "Epoch 60/100\n",
            "60/60 [==============================] - 1s 14ms/step - loss: 0.1907 - sparse_categorical_accuracy: 0.9283\n",
            "Epoch 61/100\n",
            "60/60 [==============================] - 1s 14ms/step - loss: 0.1861 - sparse_categorical_accuracy: 0.9310\n",
            "Epoch 62/100\n",
            "60/60 [==============================] - 1s 14ms/step - loss: 0.1865 - sparse_categorical_accuracy: 0.9299\n",
            "Epoch 63/100\n",
            "60/60 [==============================] - 1s 14ms/step - loss: 0.1823 - sparse_categorical_accuracy: 0.9320\n",
            "Epoch 64/100\n",
            "60/60 [==============================] - 1s 14ms/step - loss: 0.1812 - sparse_categorical_accuracy: 0.9329\n",
            "Epoch 65/100\n",
            "60/60 [==============================] - 1s 14ms/step - loss: 0.1777 - sparse_categorical_accuracy: 0.9339\n",
            "Epoch 66/100\n",
            "60/60 [==============================] - 1s 14ms/step - loss: 0.1813 - sparse_categorical_accuracy: 0.9323\n",
            "Epoch 67/100\n",
            "60/60 [==============================] - 1s 14ms/step - loss: 0.1780 - sparse_categorical_accuracy: 0.9339\n",
            "Epoch 68/100\n",
            "60/60 [==============================] - 1s 14ms/step - loss: 0.1750 - sparse_categorical_accuracy: 0.9352\n",
            "Epoch 69/100\n",
            "60/60 [==============================] - 1s 14ms/step - loss: 0.1710 - sparse_categorical_accuracy: 0.9376\n",
            "Epoch 70/100\n",
            "60/60 [==============================] - 1s 15ms/step - loss: 0.1723 - sparse_categorical_accuracy: 0.9356\n",
            "Epoch 71/100\n",
            "60/60 [==============================] - 1s 14ms/step - loss: 0.1701 - sparse_categorical_accuracy: 0.9369\n",
            "Epoch 72/100\n",
            "60/60 [==============================] - 1s 14ms/step - loss: 0.1694 - sparse_categorical_accuracy: 0.9360\n",
            "Epoch 73/100\n",
            "60/60 [==============================] - 1s 14ms/step - loss: 0.1699 - sparse_categorical_accuracy: 0.9366\n",
            "Epoch 74/100\n",
            "60/60 [==============================] - 1s 14ms/step - loss: 0.1666 - sparse_categorical_accuracy: 0.9385\n",
            "Epoch 75/100\n",
            "60/60 [==============================] - 1s 14ms/step - loss: 0.1673 - sparse_categorical_accuracy: 0.9382\n",
            "Epoch 76/100\n",
            "60/60 [==============================] - 1s 14ms/step - loss: 0.1661 - sparse_categorical_accuracy: 0.9380\n",
            "Epoch 77/100\n",
            "60/60 [==============================] - 1s 14ms/step - loss: 0.1637 - sparse_categorical_accuracy: 0.9392\n",
            "Epoch 78/100\n",
            "60/60 [==============================] - 1s 14ms/step - loss: 0.1620 - sparse_categorical_accuracy: 0.9393\n",
            "Epoch 79/100\n",
            "60/60 [==============================] - 1s 14ms/step - loss: 0.1610 - sparse_categorical_accuracy: 0.9400\n",
            "Epoch 80/100\n",
            "60/60 [==============================] - 1s 14ms/step - loss: 0.1585 - sparse_categorical_accuracy: 0.9394\n",
            "Epoch 81/100\n",
            "60/60 [==============================] - 1s 14ms/step - loss: 0.1598 - sparse_categorical_accuracy: 0.9418\n",
            "Epoch 82/100\n",
            "60/60 [==============================] - 1s 15ms/step - loss: 0.1600 - sparse_categorical_accuracy: 0.9396\n",
            "Epoch 83/100\n",
            "60/60 [==============================] - 1s 14ms/step - loss: 0.1580 - sparse_categorical_accuracy: 0.9406\n",
            "Epoch 84/100\n",
            "60/60 [==============================] - 1s 14ms/step - loss: 0.1564 - sparse_categorical_accuracy: 0.9422\n",
            "Epoch 85/100\n",
            "60/60 [==============================] - 1s 15ms/step - loss: 0.1557 - sparse_categorical_accuracy: 0.9411\n",
            "Epoch 86/100\n",
            "60/60 [==============================] - 1s 14ms/step - loss: 0.1551 - sparse_categorical_accuracy: 0.9429\n",
            "Epoch 87/100\n",
            "60/60 [==============================] - 1s 14ms/step - loss: 0.1533 - sparse_categorical_accuracy: 0.9427\n",
            "Epoch 88/100\n",
            "60/60 [==============================] - 1s 14ms/step - loss: 0.1503 - sparse_categorical_accuracy: 0.9441\n",
            "Epoch 89/100\n",
            "60/60 [==============================] - 1s 14ms/step - loss: 0.1464 - sparse_categorical_accuracy: 0.9457\n",
            "Epoch 90/100\n",
            "60/60 [==============================] - 1s 14ms/step - loss: 0.1489 - sparse_categorical_accuracy: 0.9440\n",
            "Epoch 91/100\n",
            "60/60 [==============================] - 1s 14ms/step - loss: 0.1502 - sparse_categorical_accuracy: 0.9439\n",
            "Epoch 92/100\n",
            "60/60 [==============================] - 1s 14ms/step - loss: 0.1513 - sparse_categorical_accuracy: 0.9437\n",
            "Epoch 93/100\n",
            "60/60 [==============================] - 1s 14ms/step - loss: 0.1468 - sparse_categorical_accuracy: 0.9454\n",
            "Epoch 94/100\n",
            "60/60 [==============================] - 1s 15ms/step - loss: 0.1443 - sparse_categorical_accuracy: 0.9463\n",
            "Epoch 95/100\n",
            "60/60 [==============================] - 1s 14ms/step - loss: 0.1457 - sparse_categorical_accuracy: 0.9452\n",
            "Epoch 96/100\n",
            "60/60 [==============================] - 1s 14ms/step - loss: 0.1494 - sparse_categorical_accuracy: 0.9442\n",
            "Epoch 97/100\n",
            "60/60 [==============================] - 1s 14ms/step - loss: 0.1437 - sparse_categorical_accuracy: 0.9461\n",
            "Epoch 98/100\n",
            "60/60 [==============================] - 1s 15ms/step - loss: 0.1426 - sparse_categorical_accuracy: 0.9468\n",
            "Epoch 99/100\n",
            "60/60 [==============================] - 1s 14ms/step - loss: 0.1422 - sparse_categorical_accuracy: 0.9467\n",
            "Epoch 100/100\n",
            "60/60 [==============================] - 1s 14ms/step - loss: 0.1434 - sparse_categorical_accuracy: 0.9463\n"
          ],
          "name": "stdout"
        },
        {
          "output_type": "execute_result",
          "data": {
            "text/plain": [
              "<tensorflow.python.keras.callbacks.History at 0x7f75d0edee10>"
            ]
          },
          "metadata": {
            "tags": []
          },
          "execution_count": 18
        }
      ]
    },
    {
      "cell_type": "markdown",
      "metadata": {
        "id": "baO1JkiGMi1u",
        "colab_type": "text"
      },
      "source": [
        "#### **Evaluación del modelo y predicción**"
      ]
    },
    {
      "cell_type": "code",
      "metadata": {
        "id": "b90ZXTV3Mliy",
        "colab_type": "code",
        "colab": {
          "base_uri": "https://localhost:8080/",
          "height": 34
        },
        "outputId": "eb3065c5-95f8-4c08-fcca-850f64d175ee"
      },
      "source": [
        "test_loss, test_accuracy = model.evaluate(X_test, y_test)"
      ],
      "execution_count": 21,
      "outputs": [
        {
          "output_type": "stream",
          "text": [
            "313/313 [==============================] - 0s 1ms/step - loss: 0.3472 - sparse_categorical_accuracy: 0.8942\n"
          ],
          "name": "stdout"
        }
      ]
    },
    {
      "cell_type": "code",
      "metadata": {
        "id": "YNaFVuMdMqnP",
        "colab_type": "code",
        "colab": {
          "base_uri": "https://localhost:8080/",
          "height": 34
        },
        "outputId": "ce08dcb7-02f5-4bea-d235-79548027381b"
      },
      "source": [
        "print(\"Test accuracy: {}\".format(test_accuracy))"
      ],
      "execution_count": 22,
      "outputs": [
        {
          "output_type": "stream",
          "text": [
            "Test accuracy: 0.8942000269889832\n"
          ],
          "name": "stdout"
        }
      ]
    },
    {
      "cell_type": "markdown",
      "metadata": {
        "id": "K_GW718eNMb0",
        "colab_type": "text"
      },
      "source": [
        "### **Paso 5: Guardar el modelo**"
      ]
    },
    {
      "cell_type": "markdown",
      "metadata": {
        "id": "6CGaoTbPNWqP",
        "colab_type": "text"
      },
      "source": [
        "#### **Guardar la arquitectura (topología) de la red neuronal**"
      ]
    },
    {
      "cell_type": "code",
      "metadata": {
        "id": "2kR3DTpMNbqU",
        "colab_type": "code",
        "colab": {}
      },
      "source": [
        "model_json = model.to_json()\n",
        "with open(\"fashion_model.json\", \"w\") as json_file:\n",
        "    json_file.write(model_json)"
      ],
      "execution_count": 23,
      "outputs": []
    },
    {
      "cell_type": "markdown",
      "metadata": {
        "id": "cUQ--ZOtNfJk",
        "colab_type": "text"
      },
      "source": [
        "#### **Guardar los pesos de la red neuronal**¶"
      ]
    },
    {
      "cell_type": "code",
      "metadata": {
        "id": "9ANbzGLgNmXe",
        "colab_type": "code",
        "colab": {}
      },
      "source": [
        "model.save_weights(\"fashion_model.h5\")"
      ],
      "execution_count": 24,
      "outputs": []
    },
    {
      "cell_type": "code",
      "metadata": {
        "id": "x4ohBKVyNsOE",
        "colab_type": "code",
        "colab": {}
      },
      "source": [
        ""
      ],
      "execution_count": null,
      "outputs": []
    }
  ]
}