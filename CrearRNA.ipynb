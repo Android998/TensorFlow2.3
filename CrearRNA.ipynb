{
  "nbformat": 4,
  "nbformat_minor": 0,
  "metadata": {
    "colab": {
      "name": "Untitled0.ipynb",
      "provenance": [],
      "authorship_tag": "ABX9TyN410zr5ddf7qSEL9QvDXkl",
      "include_colab_link": true
    },
    "kernelspec": {
      "name": "python3",
      "display_name": "Python 3"
    }
  },
  "cells": [
    {
      "cell_type": "markdown",
      "metadata": {
        "id": "view-in-github",
        "colab_type": "text"
      },
      "source": [
        "<a href=\"https://colab.research.google.com/github/Android998/TensorFlow2.3/blob/master/CrearRNA.ipynb\" target=\"_parent\"><img src=\"https://colab.research.google.com/assets/colab-badge.svg\" alt=\"Open In Colab\"/></a>"
      ]
    },
    {
      "cell_type": "markdown",
      "metadata": {
        "id": "SOAgmHehJRG-",
        "colab_type": "text"
      },
      "source": [
        "# **Crea una red neuronal artificial**"
      ]
    },
    {
      "cell_type": "markdown",
      "metadata": {
        "id": "7Ykfx6ZhJdYC",
        "colab_type": "text"
      },
      "source": [
        "### **Paso 1: Importar las dependencias necesarias para el proyecto**"
      ]
    },
    {
      "cell_type": "code",
      "metadata": {
        "id": "XU_LyhO6JhK0",
        "colab_type": "code",
        "colab": {}
      },
      "source": [
        "import numpy as np\n",
        "import tensorflow as tf"
      ],
      "execution_count": 2,
      "outputs": []
    },
    {
      "cell_type": "code",
      "metadata": {
        "id": "AWNA9ulyJoiD",
        "colab_type": "code",
        "colab": {}
      },
      "source": [
        "import datetime\n",
        "from tensorflow.keras.datasets import fashion_mnist"
      ],
      "execution_count": 3,
      "outputs": []
    },
    {
      "cell_type": "code",
      "metadata": {
        "id": "HCxqzoTnJsKw",
        "colab_type": "code",
        "colab": {
          "base_uri": "https://localhost:8080/",
          "height": 35
        },
        "outputId": "c082006a-66a2-45ba-e978-31667c0dbb7c"
      },
      "source": [
        "tf.__version__"
      ],
      "execution_count": null,
      "outputs": [
        {
          "output_type": "execute_result",
          "data": {
            "application/vnd.google.colaboratory.intrinsic+json": {
              "type": "string"
            },
            "text/plain": [
              "'2.3.0'"
            ]
          },
          "metadata": {
            "tags": []
          },
          "execution_count": 4
        }
      ]
    },
    {
      "cell_type": "markdown",
      "metadata": {
        "id": "AqW-_pVyJ3-n",
        "colab_type": "text"
      },
      "source": [
        "### **Paso 2: Preprocesado de datos**"
      ]
    },
    {
      "cell_type": "code",
      "metadata": {
        "id": "2cJ_oSOOJ615",
        "colab_type": "code",
        "colab": {
          "base_uri": "https://localhost:8080/",
          "height": 153
        },
        "outputId": "200596ca-9007-402f-9b95-ed8fa7c8bd2c"
      },
      "source": [
        "(X_train, y_train), (X_test, y_test) = fashion_mnist.load_data()"
      ],
      "execution_count": 4,
      "outputs": [
        {
          "output_type": "stream",
          "text": [
            "Downloading data from https://storage.googleapis.com/tensorflow/tf-keras-datasets/train-labels-idx1-ubyte.gz\n",
            "32768/29515 [=================================] - 0s 0us/step\n",
            "Downloading data from https://storage.googleapis.com/tensorflow/tf-keras-datasets/train-images-idx3-ubyte.gz\n",
            "26427392/26421880 [==============================] - 0s 0us/step\n",
            "Downloading data from https://storage.googleapis.com/tensorflow/tf-keras-datasets/t10k-labels-idx1-ubyte.gz\n",
            "8192/5148 [===============================================] - 0s 0us/step\n",
            "Downloading data from https://storage.googleapis.com/tensorflow/tf-keras-datasets/t10k-images-idx3-ubyte.gz\n",
            "4423680/4422102 [==============================] - 0s 0us/step\n"
          ],
          "name": "stdout"
        }
      ]
    },
    {
      "cell_type": "markdown",
      "metadata": {
        "id": "yadN8SiTKEbk",
        "colab_type": "text"
      },
      "source": [
        "#### **Normalizar las imágenes**"
      ]
    },
    {
      "cell_type": "code",
      "metadata": {
        "id": "eNQtR42XKHbU",
        "colab_type": "code",
        "colab": {}
      },
      "source": [
        "X_train = X_train/255.0\n",
        "X_test = X_test/255.0"
      ],
      "execution_count": 5,
      "outputs": []
    },
    {
      "cell_type": "markdown",
      "metadata": {
        "id": "vN9a1U5tKKDt",
        "colab_type": "text"
      },
      "source": [
        "#### **Redimensionar el dataset**"
      ]
    },
    {
      "cell_type": "code",
      "metadata": {
        "id": "cFkRWhyeKO2B",
        "colab_type": "code",
        "colab": {
          "base_uri": "https://localhost:8080/",
          "height": 34
        },
        "outputId": "2b8e6397-c4bd-4ca1-ec2d-3bc9cf1797cf"
      },
      "source": [
        "X_train.shape"
      ],
      "execution_count": 6,
      "outputs": [
        {
          "output_type": "execute_result",
          "data": {
            "text/plain": [
              "(60000, 28, 28)"
            ]
          },
          "metadata": {
            "tags": []
          },
          "execution_count": 6
        }
      ]
    },
    {
      "cell_type": "code",
      "metadata": {
        "id": "77W_OWQnKSnR",
        "colab_type": "code",
        "colab": {}
      },
      "source": [
        "X_train = X_train.reshape(-1, 28*28)\n",
        "#El menos 1 indica que el redimensionado se quiere hacer en todas las imagenes \n",
        "#del dataset o en todos los elementos de esa primera dimension"
      ],
      "execution_count": 7,
      "outputs": []
    },
    {
      "cell_type": "code",
      "metadata": {
        "id": "ybSgzOKdKSvo",
        "colab_type": "code",
        "colab": {
          "base_uri": "https://localhost:8080/",
          "height": 34
        },
        "outputId": "7e585324-054f-41d4-ed05-16092e6fe4eb"
      },
      "source": [
        "X_train.shape"
      ],
      "execution_count": null,
      "outputs": [
        {
          "output_type": "execute_result",
          "data": {
            "text/plain": [
              "(60000, 784)"
            ]
          },
          "metadata": {
            "tags": []
          },
          "execution_count": 9
        }
      ]
    },
    {
      "cell_type": "code",
      "metadata": {
        "id": "V5hzc6O8KZPL",
        "colab_type": "code",
        "colab": {}
      },
      "source": [
        "X_test = X_test.reshape(-1, 28*28)"
      ],
      "execution_count": 8,
      "outputs": []
    },
    {
      "cell_type": "code",
      "metadata": {
        "id": "SDIQ42RrM5lb",
        "colab_type": "code",
        "colab": {
          "base_uri": "https://localhost:8080/",
          "height": 34
        },
        "outputId": "50119299-cb93-4d88-cc04-88ee9e3d026b"
      },
      "source": [
        "X_test.shape"
      ],
      "execution_count": null,
      "outputs": [
        {
          "output_type": "execute_result",
          "data": {
            "text/plain": [
              "(10000, 784)"
            ]
          },
          "metadata": {
            "tags": []
          },
          "execution_count": 20
        }
      ]
    },
    {
      "cell_type": "markdown",
      "metadata": {
        "id": "0mtbF-66KbIA",
        "colab_type": "text"
      },
      "source": [
        "### **Paso 3: Construir la Red Neuronal Artificial**"
      ]
    },
    {
      "cell_type": "markdown",
      "metadata": {
        "id": "d1HhjfYoKhXM",
        "colab_type": "text"
      },
      "source": [
        "#### **Definir el modelo**\n",
        "Simplemente se define un objeto de modelo Sequential"
      ]
    },
    {
      "cell_type": "code",
      "metadata": {
        "id": "drS25AF6Kshf",
        "colab_type": "code",
        "colab": {}
      },
      "source": [
        "model = tf.keras.models.Sequential()"
      ],
      "execution_count": 9,
      "outputs": []
    },
    {
      "cell_type": "markdown",
      "metadata": {
        "id": "XUkCBt1EKtlX",
        "colab_type": "text"
      },
      "source": [
        "#### **Añadir la primera capa totalmente conectada (capa Densa)**\n",
        "Hyper_parametros de la capa\n",
        "- número de neuronas: 128\n",
        "- función de activación: ReLU\n",
        "- input_shape: (784,)"
      ]
    },
    {
      "cell_type": "code",
      "metadata": {
        "id": "bPHRI1lOK1RX",
        "colab_type": "code",
        "colab": {}
      },
      "source": [
        "model.add(tf.keras.layers.Dense(units = 128, activation = \"relu\", input_shape = (784, )))"
      ],
      "execution_count": 10,
      "outputs": []
    },
    {
      "cell_type": "markdown",
      "metadata": {
        "id": "7akWhFIdK7dO",
        "colab_type": "text"
      },
      "source": [
        "#### **Añadir una capa de Dropout**\n",
        "Dropuot es una tecnica de Regularización donde aleatoriamente se asignan a ciertas neuronas el valor cero. De esta forma, el proceso de entrenamiento es mas corto pero hay menos posibilidades de sufrir overfitting"
      ]
    },
    {
      "cell_type": "code",
      "metadata": {
        "id": "YlXQ417DLAFF",
        "colab_type": "code",
        "colab": {}
      },
      "source": [
        "model.add(tf.keras.layers.Dropout(0.2))"
      ],
      "execution_count": 11,
      "outputs": []
    },
    {
      "cell_type": "markdown",
      "metadata": {
        "id": "KbTnWZmxLINd",
        "colab_type": "text"
      },
      "source": [
        "#### **Experimentos Andrés**"
      ]
    },
    {
      "cell_type": "code",
      "metadata": {
        "id": "aBwEwaaDLKgF",
        "colab_type": "code",
        "colab": {}
      },
      "source": [
        "model.add(tf.keras.layers.Dense(units = 30, activation = \"relu\"))"
      ],
      "execution_count": 12,
      "outputs": []
    },
    {
      "cell_type": "markdown",
      "metadata": {
        "id": "bNJgJ_yNLWjh",
        "colab_type": "text"
      },
      "source": [
        "#### **Añadir la segunda capa (capa de salida)**\n",
        "- unidades: numero de clases(10 en el caso de Fashion MNIST)\n",
        "- funcion de activacion: \"softmax\"(probabilidad de capa clase)"
      ]
    },
    {
      "cell_type": "code",
      "metadata": {
        "id": "JXwBEp4rLZuO",
        "colab_type": "code",
        "colab": {}
      },
      "source": [
        "model.add(tf.keras.layers.Dense(units = 10, activation = \"softmax\"))"
      ],
      "execution_count": 13,
      "outputs": []
    },
    {
      "cell_type": "markdown",
      "metadata": {
        "id": "3XD4HYyVLeRt",
        "colab_type": "text"
      },
      "source": [
        "#### **Compilar el modelo**\n",
        "- Optimizer: Adam\n",
        "- Loss: Sparse softmax(categorical) crossentropy"
      ]
    },
    {
      "cell_type": "code",
      "metadata": {
        "id": "QlPNW2z8n15H",
        "colab_type": "code",
        "colab": {}
      },
      "source": [
        "my_optim = tf.keras.optimizers.Adam(learning_rate = 0.0005)"
      ],
      "execution_count": 14,
      "outputs": []
    },
    {
      "cell_type": "code",
      "metadata": {
        "id": "lpOem6NLLh3X",
        "colab_type": "code",
        "colab": {}
      },
      "source": [
        "model.compile(optimizer = my_optim, loss = \"sparse_categorical_crossentropy\", metrics = [\"sparse_categorical_accuracy\"])"
      ],
      "execution_count": 15,
      "outputs": []
    },
    {
      "cell_type": "code",
      "metadata": {
        "id": "vcqQqS0jLnVS",
        "colab_type": "code",
        "colab": {
          "base_uri": "https://localhost:8080/",
          "height": 289
        },
        "outputId": "bc7c79c0-d4b4-4399-f91f-6011482a6f08"
      },
      "source": [
        "model.summary()"
      ],
      "execution_count": null,
      "outputs": [
        {
          "output_type": "stream",
          "text": [
            "Model: \"sequential\"\n",
            "_________________________________________________________________\n",
            "Layer (type)                 Output Shape              Param #   \n",
            "=================================================================\n",
            "dense (Dense)                (None, 128)               100480    \n",
            "_________________________________________________________________\n",
            "dropout (Dropout)            (None, 128)               0         \n",
            "_________________________________________________________________\n",
            "dense_1 (Dense)              (None, 30)                3870      \n",
            "_________________________________________________________________\n",
            "dense_2 (Dense)              (None, 10)                310       \n",
            "=================================================================\n",
            "Total params: 104,660\n",
            "Trainable params: 104,660\n",
            "Non-trainable params: 0\n",
            "_________________________________________________________________\n"
          ],
          "name": "stdout"
        }
      ]
    },
    {
      "cell_type": "markdown",
      "metadata": {
        "id": "_QOhfUTBL7uf",
        "colab_type": "text"
      },
      "source": [
        "#### **Entrenar el modelo**"
      ]
    },
    {
      "cell_type": "code",
      "metadata": {
        "id": "yhCYFrE8L_Uk",
        "colab_type": "code",
        "colab": {
          "base_uri": "https://localhost:8080/",
          "height": 1000
        },
        "outputId": "d1bead20-64a6-4fd0-c505-901acdf7ef90"
      },
      "source": [
        "model.fit(X_train, y_train, batch_size = 100, epochs = 50)"
      ],
      "execution_count": 18,
      "outputs": [
        {
          "output_type": "stream",
          "text": [
            "Epoch 1/50\n",
            "600/600 [==============================] - 2s 3ms/step - loss: 0.2185 - sparse_categorical_accuracy: 0.9180\n",
            "Epoch 2/50\n",
            "600/600 [==============================] - 2s 3ms/step - loss: 0.1846 - sparse_categorical_accuracy: 0.9305\n",
            "Epoch 3/50\n",
            "600/600 [==============================] - 2s 3ms/step - loss: 0.1679 - sparse_categorical_accuracy: 0.9363\n",
            "Epoch 4/50\n",
            "600/600 [==============================] - 2s 3ms/step - loss: 0.1650 - sparse_categorical_accuracy: 0.9370\n",
            "Epoch 5/50\n",
            "600/600 [==============================] - 2s 3ms/step - loss: 0.1612 - sparse_categorical_accuracy: 0.9390\n",
            "Epoch 6/50\n",
            "600/600 [==============================] - 2s 3ms/step - loss: 0.1557 - sparse_categorical_accuracy: 0.9410\n",
            "Epoch 7/50\n",
            "600/600 [==============================] - 2s 4ms/step - loss: 0.1582 - sparse_categorical_accuracy: 0.9407\n",
            "Epoch 8/50\n",
            "600/600 [==============================] - 2s 4ms/step - loss: 0.1574 - sparse_categorical_accuracy: 0.9411\n",
            "Epoch 9/50\n",
            "600/600 [==============================] - 2s 4ms/step - loss: 0.1528 - sparse_categorical_accuracy: 0.9422\n",
            "Epoch 10/50\n",
            "600/600 [==============================] - 2s 4ms/step - loss: 0.1524 - sparse_categorical_accuracy: 0.9421\n",
            "Epoch 11/50\n",
            "600/600 [==============================] - 2s 4ms/step - loss: 0.1536 - sparse_categorical_accuracy: 0.9410\n",
            "Epoch 12/50\n",
            "600/600 [==============================] - 2s 3ms/step - loss: 0.1497 - sparse_categorical_accuracy: 0.9431\n",
            "Epoch 13/50\n",
            "600/600 [==============================] - 2s 3ms/step - loss: 0.1472 - sparse_categorical_accuracy: 0.9439\n",
            "Epoch 14/50\n",
            "600/600 [==============================] - 2s 3ms/step - loss: 0.1476 - sparse_categorical_accuracy: 0.9458\n",
            "Epoch 15/50\n",
            "600/600 [==============================] - 2s 3ms/step - loss: 0.1497 - sparse_categorical_accuracy: 0.9429\n",
            "Epoch 16/50\n",
            "600/600 [==============================] - 2s 3ms/step - loss: 0.1476 - sparse_categorical_accuracy: 0.9450\n",
            "Epoch 17/50\n",
            "600/600 [==============================] - 2s 3ms/step - loss: 0.1444 - sparse_categorical_accuracy: 0.9450\n",
            "Epoch 18/50\n",
            "600/600 [==============================] - 2s 3ms/step - loss: 0.1385 - sparse_categorical_accuracy: 0.9487\n",
            "Epoch 19/50\n",
            "600/600 [==============================] - 2s 4ms/step - loss: 0.1441 - sparse_categorical_accuracy: 0.9449\n",
            "Epoch 20/50\n",
            "600/600 [==============================] - 2s 3ms/step - loss: 0.1393 - sparse_categorical_accuracy: 0.9478\n",
            "Epoch 21/50\n",
            "600/600 [==============================] - 2s 4ms/step - loss: 0.1435 - sparse_categorical_accuracy: 0.9456\n",
            "Epoch 22/50\n",
            "600/600 [==============================] - 2s 4ms/step - loss: 0.1409 - sparse_categorical_accuracy: 0.9466\n",
            "Epoch 23/50\n",
            "600/600 [==============================] - 2s 4ms/step - loss: 0.1388 - sparse_categorical_accuracy: 0.9467\n",
            "Epoch 24/50\n",
            "600/600 [==============================] - 2s 4ms/step - loss: 0.1392 - sparse_categorical_accuracy: 0.9471\n",
            "Epoch 25/50\n",
            "600/600 [==============================] - 2s 3ms/step - loss: 0.1393 - sparse_categorical_accuracy: 0.9477\n",
            "Epoch 26/50\n",
            "600/600 [==============================] - 2s 4ms/step - loss: 0.1364 - sparse_categorical_accuracy: 0.9481\n",
            "Epoch 27/50\n",
            "600/600 [==============================] - 2s 4ms/step - loss: 0.1393 - sparse_categorical_accuracy: 0.9467\n",
            "Epoch 28/50\n",
            "600/600 [==============================] - 2s 4ms/step - loss: 0.1346 - sparse_categorical_accuracy: 0.9503\n",
            "Epoch 29/50\n",
            "600/600 [==============================] - 2s 4ms/step - loss: 0.1376 - sparse_categorical_accuracy: 0.9481\n",
            "Epoch 30/50\n",
            "600/600 [==============================] - 2s 4ms/step - loss: 0.1320 - sparse_categorical_accuracy: 0.9497\n",
            "Epoch 31/50\n",
            "600/600 [==============================] - 2s 4ms/step - loss: 0.1308 - sparse_categorical_accuracy: 0.9510\n",
            "Epoch 32/50\n",
            "600/600 [==============================] - 2s 4ms/step - loss: 0.1310 - sparse_categorical_accuracy: 0.9507\n",
            "Epoch 33/50\n",
            "600/600 [==============================] - 2s 4ms/step - loss: 0.1270 - sparse_categorical_accuracy: 0.9518\n",
            "Epoch 34/50\n",
            "600/600 [==============================] - 2s 3ms/step - loss: 0.1286 - sparse_categorical_accuracy: 0.9519\n",
            "Epoch 35/50\n",
            "600/600 [==============================] - 2s 4ms/step - loss: 0.1273 - sparse_categorical_accuracy: 0.9514\n",
            "Epoch 36/50\n",
            "600/600 [==============================] - 2s 3ms/step - loss: 0.1255 - sparse_categorical_accuracy: 0.9531\n",
            "Epoch 37/50\n",
            "600/600 [==============================] - 2s 3ms/step - loss: 0.1311 - sparse_categorical_accuracy: 0.9497\n",
            "Epoch 38/50\n",
            "600/600 [==============================] - 2s 3ms/step - loss: 0.1276 - sparse_categorical_accuracy: 0.9514\n",
            "Epoch 39/50\n",
            "600/600 [==============================] - 2s 3ms/step - loss: 0.1236 - sparse_categorical_accuracy: 0.9530\n",
            "Epoch 40/50\n",
            "600/600 [==============================] - 2s 4ms/step - loss: 0.1276 - sparse_categorical_accuracy: 0.9514\n",
            "Epoch 41/50\n",
            "600/600 [==============================] - 2s 3ms/step - loss: 0.1268 - sparse_categorical_accuracy: 0.9514\n",
            "Epoch 42/50\n",
            "600/600 [==============================] - 2s 3ms/step - loss: 0.1248 - sparse_categorical_accuracy: 0.9525\n",
            "Epoch 43/50\n",
            "600/600 [==============================] - 2s 3ms/step - loss: 0.1267 - sparse_categorical_accuracy: 0.9523\n",
            "Epoch 44/50\n",
            "600/600 [==============================] - 2s 3ms/step - loss: 0.1220 - sparse_categorical_accuracy: 0.9537\n",
            "Epoch 45/50\n",
            "600/600 [==============================] - 2s 4ms/step - loss: 0.1221 - sparse_categorical_accuracy: 0.9539\n",
            "Epoch 46/50\n",
            "600/600 [==============================] - 2s 4ms/step - loss: 0.1209 - sparse_categorical_accuracy: 0.9543\n",
            "Epoch 47/50\n",
            "600/600 [==============================] - 2s 3ms/step - loss: 0.1228 - sparse_categorical_accuracy: 0.9536\n",
            "Epoch 48/50\n",
            "600/600 [==============================] - 2s 4ms/step - loss: 0.1222 - sparse_categorical_accuracy: 0.9534\n",
            "Epoch 49/50\n",
            "600/600 [==============================] - 2s 4ms/step - loss: 0.1224 - sparse_categorical_accuracy: 0.9540\n",
            "Epoch 50/50\n",
            "600/600 [==============================] - 2s 3ms/step - loss: 0.1221 - sparse_categorical_accuracy: 0.9539\n"
          ],
          "name": "stdout"
        },
        {
          "output_type": "execute_result",
          "data": {
            "text/plain": [
              "<tensorflow.python.keras.callbacks.History at 0x7f7187258208>"
            ]
          },
          "metadata": {
            "tags": []
          },
          "execution_count": 18
        }
      ]
    },
    {
      "cell_type": "markdown",
      "metadata": {
        "id": "baO1JkiGMi1u",
        "colab_type": "text"
      },
      "source": [
        "#### **Evaluación del modelo y predicción**"
      ]
    },
    {
      "cell_type": "code",
      "metadata": {
        "id": "b90ZXTV3Mliy",
        "colab_type": "code",
        "colab": {
          "base_uri": "https://localhost:8080/",
          "height": 34
        },
        "outputId": "1ce6e840-46f0-42a2-ea57-141779b28edc"
      },
      "source": [
        "test_loss, test_accuracy = model.evaluate(X_test, y_test)"
      ],
      "execution_count": 19,
      "outputs": [
        {
          "output_type": "stream",
          "text": [
            "313/313 [==============================] - 0s 1ms/step - loss: 0.4107 - sparse_categorical_accuracy: 0.8958\n"
          ],
          "name": "stdout"
        }
      ]
    },
    {
      "cell_type": "code",
      "metadata": {
        "id": "YNaFVuMdMqnP",
        "colab_type": "code",
        "colab": {
          "base_uri": "https://localhost:8080/",
          "height": 34
        },
        "outputId": "facf4d5a-51eb-49a3-a4b1-f9352de5171e"
      },
      "source": [
        "print(\"Test accuracy: {}\".format(test_accuracy))"
      ],
      "execution_count": 20,
      "outputs": [
        {
          "output_type": "stream",
          "text": [
            "Test accuracy: 0.895799994468689\n"
          ],
          "name": "stdout"
        }
      ]
    },
    {
      "cell_type": "markdown",
      "metadata": {
        "id": "K_GW718eNMb0",
        "colab_type": "text"
      },
      "source": [
        "### **Paso 5: Guardar el modelo**"
      ]
    },
    {
      "cell_type": "markdown",
      "metadata": {
        "id": "6CGaoTbPNWqP",
        "colab_type": "text"
      },
      "source": [
        "#### **Guardar la arquitectura (topología) de la red neuronal**"
      ]
    },
    {
      "cell_type": "code",
      "metadata": {
        "id": "2kR3DTpMNbqU",
        "colab_type": "code",
        "colab": {}
      },
      "source": [
        "model_json = model.to_json()\n",
        "with open(\"fashion_model.json\", \"w\") as json_file:\n",
        "    json_file.write(model_json)"
      ],
      "execution_count": 21,
      "outputs": []
    },
    {
      "cell_type": "markdown",
      "metadata": {
        "id": "cUQ--ZOtNfJk",
        "colab_type": "text"
      },
      "source": [
        "#### **Guardar los pesos de la red neuronal**¶"
      ]
    },
    {
      "cell_type": "code",
      "metadata": {
        "id": "9ANbzGLgNmXe",
        "colab_type": "code",
        "colab": {}
      },
      "source": [
        "model.save_weights(\"fashion_model.h5\")"
      ],
      "execution_count": 22,
      "outputs": []
    },
    {
      "cell_type": "code",
      "metadata": {
        "id": "x4ohBKVyNsOE",
        "colab_type": "code",
        "colab": {}
      },
      "source": [
        ""
      ],
      "execution_count": null,
      "outputs": []
    }
  ]
}