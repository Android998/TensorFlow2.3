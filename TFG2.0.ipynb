{
  "nbformat": 4,
  "nbformat_minor": 0,
  "metadata": {
    "colab": {
      "name": "TFG.ipynb",
      "provenance": [],
      "mount_file_id": "https://github.com/Android998/TensorFlow2.3/blob/master/TFG.ipynb",
      "authorship_tag": "ABX9TyOrL3k0jm9V2A7k/CjapoxJ",
      "include_colab_link": true
    },
    "kernelspec": {
      "name": "python3",
      "display_name": "Python 3"
    },
    "accelerator": "GPU"
  },
  "cells": [
    {
      "cell_type": "markdown",
      "metadata": {
        "id": "view-in-github",
        "colab_type": "text"
      },
      "source": [
        "<a href=\"https://colab.research.google.com/github/Android998/TensorFlow2.3/blob/master/TFG2.0.ipynb\" target=\"_parent\"><img src=\"https://colab.research.google.com/assets/colab-badge.svg\" alt=\"Open In Colab\"/></a>"
      ]
    },
    {
      "cell_type": "markdown",
      "metadata": {
        "id": "f5Vt5BoZk8b-"
      },
      "source": [
        "## **Paso 1: Importar las librerias**"
      ]
    },
    {
      "cell_type": "code",
      "metadata": {
        "id": "wDhZ260AcDBb"
      },
      "source": [
        "import os\n",
        "import zipfile\n",
        "import numpy as np\n",
        "import tensorflow as tf\n",
        "assert tf.__version__.startswith('2')\n",
        "import matplotlib.pyplot as plt\n",
        "\n",
        "from tensorflow.keras.constraints import MaxNorm\n",
        "from tqdm import tqdm_notebook\n",
        "from google.colab import drive\n",
        "from tensorflow.keras.preprocessing.image import ImageDataGenerator\n",
        "\n",
        "%matplotlib inline"
      ],
      "execution_count": 24,
      "outputs": []
    },
    {
      "cell_type": "markdown",
      "metadata": {
        "id": "8YSbqpAelDtV"
      },
      "source": [
        "## **Paso 2:Pre procesado de datos**"
      ]
    },
    {
      "cell_type": "code",
      "metadata": {
        "id": "Z06ryLWDlCoo",
        "outputId": "2c7dfbb7-d946-47ba-fef0-2188120198ff",
        "colab": {
          "base_uri": "https://localhost:8080/",
          "height": 34
        }
      },
      "source": [
        "drive.mount(\"/content/drive\")\n",
        "base_dir = \"./drive/My Drive/object_photos2.0\""
      ],
      "execution_count": 8,
      "outputs": [
        {
          "output_type": "stream",
          "text": [
            "Drive already mounted at /content/drive; to attempt to forcibly remount, call drive.mount(\"/content/drive\", force_remount=True).\n"
          ],
          "name": "stdout"
        }
      ]
    },
    {
      "cell_type": "code",
      "metadata": {
        "id": "6PXrwXPQum-A"
      },
      "source": [
        "IMAGE_SIZE = 224\n",
        "BATCH_SIZE = 8\n",
        "datagen = tf.keras.preprocessing.image.ImageDataGenerator(\n",
        "    rescale=1./255, \n",
        "    validation_split=0.2)\n"
      ],
      "execution_count": 47,
      "outputs": []
    },
    {
      "cell_type": "code",
      "metadata": {
        "id": "6yVvxCvxuu4e",
        "outputId": "cc717172-28d5-4b16-bba0-4f69b86e3c8f",
        "colab": {
          "base_uri": "https://localhost:8080/",
          "height": 51
        }
      },
      "source": [
        "train_generator = datagen.flow_from_directory(\n",
        "    base_dir,\n",
        "    target_size=(IMAGE_SIZE, IMAGE_SIZE),\n",
        "    batch_size=BATCH_SIZE, \n",
        "    subset='training')\n",
        "\n",
        "print(len(train_generator))"
      ],
      "execution_count": 48,
      "outputs": [
        {
          "output_type": "stream",
          "text": [
            "Found 12801 images belonging to 40 classes.\n",
            "1601\n"
          ],
          "name": "stdout"
        }
      ]
    },
    {
      "cell_type": "code",
      "metadata": {
        "id": "jTPH2N3_uwi_",
        "outputId": "e07be8ae-f2e4-4486-852a-f40698b93473",
        "colab": {
          "base_uri": "https://localhost:8080/",
          "height": 51
        }
      },
      "source": [
        "val_generator = datagen.flow_from_directory(\n",
        "    base_dir,\n",
        "    target_size=(IMAGE_SIZE, IMAGE_SIZE),\n",
        "    batch_size=BATCH_SIZE, \n",
        "    subset='validation')\n",
        "print(len(val_generator))"
      ],
      "execution_count": 49,
      "outputs": [
        {
          "output_type": "stream",
          "text": [
            "Found 3200 images belonging to 40 classes.\n",
            "400\n"
          ],
          "name": "stdout"
        }
      ]
    },
    {
      "cell_type": "markdown",
      "metadata": {
        "id": "sNtajZB5XJqp"
      },
      "source": [
        "### **Generamos el archivo labels con las etiquetas de los objetos**"
      ]
    },
    {
      "cell_type": "code",
      "metadata": {
        "id": "IHYustr0XCZp",
        "outputId": "11e1a783-32fe-4b0f-9ad9-2d3a9f6d1f8c",
        "colab": {
          "base_uri": "https://localhost:8080/",
          "height": 54
        }
      },
      "source": [
        "print (train_generator.class_indices)\n",
        "\n",
        "labels = '\\n'.join(sorted(train_generator.class_indices.keys()))\n",
        "\n",
        "with open('labels.txt', 'w') as f:\n",
        "  f.write(labels)"
      ],
      "execution_count": 13,
      "outputs": [
        {
          "output_type": "stream",
          "text": [
            "{'backpack': 0, 'bed': 1, 'belt': 2, 'blind stick': 3, 'bottle': 4, 'carpet': 5, 'cellular phone': 6, 'chair': 7, 'cup-glass': 8, 'door': 9, 'eyeglasses': 10, 'fan': 11, 'handkerchief': 12, 'headphones': 13, 'keys': 14, 'laptop': 15, 'mouse': 16, 'newspaper': 17, 'notebook': 18, 'pen': 19, 'pencil': 20, 'pillow': 21, 'plate': 22, 'plug': 23, 'printer': 24, 'radiator': 25, 'remote control': 26, 'shoes': 27, 'shorts': 28, 'socks': 29, 't-shirts': 30, 'table': 31, 'television': 32, 'toothbrush': 33, 'towel': 34, 'trash bin': 35, 'wallet': 36, 'wardrobe': 37, 'watch': 38, 'window (shade)': 39}\n"
          ],
          "name": "stdout"
        }
      ]
    },
    {
      "cell_type": "code",
      "metadata": {
        "id": "3ei7YAb_XGB1",
        "outputId": "61051e66-f380-4171-890f-954a4f3a4057",
        "colab": {
          "base_uri": "https://localhost:8080/",
          "height": 689
        }
      },
      "source": [
        "!cat labels.txt"
      ],
      "execution_count": null,
      "outputs": [
        {
          "output_type": "stream",
          "text": [
            "backpack\n",
            "bed\n",
            "belt\n",
            "blind stick\n",
            "bottle\n",
            "carpet\n",
            "cellular phone\n",
            "chair\n",
            "cup-glass\n",
            "door\n",
            "eyeglasses\n",
            "fan\n",
            "handkerchief\n",
            "headphones\n",
            "keys\n",
            "laptop\n",
            "mouse\n",
            "newspaper\n",
            "notebook\n",
            "pen\n",
            "pencil\n",
            "pillow\n",
            "plate\n",
            "plug\n",
            "printer\n",
            "radiator\n",
            "remote control\n",
            "shoes\n",
            "shorts\n",
            "socks\n",
            "t-shirt\n",
            "table\n",
            "television\n",
            "toothbrush\n",
            "towel\n",
            "trash bin\n",
            "wallet\n",
            "wardrobe\n",
            "watch\n",
            "window (shade)"
          ],
          "name": "stdout"
        }
      ]
    },
    {
      "cell_type": "markdown",
      "metadata": {
        "id": "5kY07UNKXTmd"
      },
      "source": [
        "## **Paso 3: Crear el modelo base ya entrenado**"
      ]
    },
    {
      "cell_type": "code",
      "metadata": {
        "id": "iXwprYu_VRst"
      },
      "source": [
        "IMG_SHAPE = (IMAGE_SIZE, IMAGE_SIZE, 3)"
      ],
      "execution_count": 14,
      "outputs": []
    },
    {
      "cell_type": "code",
      "metadata": {
        "id": "4MwvYSdDPMTh"
      },
      "source": [
        "modelo = tf.keras.models.Sequential()\n",
        "modelo.add(tf.keras.layers.Conv2D(filters=32, kernel_size=3, padding=\"same\", activation=\"relu\", input_shape=IMG_SHAPE))\n",
        "modelo.add(tf.keras.layers.Dropout(0.2))\n",
        "modelo.add(tf.keras.layers.BatchNormalization())\n",
        "modelo.add(tf.keras.layers.Conv2D(filters=64, kernel_size=3, padding=\"same\", activation=\"relu\"))\n",
        "modelo.add(tf.keras.layers.MaxPool2D(pool_size=2, strides=2, padding=\"same\"))\n",
        "modelo.add(tf.keras.layers.Dropout(0.2))\n",
        "modelo.add(tf.keras.layers.BatchNormalization())\n",
        "modelo.add(tf.keras.layers.Conv2D(filters=64, kernel_size=3, padding=\"same\", activation=\"relu\"))\n",
        "modelo.add(tf.keras.layers.MaxPool2D(pool_size=2, strides=2, padding=\"same\"))\n",
        "modelo.add(tf.keras.layers.Dropout(0.2))\n",
        "modelo.add(tf.keras.layers.BatchNormalization())\n",
        "modelo.add(tf.keras.layers.Conv2D(filters=128, kernel_size=3, padding=\"same\", activation=\"relu\"))\n",
        "modelo.add(tf.keras.layers.MaxPool2D(pool_size=2, strides=2, padding=\"same\"))\n",
        "modelo.add(tf.keras.layers.Dropout(0.2))\n",
        "modelo.add(tf.keras.layers.BatchNormalization())\n",
        "modelo.add(tf.keras.layers.Conv2D(filters=128, kernel_size=3, padding=\"same\", activation=\"relu\"))\n",
        "modelo.add(tf.keras.layers.MaxPool2D(pool_size=2, strides=2, padding=\"same\"))\n",
        "modelo.add(tf.keras.layers.Dropout(0.2))\n",
        "modelo.add(tf.keras.layers.BatchNormalization())\n",
        "modelo.add(tf.keras.layers.Conv2D(filters=256, kernel_size=3, padding=\"same\", activation=\"relu\"))\n",
        "modelo.add(tf.keras.layers.Dropout(0.2))\n",
        "modelo.add(tf.keras.layers.BatchNormalization())\n",
        "modelo.add(tf.keras.layers.Flatten())\n",
        "modelo.add(tf.keras.layers.Dropout(0.2))\n",
        "modelo.add(tf.keras.layers.Dense(units=256, activation=\"relu\"))\n",
        "modelo.add(tf.keras.layers.Dropout(0.2))\n",
        "modelo.add(tf.keras.layers.BatchNormalization())\n",
        "modelo.add(tf.keras.layers.Dense(units=128, activation=\"relu\"))\n",
        "modelo.add(tf.keras.layers.Dropout(0.2))\n",
        "modelo.add(tf.keras.layers.BatchNormalization())\n",
        "modelo.add(tf.keras.layers.Dense(units=40, activation=\"softmax\"))"
      ],
      "execution_count": 39,
      "outputs": []
    },
    {
      "cell_type": "code",
      "metadata": {
        "id": "Xty_0omUOTfG",
        "outputId": "e550284c-5870-4fc3-a946-f85bcd38c903",
        "colab": {
          "base_uri": "https://localhost:8080/",
          "height": 1000
        }
      },
      "source": [
        "modelo.summary()"
      ],
      "execution_count": 40,
      "outputs": [
        {
          "output_type": "stream",
          "text": [
            "Model: \"sequential_14\"\n",
            "_________________________________________________________________\n",
            "Layer (type)                 Output Shape              Param #   \n",
            "=================================================================\n",
            "conv2d_60 (Conv2D)           (None, 224, 224, 32)      896       \n",
            "_________________________________________________________________\n",
            "dropout_71 (Dropout)         (None, 224, 224, 32)      0         \n",
            "_________________________________________________________________\n",
            "batch_normalization_66 (Batc (None, 224, 224, 32)      128       \n",
            "_________________________________________________________________\n",
            "conv2d_61 (Conv2D)           (None, 224, 224, 64)      18496     \n",
            "_________________________________________________________________\n",
            "max_pooling2d_21 (MaxPooling (None, 112, 112, 64)      0         \n",
            "_________________________________________________________________\n",
            "dropout_72 (Dropout)         (None, 112, 112, 64)      0         \n",
            "_________________________________________________________________\n",
            "batch_normalization_67 (Batc (None, 112, 112, 64)      256       \n",
            "_________________________________________________________________\n",
            "conv2d_62 (Conv2D)           (None, 112, 112, 64)      36928     \n",
            "_________________________________________________________________\n",
            "max_pooling2d_22 (MaxPooling (None, 56, 56, 64)        0         \n",
            "_________________________________________________________________\n",
            "dropout_73 (Dropout)         (None, 56, 56, 64)        0         \n",
            "_________________________________________________________________\n",
            "batch_normalization_68 (Batc (None, 56, 56, 64)        256       \n",
            "_________________________________________________________________\n",
            "conv2d_63 (Conv2D)           (None, 56, 56, 128)       73856     \n",
            "_________________________________________________________________\n",
            "max_pooling2d_23 (MaxPooling (None, 28, 28, 128)       0         \n",
            "_________________________________________________________________\n",
            "dropout_74 (Dropout)         (None, 28, 28, 128)       0         \n",
            "_________________________________________________________________\n",
            "batch_normalization_69 (Batc (None, 28, 28, 128)       512       \n",
            "_________________________________________________________________\n",
            "conv2d_64 (Conv2D)           (None, 28, 28, 128)       147584    \n",
            "_________________________________________________________________\n",
            "max_pooling2d_24 (MaxPooling (None, 14, 14, 128)       0         \n",
            "_________________________________________________________________\n",
            "dropout_75 (Dropout)         (None, 14, 14, 128)       0         \n",
            "_________________________________________________________________\n",
            "batch_normalization_70 (Batc (None, 14, 14, 128)       512       \n",
            "_________________________________________________________________\n",
            "conv2d_65 (Conv2D)           (None, 14, 14, 256)       295168    \n",
            "_________________________________________________________________\n",
            "dropout_76 (Dropout)         (None, 14, 14, 256)       0         \n",
            "_________________________________________________________________\n",
            "batch_normalization_71 (Batc (None, 14, 14, 256)       1024      \n",
            "_________________________________________________________________\n",
            "flatten_13 (Flatten)         (None, 50176)             0         \n",
            "_________________________________________________________________\n",
            "dropout_77 (Dropout)         (None, 50176)             0         \n",
            "_________________________________________________________________\n",
            "dense_24 (Dense)             (None, 256)               12845312  \n",
            "_________________________________________________________________\n",
            "dropout_78 (Dropout)         (None, 256)               0         \n",
            "_________________________________________________________________\n",
            "batch_normalization_72 (Batc (None, 256)               1024      \n",
            "_________________________________________________________________\n",
            "dense_25 (Dense)             (None, 128)               32896     \n",
            "_________________________________________________________________\n",
            "dropout_79 (Dropout)         (None, 128)               0         \n",
            "_________________________________________________________________\n",
            "batch_normalization_73 (Batc (None, 128)               512       \n",
            "_________________________________________________________________\n",
            "dense_26 (Dense)             (None, 40)                5160      \n",
            "=================================================================\n",
            "Total params: 13,460,520\n",
            "Trainable params: 13,458,408\n",
            "Non-trainable params: 2,112\n",
            "_________________________________________________________________\n"
          ],
          "name": "stdout"
        }
      ]
    },
    {
      "cell_type": "code",
      "metadata": {
        "id": "t8oS6D2mVKTB"
      },
      "source": [
        "modelo.compile(optimizer=tf.keras.optimizers.Adam(lr=0.0001), \n",
        "               loss='categorical_crossentropy', \n",
        "               metrics=['accuracy'])"
      ],
      "execution_count": 50,
      "outputs": []
    },
    {
      "cell_type": "code",
      "metadata": {
        "id": "mp3UykJ8VWcO",
        "outputId": "4054f71c-5f4c-4ace-c6fd-29a28c833fa6",
        "colab": {
          "base_uri": "https://localhost:8080/",
          "height": 697
        }
      },
      "source": [
        "history = modelo.fit(train_generator, \n",
        "           steps_per_epoch=len(train_generator), \n",
        "           epochs=20,\n",
        "           validation_data=val_generator, \n",
        "           validation_steps=len(val_generator))"
      ],
      "execution_count": 52,
      "outputs": [
        {
          "output_type": "stream",
          "text": [
            "Epoch 1/20\n",
            "1601/1601 [==============================] - 112s 70ms/step - loss: 1.2650 - accuracy: 0.6282 - val_loss: 4.2032 - val_accuracy: 0.1912\n",
            "Epoch 2/20\n",
            "1601/1601 [==============================] - 112s 70ms/step - loss: 1.3303 - accuracy: 0.6139 - val_loss: 4.2427 - val_accuracy: 0.1909\n",
            "Epoch 3/20\n",
            "1601/1601 [==============================] - 112s 70ms/step - loss: 1.2672 - accuracy: 0.6263 - val_loss: 4.4356 - val_accuracy: 0.1822\n",
            "Epoch 4/20\n",
            "1601/1601 [==============================] - 112s 70ms/step - loss: 1.3352 - accuracy: 0.6085 - val_loss: 4.2152 - val_accuracy: 0.1872\n",
            "Epoch 5/20\n",
            "1601/1601 [==============================] - 112s 70ms/step - loss: 1.3330 - accuracy: 0.6114 - val_loss: 4.4498 - val_accuracy: 0.1900\n",
            "Epoch 6/20\n",
            "1601/1601 [==============================] - 113s 71ms/step - loss: 1.2527 - accuracy: 0.6251 - val_loss: 4.5185 - val_accuracy: 0.1916\n",
            "Epoch 7/20\n",
            "1601/1601 [==============================] - 113s 70ms/step - loss: 1.2519 - accuracy: 0.6302 - val_loss: 5.0577 - val_accuracy: 0.1866\n",
            "Epoch 8/20\n",
            "1601/1601 [==============================] - 113s 70ms/step - loss: 1.3766 - accuracy: 0.6017 - val_loss: 4.6402 - val_accuracy: 0.1813\n",
            "Epoch 9/20\n",
            "1601/1601 [==============================] - 113s 70ms/step - loss: 1.3621 - accuracy: 0.6040 - val_loss: 4.2042 - val_accuracy: 0.1781\n",
            "Epoch 10/20\n",
            "1601/1601 [==============================] - 113s 71ms/step - loss: 1.2559 - accuracy: 0.6292 - val_loss: 4.5358 - val_accuracy: 0.1762\n",
            "Epoch 11/20\n",
            "1601/1601 [==============================] - 113s 71ms/step - loss: 1.3026 - accuracy: 0.6143 - val_loss: 4.2833 - val_accuracy: 0.1872\n",
            "Epoch 12/20\n",
            "1601/1601 [==============================] - 113s 70ms/step - loss: 1.3487 - accuracy: 0.6102 - val_loss: 4.3455 - val_accuracy: 0.1900\n",
            "Epoch 13/20\n",
            "1601/1601 [==============================] - 113s 70ms/step - loss: 1.3156 - accuracy: 0.6184 - val_loss: 4.3926 - val_accuracy: 0.1809\n",
            "Epoch 14/20\n",
            "1601/1601 [==============================] - 113s 71ms/step - loss: 1.3235 - accuracy: 0.6144 - val_loss: 4.2442 - val_accuracy: 0.1887\n",
            "Epoch 15/20\n",
            "1601/1601 [==============================] - 112s 70ms/step - loss: 1.3099 - accuracy: 0.6172 - val_loss: 4.2490 - val_accuracy: 0.1716\n",
            "Epoch 16/20\n",
            "1601/1601 [==============================] - 113s 70ms/step - loss: 1.2735 - accuracy: 0.6232 - val_loss: 4.2398 - val_accuracy: 0.1975\n",
            "Epoch 17/20\n",
            "1601/1601 [==============================] - 113s 71ms/step - loss: 1.2102 - accuracy: 0.6444 - val_loss: 4.3885 - val_accuracy: 0.1859\n",
            "Epoch 18/20\n",
            "1601/1601 [==============================] - 114s 71ms/step - loss: 1.1947 - accuracy: 0.6472 - val_loss: 4.3947 - val_accuracy: 0.1891\n",
            "Epoch 19/20\n",
            "1601/1601 [==============================] - 113s 70ms/step - loss: 1.1902 - accuracy: 0.6476 - val_loss: 4.2948 - val_accuracy: 0.1797\n",
            "Epoch 20/20\n",
            "1601/1601 [==============================] - 113s 70ms/step - loss: 1.2103 - accuracy: 0.6464 - val_loss: 4.7253 - val_accuracy: 0.1703\n"
          ],
          "name": "stdout"
        }
      ]
    },
    {
      "cell_type": "code",
      "metadata": {
        "id": "APNz2I6WUSX6",
        "outputId": "ebc95e00-c80d-4b5a-e16a-49d19c89bc7d",
        "colab": {
          "base_uri": "https://localhost:8080/",
          "height": 513
        }
      },
      "source": [
        "acc = history.history['accuracy']\n",
        "val_acc = history.history['val_accuracy']\n",
        "\n",
        "loss = history.history['loss']\n",
        "val_loss = history.history['val_loss']\n",
        "\n",
        "plt.figure(figsize=(8, 8))\n",
        "plt.subplot(2, 1, 1)\n",
        "plt.plot(acc, label='Training Accuracy')\n",
        "plt.plot(val_acc, label='Validation Accuracy')\n",
        "plt.legend(loc='lower right')\n",
        "plt.ylabel('Accuracy')\n",
        "plt.ylim([min(plt.ylim()),1])\n",
        "plt.title('Training and Validation Accuracy')\n",
        "\n",
        "plt.subplot(2, 1, 2)\n",
        "plt.plot(loss, label='Training Loss')\n",
        "plt.plot(val_loss, label='Validation Loss')\n",
        "plt.legend(loc='upper right')\n",
        "plt.ylabel('Cross Entropy')\n",
        "plt.ylim([0,1.0])\n",
        "plt.title('Training and Validation Loss')\n",
        "plt.xlabel('epoch')\n",
        "plt.show()"
      ],
      "execution_count": 53,
      "outputs": [
        {
          "output_type": "display_data",
          "data": {
            "image/png": "[encoded data removed]",
            "text/plain": [
              "<Figure size 576x576 with 2 Axes>"
            ]
          },
          "metadata": {
            "tags": [],
            "needs_background": "light"
          }
        }
      ]
    }
  ]
}